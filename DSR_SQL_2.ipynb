{
  "nbformat": 4,
  "nbformat_minor": 0,
  "metadata": {
    "colab": {
      "provenance": [],
      "gpuType": "T4",
      "include_colab_link": true
    },
    "kernelspec": {
      "name": "ir",
      "display_name": "R"
    },
    "language_info": {
      "name": "R"
    },
    "accelerator": "GPU"
  },
  "cells": [
    {
      "cell_type": "markdown",
      "metadata": {
        "id": "view-in-github",
        "colab_type": "text"
      },
      "source": [
        "<a href=\"https://colab.research.google.com/github/vuongdenchoi/introductionwithR/blob/main/DSR_SQL_2.ipynb\" target=\"_parent\"><img src=\"https://colab.research.google.com/assets/colab-badge.svg\" alt=\"Open In Colab\"/></a>"
      ]
    },
    {
      "cell_type": "code",
      "source": [
        "# Install required libraries\n",
        "install.packages('RSQLite')"
      ],
      "metadata": {
        "colab": {
          "base_uri": "https://localhost:8080/"
        },
        "id": "rekqFnGhzTg-",
        "outputId": "0b685ba9-43b2-4d64-d739-902d5273d2d2"
      },
      "execution_count": null,
      "outputs": [
        {
          "output_type": "stream",
          "name": "stderr",
          "text": [
            "Installing package into ‘/usr/local/lib/R/site-library’\n",
            "(as ‘lib’ is unspecified)\n",
            "\n",
            "also installing the dependency ‘plogr’\n",
            "\n",
            "\n"
          ]
        }
      ]
    },
    {
      "cell_type": "code",
      "execution_count": null,
      "metadata": {
        "id": "Nq1pjaOoy_uX"
      },
      "outputs": [],
      "source": [
        "# Load required libraries\n",
        "library(DBI)\n",
        "library(RSQLite)"
      ]
    },
    {
      "cell_type": "markdown",
      "source": [
        "# Database Creation and Basic Operations\n",
        "\n",
        "Task 1: Create a database with two tables (departments and employees) and insert sample data.\n",
        "* departments infomation and sample data\n",
        "\n",
        "| dept_id\t(PRIMARY KEY)| dept_name|\tlocation|\n",
        "| --- |\t--- |\t--- |\n",
        "| \\<int>| \\<chr> | \\<char> |\n",
        "| 1 |\tIT |\tNew York|\n",
        "| 2 |\tHR |\tChicago|\n",
        "| 3 |\tSales |\tLos Angeles|\n",
        "| 4\t| Marketing\t|Boston|\n",
        "\n",
        "* employees information and sample data\n",
        "\n",
        "| emp_id (PRIMARY KEY) |\tfirst_name |\tlast_name|\tdept_id (FOREIGN KEY)|\tsalary|\thire_date|\n",
        "|---|---|---|---|---|---|\n",
        "|\\<int>|\t\\<chr>\t|\\<chr>\t|\\<int>\t|\\<int>\t|\\<chr>|\n",
        "|1|\tJohn\t|Smith|\t1|\t78750\t|2020-01-15|\n",
        "|2|\tMary\t|Johnson|\t2|\t65000\t|2019-03-20|\n",
        "|3|\tRobert\t|Brown|\t1|\t84000\t|2018-11-10|\n",
        "|4|\tPatricia|\tWilson|\t3|\t70000|\t2021-02-28|\n",
        "|5|\tMichael\t|Davis|\t3|\t72000|\t2020-07-15|\n",
        "|6|\tLinda\t|Garcia|\t2|\t67000\t|2019-09-01|\n"
      ],
      "metadata": {
        "id": "YMNss4DbBYRN"
      }
    },
    {
      "cell_type": "code",
      "source": [
        "# Create connection to SQLite database\n",
        "con <- dbConnect(RSQLite::SQLite(), \"company.db\")\n",
        "\n",
        "# Create sample tables\n",
        "dbExecute(con, \"\n",
        "  CREATE TABLE IF NOT EXISTS departments (\n",
        "   dept_id INTEGER PRIMARY KEY,\n",
        "   dept_name TEXT,\n",
        "   location TEXT\n",
        "  )\")\n",
        "\n",
        "dbExecute(con, \"\n",
        "  CREATE TABLE IF NOT EXISTS employees (\n",
        "    emp_id INTEGER PRIMARY KEY,\n",
        "    first_name TEXT,\n",
        "    last_name TEXT,\n",
        "    dept_id INTEGER,\n",
        "    salary INTERGER,\n",
        "    hire_date TEXT,\n",
        "    FOREIGN KEY (dept_id) REFERENCES departments(dept_id)\n",
        "  )\")\n",
        "\n",
        "# Insert sample data\n",
        "dbExecute(con, \"\n",
        "  INSERT INTO departments (dept_id, dept_name, location) VALUES\n",
        "  (1, 'IT', 'New York'),\n",
        "  (2, 'HR', 'Chicago'),\n",
        "  (3, 'Sales', 'Los Angeles'),\n",
        "  (4, 'Marketing', 'Boston')\")\n",
        "\n",
        "dbExecute(con, \"\n",
        "  INSERT INTO employees (emp_id, first_name, last_name, dept_id, salary, hire_date) VALUES\n",
        "  (1, 'John', 'Smith', 1, 78750, '2020-01-15'),\n",
        "  (2, 'Mary', 'Johnson', 2, 65000, '2019-03-20'),\n",
        "  (3, 'Robert', 'Brown', 1, 84000, '2018-11-10'),\n",
        "  (4, 'Patricia', 'Wilson', 3, 70000, '2021-02-28'),\n",
        "  (5, 'Michael', 'Davis', 3, 72000, '2020-07-15'),\n",
        "  (6, 'Linda', 'Garcia', 2, 67000, '2019-09-01')\")\n"
      ],
      "metadata": {
        "id": "oobaPOYOzt7U",
        "collapsed": true,
        "colab": {
          "base_uri": "https://localhost:8080/",
          "height": 86
        },
        "outputId": "8a43c7f6-f7f5-4ba0-fa7b-62cc13db7307"
      },
      "execution_count": null,
      "outputs": [
        {
          "output_type": "display_data",
          "data": {
            "text/html": [
              "0"
            ],
            "text/markdown": "0",
            "text/latex": "0",
            "text/plain": [
              "[1] 0"
            ]
          },
          "metadata": {}
        },
        {
          "output_type": "display_data",
          "data": {
            "text/html": [
              "0"
            ],
            "text/markdown": "0",
            "text/latex": "0",
            "text/plain": [
              "[1] 0"
            ]
          },
          "metadata": {}
        },
        {
          "output_type": "display_data",
          "data": {
            "text/html": [
              "4"
            ],
            "text/markdown": "4",
            "text/latex": "4",
            "text/plain": [
              "[1] 4"
            ]
          },
          "metadata": {}
        },
        {
          "output_type": "display_data",
          "data": {
            "text/html": [
              "6"
            ],
            "text/markdown": "6",
            "text/latex": "6",
            "text/plain": [
              "[1] 6"
            ]
          },
          "metadata": {}
        }
      ]
    },
    {
      "cell_type": "markdown",
      "source": [
        "Task 2:\n",
        "\n",
        "2.1 Find employees with salary greater than 70000 and sort by salary in descending order.\n",
        "\n",
        "2.2 Find employees working in New York location\n",
        "\n",
        "2.3 Calculate department statistics for departments with more than 1 employee"
      ],
      "metadata": {
        "id": "0iyL2xYaFSlE"
      }
    },
    {
      "cell_type": "code",
      "source": [
        "# Function to execute queries and display results\n",
        "\n",
        "run_query <- function(query) {\n",
        "  result <- dbGetQuery(con, query)\n",
        "  print(result)\n",
        "  return(result)\n",
        "}\n",
        "\n",
        "# 2.1\n",
        "query1 <- \"SELECT * FROM employees WHERE salary > 70000 ORDER BY salary DESC\"\n",
        "\n",
        "# 2.2\n",
        "query2 <- \"SELECT e.first_name, e.last_name\n",
        "           FROM employees e\n",
        "           JOIN departments d ON e.dept_id = d.dept_id\n",
        "           WHERE d.location = 'New York'\"\n",
        "\n",
        "# 2.3\n",
        "query3 <- \"SELECT d.dept_name, COUNT(*) AS num_employees, AVG(e.salary) AS avg_salary\n",
        "           FROM employees e\n",
        "           JOIN departments d ON e.dept_id = d.dept_id\n",
        "           GROUP BY d.dept_name\n",
        "           HAVING COUNT(*) > 1\"\n",
        "\n",
        "run_query(query1)\n",
        "run_query(query2)\n",
        "run_query(query3)"
      ],
      "metadata": {
        "id": "8JIW8IkX0N9e",
        "colab": {
          "base_uri": "https://localhost:8080/",
          "height": 701
        },
        "outputId": "6e5e0f33-782e-4e22-8215-b582354394b2"
      },
      "execution_count": null,
      "outputs": [
        {
          "output_type": "stream",
          "name": "stdout",
          "text": [
            "  emp_id first_name last_name dept_id salary  hire_date\n",
            "1      3     Robert     Brown       1  84000 2018-11-10\n",
            "2      1       John     Smith       1  78750 2020-01-15\n",
            "3      5    Michael     Davis       3  72000 2020-07-15\n"
          ]
        },
        {
          "output_type": "display_data",
          "data": {
            "text/html": [
              "<table class=\"dataframe\">\n",
              "<caption>A data.frame: 3 × 6</caption>\n",
              "<thead>\n",
              "\t<tr><th scope=col>emp_id</th><th scope=col>first_name</th><th scope=col>last_name</th><th scope=col>dept_id</th><th scope=col>salary</th><th scope=col>hire_date</th></tr>\n",
              "\t<tr><th scope=col>&lt;int&gt;</th><th scope=col>&lt;chr&gt;</th><th scope=col>&lt;chr&gt;</th><th scope=col>&lt;int&gt;</th><th scope=col>&lt;int&gt;</th><th scope=col>&lt;chr&gt;</th></tr>\n",
              "</thead>\n",
              "<tbody>\n",
              "\t<tr><td>3</td><td>Robert </td><td>Brown</td><td>1</td><td>84000</td><td>2018-11-10</td></tr>\n",
              "\t<tr><td>1</td><td>John   </td><td>Smith</td><td>1</td><td>78750</td><td>2020-01-15</td></tr>\n",
              "\t<tr><td>5</td><td>Michael</td><td>Davis</td><td>3</td><td>72000</td><td>2020-07-15</td></tr>\n",
              "</tbody>\n",
              "</table>\n"
            ],
            "text/markdown": "\nA data.frame: 3 × 6\n\n| emp_id &lt;int&gt; | first_name &lt;chr&gt; | last_name &lt;chr&gt; | dept_id &lt;int&gt; | salary &lt;int&gt; | hire_date &lt;chr&gt; |\n|---|---|---|---|---|---|\n| 3 | Robert  | Brown | 1 | 84000 | 2018-11-10 |\n| 1 | John    | Smith | 1 | 78750 | 2020-01-15 |\n| 5 | Michael | Davis | 3 | 72000 | 2020-07-15 |\n\n",
            "text/latex": "A data.frame: 3 × 6\n\\begin{tabular}{llllll}\n emp\\_id & first\\_name & last\\_name & dept\\_id & salary & hire\\_date\\\\\n <int> & <chr> & <chr> & <int> & <int> & <chr>\\\\\n\\hline\n\t 3 & Robert  & Brown & 1 & 84000 & 2018-11-10\\\\\n\t 1 & John    & Smith & 1 & 78750 & 2020-01-15\\\\\n\t 5 & Michael & Davis & 3 & 72000 & 2020-07-15\\\\\n\\end{tabular}\n",
            "text/plain": [
              "  emp_id first_name last_name dept_id salary hire_date \n",
              "1 3      Robert     Brown     1       84000  2018-11-10\n",
              "2 1      John       Smith     1       78750  2020-01-15\n",
              "3 5      Michael    Davis     3       72000  2020-07-15"
            ]
          },
          "metadata": {}
        },
        {
          "output_type": "stream",
          "name": "stdout",
          "text": [
            "  first_name last_name\n",
            "1       John     Smith\n",
            "2     Robert     Brown\n"
          ]
        },
        {
          "output_type": "display_data",
          "data": {
            "text/html": [
              "<table class=\"dataframe\">\n",
              "<caption>A data.frame: 2 × 2</caption>\n",
              "<thead>\n",
              "\t<tr><th scope=col>first_name</th><th scope=col>last_name</th></tr>\n",
              "\t<tr><th scope=col>&lt;chr&gt;</th><th scope=col>&lt;chr&gt;</th></tr>\n",
              "</thead>\n",
              "<tbody>\n",
              "\t<tr><td>John  </td><td>Smith</td></tr>\n",
              "\t<tr><td>Robert</td><td>Brown</td></tr>\n",
              "</tbody>\n",
              "</table>\n"
            ],
            "text/markdown": "\nA data.frame: 2 × 2\n\n| first_name &lt;chr&gt; | last_name &lt;chr&gt; |\n|---|---|\n| John   | Smith |\n| Robert | Brown |\n\n",
            "text/latex": "A data.frame: 2 × 2\n\\begin{tabular}{ll}\n first\\_name & last\\_name\\\\\n <chr> & <chr>\\\\\n\\hline\n\t John   & Smith\\\\\n\t Robert & Brown\\\\\n\\end{tabular}\n",
            "text/plain": [
              "  first_name last_name\n",
              "1 John       Smith    \n",
              "2 Robert     Brown    "
            ]
          },
          "metadata": {}
        },
        {
          "output_type": "stream",
          "name": "stdout",
          "text": [
            "  dept_name num_employees avg_salary\n",
            "1        HR             2      66000\n",
            "2        IT             2      81375\n",
            "3     Sales             2      71000\n"
          ]
        },
        {
          "output_type": "display_data",
          "data": {
            "text/html": [
              "<table class=\"dataframe\">\n",
              "<caption>A data.frame: 3 × 3</caption>\n",
              "<thead>\n",
              "\t<tr><th scope=col>dept_name</th><th scope=col>num_employees</th><th scope=col>avg_salary</th></tr>\n",
              "\t<tr><th scope=col>&lt;chr&gt;</th><th scope=col>&lt;int&gt;</th><th scope=col>&lt;dbl&gt;</th></tr>\n",
              "</thead>\n",
              "<tbody>\n",
              "\t<tr><td>HR   </td><td>2</td><td>66000</td></tr>\n",
              "\t<tr><td>IT   </td><td>2</td><td>81375</td></tr>\n",
              "\t<tr><td>Sales</td><td>2</td><td>71000</td></tr>\n",
              "</tbody>\n",
              "</table>\n"
            ],
            "text/markdown": "\nA data.frame: 3 × 3\n\n| dept_name &lt;chr&gt; | num_employees &lt;int&gt; | avg_salary &lt;dbl&gt; |\n|---|---|---|\n| HR    | 2 | 66000 |\n| IT    | 2 | 81375 |\n| Sales | 2 | 71000 |\n\n",
            "text/latex": "A data.frame: 3 × 3\n\\begin{tabular}{lll}\n dept\\_name & num\\_employees & avg\\_salary\\\\\n <chr> & <int> & <dbl>\\\\\n\\hline\n\t HR    & 2 & 66000\\\\\n\t IT    & 2 & 81375\\\\\n\t Sales & 2 & 71000\\\\\n\\end{tabular}\n",
            "text/plain": [
              "  dept_name num_employees avg_salary\n",
              "1 HR        2             66000     \n",
              "2 IT        2             81375     \n",
              "3 Sales     2             71000     "
            ]
          },
          "metadata": {}
        }
      ]
    },
    {
      "cell_type": "markdown",
      "source": [
        "Task 3: Write a funtion with input department name, calculate as below:\n",
        "\n",
        "* Employee count\n",
        "* Average salary\n",
        "* Minimum salary\n",
        "* Maximum salary\n",
        "* Total payroll\n",
        "* Average years employed"
      ],
      "metadata": {
        "id": "l6askybfIAqr"
      }
    },
    {
      "cell_type": "code",
      "source": [
        "# Task 3\n",
        "\n",
        "analyze_department_stats <- function(dept_name) {\n",
        "  query <- paste0(\"\n",
        "    SELECT\n",
        "      COUNT(*) AS EmployeeCount,                -- Số lượng nhân viên\n",
        "      AVG(e.salary) AS AverageSalary,          -- Lương trung bình\n",
        "      MIN(e.salary) AS MinimumSalary,          -- Lương tối thiểu\n",
        "      MAX(e.salary) AS MaximumSalary,          -- Lương tối đa\n",
        "      SUM(e.salary) AS TotalPayroll,           -- Tổng lương\n",
        "      AVG(STRFTIME('%J', 'now') - STRFTIME('%J', e.hire_date)) / 365.0 AS AverageYearsEmployed  -- Thời gian làm việc trung bình (năm)\n",
        "    FROM employees e\n",
        "    JOIN departments d ON e.dept_id = d.dept_id\n",
        "    WHERE d.dept_name = '\", dept_name, \"'\")\n",
        "  result <- dbGetQuery(con, query)\n",
        "  return(result)\n",
        "}"
      ],
      "metadata": {
        "id": "xAK7K5am0YWq"
      },
      "execution_count": null,
      "outputs": []
    },
    {
      "cell_type": "code",
      "source": [
        "# Test the functions\n",
        "print(\"Department Statistics for IT:\")\n",
        "print(analyze_department_stats(\"IT\"))"
      ],
      "metadata": {
        "id": "6gFeMvKzJ6KQ",
        "colab": {
          "base_uri": "https://localhost:8080/"
        },
        "outputId": "cbfa416f-a5ea-4b9c-e17b-a5a66bc7a7dd"
      },
      "execution_count": null,
      "outputs": [
        {
          "output_type": "stream",
          "name": "stdout",
          "text": [
            "[1] \"Department Statistics for IT:\"\n",
            "  EmployeeCount AverageSalary MinimumSalary MaximumSalary TotalPayroll\n",
            "1             2         81375         78750         84000       162750\n",
            "  AverageYearsEmployed\n",
            "1             5.678247\n"
          ]
        }
      ]
    },
    {
      "cell_type": "markdown",
      "source": [
        "Task 4: Write a function that gives a percentage raise to all employees in a specific department."
      ],
      "metadata": {
        "id": "jI_UgITOJ-el"
      }
    },
    {
      "cell_type": "code",
      "source": [
        "# Task 4:\n",
        "\n",
        "give_department_raise <- function(dept_id, raise_percentage) {\n",
        "    query <- sprintf(\"\n",
        "    UPDATE employees\n",
        "    SET salary = salary * (1 + %f/100)\n",
        "    WHERE dept_id = \",raise_percentage, dept_id)\n",
        "    dbExecute(con, query)\n",
        "\n",
        "\n",
        " }"
      ],
      "metadata": {
        "id": "LUM3Jrzm0ZjI"
      },
      "execution_count": null,
      "outputs": []
    },
    {
      "cell_type": "code",
      "source": [
        "# Test the functions\n",
        "print(\"\\nGiving 7% raise to IT department (dept_id = 1):\")\n",
        "give_department_raise(1, 7)\n",
        "\n"
      ],
      "metadata": {
        "id": "4NC6GZ3A0ele",
        "colab": {
          "base_uri": "https://localhost:8080/",
          "height": 560
        },
        "outputId": "1c66f13e-1d3d-489c-ff30-fd464405da0e"
      },
      "execution_count": null,
      "outputs": [
        {
          "output_type": "stream",
          "name": "stdout",
          "text": [
            "[1] \"\\nGiving 7% raise to IT department (dept_id = 1):\"\n"
          ]
        },
        {
          "output_type": "stream",
          "name": "stderr",
          "text": [
            "Warning message in sprintf(\"\\n    UPDATE employees \\n    SET salary = salary * (1 + %f/100) \\n    WHERE dept_id = \", :\n",
            "“one argument not used by format '\n",
            "    UPDATE employees \n",
            "    SET salary = salary * (1 + %f/100) \n",
            "    WHERE dept_id = '”\n"
          ]
        },
        {
          "output_type": "error",
          "ename": "ERROR",
          "evalue": "Error: incomplete input\n",
          "traceback": [
            "Error: incomplete input\nTraceback:\n",
            "1. dbExecute(con, query)",
            "2. dbExecute(con, query)",
            "3. dbSendStatement(conn, statement, ...)",
            "4. dbSendStatement(conn, statement, ...)",
            "5. dbSendQuery(conn, statement, ...)",
            "6. dbSendQuery(conn, statement, ...)",
            "7. .local(conn, statement, ...)",
            "8. new(\"SQLiteResult\", sql = statement, ptr = result_create(conn@ptr, \n .     statement), conn = conn, bigint = conn@bigint)",
            "9. initialize(value, ...)",
            "10. initialize(value, ...)",
            "11. result_create(conn@ptr, statement)",
            "12. .handleSimpleError(function (cnd) \n  . {\n  .     watcher$capture_plot_and_output()\n  .     cnd <- sanitize_call(cnd)\n  .     watcher$push(cnd)\n  .     switch(on_error, continue = invokeRestart(\"eval_continue\"), \n  .         stop = invokeRestart(\"eval_stop\"), error = NULL)\n  . }, \"incomplete input\", base::quote(NULL))"
          ]
        }
      ]
    },
    {
      "cell_type": "code",
      "source": [
        "\n",
        "query <- \"SELECT * FROM employees;\"\n",
        "employees_data <- dbGetQuery(con, query)\n",
        "\n",
        "print(employees_data)"
      ],
      "metadata": {
        "colab": {
          "base_uri": "https://localhost:8080/"
        },
        "id": "oFgUrzwhK0Nj",
        "outputId": "c937e59c-9489-4ac9-d261-aac4d2f699e6"
      },
      "execution_count": null,
      "outputs": [
        {
          "output_type": "stream",
          "name": "stdout",
          "text": [
            "  emp_id first_name last_name dept_id salary  hire_date\n",
            "1      1       John     Smith       1  78750 2020-01-15\n",
            "2      2       Mary   Johnson       2  65000 2019-03-20\n",
            "3      3     Robert     Brown       1  84000 2018-11-10\n",
            "4      4   Patricia    Wilson       3  70000 2021-02-28\n",
            "5      5    Michael     Davis       3  72000 2020-07-15\n",
            "6      6      Linda    Garcia       2  67000 2019-09-01\n"
          ]
        }
      ]
    },
    {
      "cell_type": "markdown",
      "source": [
        "Task 5: Write a function, a summary department report showing:\n",
        "\n",
        "* Department name\n",
        "* Employee count\n",
        "* Average salary\n",
        "* Total payroll\n",
        "* Earliest hire date\n",
        "* Latest hire date\n",
        "* Cost per employee = Total payroll / Employee count"
      ],
      "metadata": {
        "id": "prQ-X3yxQjcM"
      }
    },
    {
      "cell_type": "code",
      "source": [
        "# Task 5\n",
        "\n",
        "generate_department_report <- function() {\n",
        "  report_query <- \"\n",
        "    SELECT\n",
        "      d.dept_name AS DepartmentName,            -- Tên phòng ban\n",
        "      COUNT(e.emp_id) AS EmployeeCount,         -- Số lượng nhân viên\n",
        "      AVG(e.salary) AS AverageSalary,           -- Lương trung bình\n",
        "      SUM(e.salary) AS TotalPayroll,            -- Tổng lương\n",
        "      MIN(e.hire_date) AS EarliestHireDate,     -- Ngày tuyển dụng sớm nhất\n",
        "      MAX(e.hire_date) AS LatestHireDate,       -- Ngày tuyển dụng gần nhất\n",
        "      SUM(e.salary) / COUNT(e.emp_id) AS CostPerEmployee  -- Chi phí cho mỗi nhân viên\n",
        "    FROM employees e\n",
        "    JOIN departments d ON e.dept_id = d.dept_id\n",
        "    GROUP BY d.dept_name                            -- Nhóm theo tên phòng ban\n",
        "    ORDER BY d.dept_name\"\n",
        "\n",
        "  result <- dbGetQuery(con, report_query)\n",
        "  return(result)\n",
        "}\n"
      ],
      "metadata": {
        "id": "Ab_ISI0x0hAL"
      },
      "execution_count": null,
      "outputs": []
    },
    {
      "cell_type": "code",
      "source": [
        "# Test the functions\n",
        "print(\"\\nSummary Department Report:\")\n",
        "print(generate_department_report())\n"
      ],
      "metadata": {
        "id": "onnBYFn6RzN4",
        "colab": {
          "base_uri": "https://localhost:8080/"
        },
        "outputId": "c8517fed-9aba-459c-80e9-0a8c40c3b6ed"
      },
      "execution_count": null,
      "outputs": [
        {
          "output_type": "stream",
          "name": "stdout",
          "text": [
            "[1] \"\\nSummary Department Report:\"\n",
            "  DepartmentName EmployeeCount AverageSalary TotalPayroll EarliestHireDate\n",
            "1             HR             2         66000       132000       2019-03-20\n",
            "2             IT             2         81375       162750       2018-11-10\n",
            "3          Sales             2         71000       142000       2020-07-15\n",
            "  LatestHireDate CostPerEmployee\n",
            "1     2019-09-01           66000\n",
            "2     2020-01-15           81375\n",
            "3     2021-02-28           71000\n"
          ]
        }
      ]
    },
    {
      "cell_type": "code",
      "source": [
        "# Clean up\n",
        "dbDisconnect(con)"
      ],
      "metadata": {
        "id": "J_uiIdRRRzWc"
      },
      "execution_count": null,
      "outputs": []
    }
  ]
}