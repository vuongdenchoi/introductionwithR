{
  "nbformat": 4,
  "nbformat_minor": 0,
  "metadata": {
    "colab": {
      "provenance": [],
      "include_colab_link": true
    },
    "kernelspec": {
      "name": "ir",
      "display_name": "R"
    },
    "language_info": {
      "name": "R"
    }
  },
  "cells": [
    {
      "cell_type": "markdown",
      "metadata": {
        "id": "view-in-github",
        "colab_type": "text"
      },
      "source": [
        "<a href=\"https://colab.research.google.com/github/vuongdenchoi/introductionwithR/blob/main/DSR_SQL_1.ipynb\" target=\"_parent\"><img src=\"https://colab.research.google.com/assets/colab-badge.svg\" alt=\"Open In Colab\"/></a>"
      ]
    },
    {
      "cell_type": "code",
      "source": [
        "# Install required libraries\n",
        "install.packages('RSQLite')"
      ],
      "metadata": {
        "id": "rekqFnGhzTg-",
        "colab": {
          "base_uri": "https://localhost:8080/"
        },
        "outputId": "108b37df-3016-4512-b6f4-60afc6d0fd3e"
      },
      "execution_count": 1,
      "outputs": [
        {
          "output_type": "stream",
          "name": "stderr",
          "text": [
            "Installing package into ‘/usr/local/lib/R/site-library’\n",
            "(as ‘lib’ is unspecified)\n",
            "\n",
            "also installing the dependency ‘plogr’\n",
            "\n",
            "\n"
          ]
        }
      ]
    },
    {
      "cell_type": "code",
      "execution_count": 2,
      "metadata": {
        "id": "Nq1pjaOoy_uX"
      },
      "outputs": [],
      "source": [
        "# Load required libraries\n",
        "library(DBI)\n",
        "library(RSQLite)"
      ]
    },
    {
      "cell_type": "code",
      "source": [],
      "metadata": {
        "id": "28wpWyrUgaug"
      },
      "execution_count": null,
      "outputs": []
    },
    {
      "cell_type": "markdown",
      "source": [
        "Create a database with two tables (departments and students) and insert sample data.\n",
        "* departments infomation and sample data\n",
        "\n",
        "|dept_id (PRIMARY KEY)|\tdept_name|\n",
        "|---|---|\n",
        "|\\<chr>|\t\\<chr>|\n",
        "|K1\t|department of mathematics|\n",
        "|K2|\tdepartment of physics|\n",
        "|K3|\tdepartment of chemistry|\n",
        "\n",
        "\n",
        "* students information and sample data\n",
        "\n",
        "|student_id ( PRIMARY KEY)|\tname|\tdob\t|address|\tdept_id (FOREIGN KEY)|\n",
        "|---|---|---|---|---|\n",
        "|\\<int>|\t\\<chr>\t|\\<chr>|\t\\<chr>|\t\\<chr>|\n",
        "|1|\tBui Van L|\t2001-11-11|\t110 Nguyen Chi Thanh, Ha Noi|\tK3|\n",
        "|2|\tHoang Thi N\t|2001-05-21|\t123 Hang Bai, Ha Noi\t|K2|\n",
        "|3|\tLe Van I|\t2001-06-30|\t606 Hoang Van Thu, TP.HCM\t|K2|\n",
        "|4|\tTran Thi J|\t2000-03-08\t|717 Nguyen Trai, Da Nang\t|K2|\n",
        "|5|\tNguyen Van B|\t2000-12-15|456 Le Duan, TP.HCM\t|K1|\n",
        "|6|\tLe Thi A\t|2001-06-20\t|123 Hai Ba Trung, TP.HCM\t|K2|\n",
        "|7|\tTran Van C\t|2002-01-10|\t789 Tran Hung Dao, Ha Noi|\tK3|\n",
        "|8|\tPham Thi Q|\t2001-09-09|\t456 Pho Hue, Ha Noi|\tK3|\n",
        "|9|\tVo Van T\t|2002-06-27|\t616 Tran Nhan Tong, Ha Noi|\tK3|\n",
        "|10\t|Pham Thi D|\t2001-09-05|\t101 Ba Trieu, Da Nang|\tK1|\n",
        "|11|\tHoang Van O|\t2001-07-13|\t404 Tran Phu, Ha Noi|\tK2|\n",
        "|12\t|Nguyen Thi H\t|2002-02-19|\t505 Tran Binh Trong, TP.HCM|\tK1|\n",
        "|13\t|Pham Van K\t|1999-10-24\t|808 Tran Cao Van, TP.HCM|\tK1|\n",
        "|14|\tVo Thi L|\t2002-08-12|\t909 Le Lai, TP.HCM|\tK2|\n",
        "|15|\tNguyen Van N|\t2001-03-15\t|212 Hang Ma, Ha Noi\t|K3|\n",
        "|16|\tLe Thi P\t|2002-07-18\t|313 Hang Bong, Ha Noi|\tK3|\n",
        "|17\t|Tran Van R|\t1999-12-03\t|414 Hang Dao, Ha Noi\t|K2|\n",
        "|18\t|Vo Van E|\t2002-05-17\t|202 Nguyen Du, TP.HCM\t|K1|\n",
        "|19\t|Bui Thi F\t|2001-12-25|\t789 Ly Thuong Kiet, TP.HCM|\tK2|\n",
        "|20\t|Bui Van S\t|2001-01-02|\t456 Le Thanh Tong, Ha Noi|\tK1|\n",
        "\n"
      ],
      "metadata": {
        "id": "YMNss4DbBYRN"
      }
    },
    {
      "cell_type": "code",
      "source": [
        "# Create connection to SQLite database\n",
        "con <- dbConnect(RSQLite::SQLite(), \"univ.db\")\n",
        "\n",
        "# Create departments and students\n",
        "\n",
        "# Insert sample data"
      ],
      "metadata": {
        "id": "UMYCO2fhehaa"
      },
      "execution_count": 9,
      "outputs": []
    },
    {
      "cell_type": "code",
      "source": [
        "\n",
        "# Create the departments table\n",
        "dbExecute(con, \"\n",
        "CREATE TABLE departments (\n",
        "    dept_id TEXT PRIMARY KEY,\n",
        "    dept_name TEXT NOT NULL\n",
        ");\n",
        "\")\n",
        "\n",
        "# Insert sample data into departments table\n",
        "dbExecute(con, \"\n",
        "INSERT INTO departments (dept_id, dept_name) VALUES\n",
        "('K1', 'department of mathematics'),\n",
        "('K2', 'department of physics'),\n",
        "('K3', 'department of chemistry');\n",
        "\")\n",
        "\n",
        "# Create the students table\n",
        "dbExecute(con, \"\n",
        "CREATE TABLE students (\n",
        "    student_id INTEGER PRIMARY KEY,\n",
        "    name TEXT NOT NULL,\n",
        "    dob TEXT NOT NULL,\n",
        "    address TEXT NOT NULL,\n",
        "    dept_id TEXT,\n",
        "    FOREIGN KEY (dept_id) REFERENCES departments(dept_id)\n",
        ");\n",
        "\")\n",
        "\n",
        "# Insert sample data into students table\n",
        "dbExecute(con, \"\n",
        "INSERT INTO students (student_id, name, dob, address, dept_id) VALUES\n",
        "(1, 'Bui Van L', '2001-11-11', '110 Nguyen Chi Thanh, Ha Noi', 'K3'),\n",
        "(2, 'Hoang Thi N', '2001-05-21', '123 Hang Bai, Ha Noi', 'K2'),\n",
        "(3, 'Le Van I', '2001-06-30', '606 Hoang Van Thu, TP.HCM', 'K2'),\n",
        "(4, 'Tran Thi J', '2000-03-08', '717 Nguyen Trai, Da Nang', 'K2'),\n",
        "(5, 'Nguyen Van B', '2000-12-15', '456 Le Duan, TP.HCM', 'K1'),\n",
        "(6, 'Le Thi A', '2001-06-20', '123 Hai Ba Trung, TP.HCM', 'K2'),\n",
        "(7, 'Tran Van C', '2002-01-10', '789 Tran Hung Dao, Ha Noi', 'K3'),\n",
        "(8, 'Pham Thi Q', '2001-09-09', '456 Pho Hue, Ha Noi', 'K3'),\n",
        "(9, 'Vo Van T', '2002-06-27', '616 Tran Nhan Tong, Ha Noi', 'K3'),\n",
        "(10, 'Pham Thi D', '2001-09-05', '101 Ba Trieu, Da Nang', 'K1'),\n",
        "(11, 'Hoang Van O', '2001-07-13', '404 Tran Phu, Ha Noi', 'K2'),\n",
        "(12, 'Nguyen Thi H', '2002-02-19', '505 Tran Binh Trong, TP.HCM', 'K1'),\n",
        "(13, 'Pham Van K', '1999-10-24', '808 Tran Cao Van, TP.HCM', 'K1'),\n",
        "(14, 'Vo Thi L', '2002-08-12', '909 Le Lai, TP.HCM', 'K2'),\n",
        "(15, 'Nguyen Van N', '2001-03-15', '212 Hang Ma, Ha Noi', 'K3'),\n",
        "(16, 'Le Thi P', '2002-07-18', '313 Hang Bong, Ha Noi', 'K3'),\n",
        "(17, 'Tran Van R', '1999-12-03', '414 Hang Dao, Ha Noi', 'K2'),\n",
        "(18, 'Vo Van E', '2002-05-17', '202 Nguyen Du, TP.HCM', 'K1'),\n",
        "(19, 'Bui Thi F', '2001-12-25', '789 Ly Thuong Kiet, TP.HCM', 'K2'),\n",
        "(20, 'Bui Van S', '2001-01-02', '456 Le Thanh Tong, Ha Noi', 'K1');\n",
        "\")\n",
        "\n",
        "# Verify that data has been inserted correctly\n",
        "departments <- dbGetQuery(con, \"SELECT * FROM departments\")\n",
        "students <- dbGetQuery(con, \"SELECT * FROM students\")\n",
        "\n",
        "# Print tables\n",
        "print(departments)\n",
        "print(students)\n",
        "\n",
        "# Close the database connection\n",
        "dbDisconnect(con)\n"
      ],
      "metadata": {
        "colab": {
          "base_uri": "https://localhost:8080/",
          "height": 419
        },
        "id": "DwU10_DzghvA",
        "outputId": "6dcc91b1-0eb9-4951-8f5a-a2ac5d2045e3"
      },
      "execution_count": 10,
      "outputs": [
        {
          "output_type": "error",
          "ename": "ERROR",
          "evalue": "Error: table departments already exists\n",
          "traceback": [
            "Error: table departments already exists\nTraceback:\n",
            "1. dbExecute(con, \"\\nCREATE TABLE departments (\\n    dept_id TEXT PRIMARY KEY,\\n    dept_name TEXT NOT NULL\\n);\\n\")",
            "2. dbSendStatement(conn, statement, ...)",
            "3. dbSendStatement(conn, statement, ...)",
            "4. dbSendQuery(conn, statement, ...)",
            "5. dbSendQuery(conn, statement, ...)",
            "6. .local(conn, statement, ...)",
            "7. new(\"SQLiteResult\", sql = statement, ptr = result_create(conn@ptr, \n .     statement), conn = conn, bigint = conn@bigint)",
            "8. initialize(value, ...)",
            "9. initialize(value, ...)",
            "10. result_create(conn@ptr, statement)",
            "11. .handleSimpleError(function (cnd) \n  . {\n  .     watcher$capture_plot_and_output()\n  .     cnd <- sanitize_call(cnd)\n  .     watcher$push(cnd)\n  .     switch(on_error, continue = invokeRestart(\"eval_continue\"), \n  .         stop = invokeRestart(\"eval_stop\"), error = NULL)\n  . }, \"table departments already exists\", base::quote(NULL))"
          ]
        }
      ]
    },
    {
      "cell_type": "markdown",
      "source": [
        "1. Get all student information and sort by name (from A to Z)\n",
        "\n",
        "  1.1. Descending\n",
        "  \n",
        "  1.2. Ascending"
      ],
      "metadata": {
        "id": "0iyL2xYaFSlE"
      }
    },
    {
      "cell_type": "code",
      "source": [
        "# Function to execute queries and display results\n",
        "# Descending\n",
        "query0 <- \"SELECT * FROM students ORDER BY name DESC\"\n",
        "\n",
        "dbGetQuery(con, query0)\n",
        "\n",
        "#Ascending\n",
        "query1 <- \"SELECT * FROM students ORDER BY name ASC\"\n",
        "\n",
        "dbGetQuery(con, query1)\n"
      ],
      "metadata": {
        "id": "8JIW8IkX0N9e",
        "colab": {
          "base_uri": "https://localhost:8080/",
          "height": 1000
        },
        "outputId": "ffdf7c19-2831-4624-dead-7aaac7efd22a"
      },
      "execution_count": 11,
      "outputs": [
        {
          "output_type": "display_data",
          "data": {
            "text/html": [
              "<table class=\"dataframe\">\n",
              "<caption>A data.frame: 20 × 5</caption>\n",
              "<thead>\n",
              "\t<tr><th scope=col>student_id</th><th scope=col>name</th><th scope=col>dob</th><th scope=col>address</th><th scope=col>dept_id</th></tr>\n",
              "\t<tr><th scope=col>&lt;int&gt;</th><th scope=col>&lt;chr&gt;</th><th scope=col>&lt;chr&gt;</th><th scope=col>&lt;chr&gt;</th><th scope=col>&lt;chr&gt;</th></tr>\n",
              "</thead>\n",
              "<tbody>\n",
              "\t<tr><td> 9</td><td>Vo Van T    </td><td>2002-06-27</td><td>616 Tran Nhan Tong, Ha Noi  </td><td>K3</td></tr>\n",
              "\t<tr><td>18</td><td>Vo Van E    </td><td>2002-05-17</td><td>202 Nguyen Du, TP.HCM       </td><td>K1</td></tr>\n",
              "\t<tr><td>14</td><td>Vo Thi L    </td><td>2002-08-12</td><td>909 Le Lai, TP.HCM          </td><td>K2</td></tr>\n",
              "\t<tr><td>17</td><td>Tran Van R  </td><td>1999-12-03</td><td>414 Hang Dao, Ha Noi        </td><td>K2</td></tr>\n",
              "\t<tr><td> 7</td><td>Tran Van C  </td><td>2002-01-10</td><td>789 Tran Hung Dao, Ha Noi   </td><td>K3</td></tr>\n",
              "\t<tr><td> 4</td><td>Tran Thi J  </td><td>2000-03-08</td><td>717 Nguyen Trai, Da Nang    </td><td>K2</td></tr>\n",
              "\t<tr><td>13</td><td>Pham Van K  </td><td>1999-10-24</td><td>808 Tran Cao Van, TP.HCM    </td><td>K1</td></tr>\n",
              "\t<tr><td> 8</td><td>Pham Thi Q  </td><td>2001-09-09</td><td>456 Pho Hue, Ha Noi         </td><td>K3</td></tr>\n",
              "\t<tr><td>10</td><td>Pham Thi D  </td><td>2001-09-05</td><td>101 Ba Trieu, Da Nang       </td><td>K1</td></tr>\n",
              "\t<tr><td>15</td><td>Nguyen Van N</td><td>2001-03-15</td><td>212 Hang Ma, Ha Noi         </td><td>K3</td></tr>\n",
              "\t<tr><td> 5</td><td>Nguyen Van B</td><td>2000-12-15</td><td>456 Le Duan, TP.HCM         </td><td>K1</td></tr>\n",
              "\t<tr><td>12</td><td>Nguyen Thi H</td><td>2002-02-19</td><td>505 Tran Binh Trong, TP.HCM </td><td>K1</td></tr>\n",
              "\t<tr><td> 3</td><td>Le Van I    </td><td>2001-06-30</td><td>606 Hoang Van Thu, TP.HCM   </td><td>K2</td></tr>\n",
              "\t<tr><td>16</td><td>Le Thi P    </td><td>2002-07-18</td><td>313 Hang Bong, Ha Noi       </td><td>K3</td></tr>\n",
              "\t<tr><td> 6</td><td>Le Thi A    </td><td>2001-06-20</td><td>123 Hai Ba Trung, TP.HCM    </td><td>K2</td></tr>\n",
              "\t<tr><td>11</td><td>Hoang Van O </td><td>2001-07-13</td><td>404 Tran Phu, Ha Noi        </td><td>K2</td></tr>\n",
              "\t<tr><td> 2</td><td>Hoang Thi N </td><td>2001-05-21</td><td>123 Hang Bai, Ha Noi        </td><td>K2</td></tr>\n",
              "\t<tr><td>20</td><td>Bui Van S   </td><td>2001-01-02</td><td>456 Le Thanh Tong, Ha Noi   </td><td>K1</td></tr>\n",
              "\t<tr><td> 1</td><td>Bui Van L   </td><td>2001-11-11</td><td>110 Nguyen Chi Thanh, Ha Noi</td><td>K3</td></tr>\n",
              "\t<tr><td>19</td><td>Bui Thi F   </td><td>2001-12-25</td><td>789 Ly Thuong Kiet, TP.HCM  </td><td>K2</td></tr>\n",
              "</tbody>\n",
              "</table>\n"
            ],
            "text/markdown": "\nA data.frame: 20 × 5\n\n| student_id &lt;int&gt; | name &lt;chr&gt; | dob &lt;chr&gt; | address &lt;chr&gt; | dept_id &lt;chr&gt; |\n|---|---|---|---|---|\n|  9 | Vo Van T     | 2002-06-27 | 616 Tran Nhan Tong, Ha Noi   | K3 |\n| 18 | Vo Van E     | 2002-05-17 | 202 Nguyen Du, TP.HCM        | K1 |\n| 14 | Vo Thi L     | 2002-08-12 | 909 Le Lai, TP.HCM           | K2 |\n| 17 | Tran Van R   | 1999-12-03 | 414 Hang Dao, Ha Noi         | K2 |\n|  7 | Tran Van C   | 2002-01-10 | 789 Tran Hung Dao, Ha Noi    | K3 |\n|  4 | Tran Thi J   | 2000-03-08 | 717 Nguyen Trai, Da Nang     | K2 |\n| 13 | Pham Van K   | 1999-10-24 | 808 Tran Cao Van, TP.HCM     | K1 |\n|  8 | Pham Thi Q   | 2001-09-09 | 456 Pho Hue, Ha Noi          | K3 |\n| 10 | Pham Thi D   | 2001-09-05 | 101 Ba Trieu, Da Nang        | K1 |\n| 15 | Nguyen Van N | 2001-03-15 | 212 Hang Ma, Ha Noi          | K3 |\n|  5 | Nguyen Van B | 2000-12-15 | 456 Le Duan, TP.HCM          | K1 |\n| 12 | Nguyen Thi H | 2002-02-19 | 505 Tran Binh Trong, TP.HCM  | K1 |\n|  3 | Le Van I     | 2001-06-30 | 606 Hoang Van Thu, TP.HCM    | K2 |\n| 16 | Le Thi P     | 2002-07-18 | 313 Hang Bong, Ha Noi        | K3 |\n|  6 | Le Thi A     | 2001-06-20 | 123 Hai Ba Trung, TP.HCM     | K2 |\n| 11 | Hoang Van O  | 2001-07-13 | 404 Tran Phu, Ha Noi         | K2 |\n|  2 | Hoang Thi N  | 2001-05-21 | 123 Hang Bai, Ha Noi         | K2 |\n| 20 | Bui Van S    | 2001-01-02 | 456 Le Thanh Tong, Ha Noi    | K1 |\n|  1 | Bui Van L    | 2001-11-11 | 110 Nguyen Chi Thanh, Ha Noi | K3 |\n| 19 | Bui Thi F    | 2001-12-25 | 789 Ly Thuong Kiet, TP.HCM   | K2 |\n\n",
            "text/latex": "A data.frame: 20 × 5\n\\begin{tabular}{lllll}\n student\\_id & name & dob & address & dept\\_id\\\\\n <int> & <chr> & <chr> & <chr> & <chr>\\\\\n\\hline\n\t  9 & Vo Van T     & 2002-06-27 & 616 Tran Nhan Tong, Ha Noi   & K3\\\\\n\t 18 & Vo Van E     & 2002-05-17 & 202 Nguyen Du, TP.HCM        & K1\\\\\n\t 14 & Vo Thi L     & 2002-08-12 & 909 Le Lai, TP.HCM           & K2\\\\\n\t 17 & Tran Van R   & 1999-12-03 & 414 Hang Dao, Ha Noi         & K2\\\\\n\t  7 & Tran Van C   & 2002-01-10 & 789 Tran Hung Dao, Ha Noi    & K3\\\\\n\t  4 & Tran Thi J   & 2000-03-08 & 717 Nguyen Trai, Da Nang     & K2\\\\\n\t 13 & Pham Van K   & 1999-10-24 & 808 Tran Cao Van, TP.HCM     & K1\\\\\n\t  8 & Pham Thi Q   & 2001-09-09 & 456 Pho Hue, Ha Noi          & K3\\\\\n\t 10 & Pham Thi D   & 2001-09-05 & 101 Ba Trieu, Da Nang        & K1\\\\\n\t 15 & Nguyen Van N & 2001-03-15 & 212 Hang Ma, Ha Noi          & K3\\\\\n\t  5 & Nguyen Van B & 2000-12-15 & 456 Le Duan, TP.HCM          & K1\\\\\n\t 12 & Nguyen Thi H & 2002-02-19 & 505 Tran Binh Trong, TP.HCM  & K1\\\\\n\t  3 & Le Van I     & 2001-06-30 & 606 Hoang Van Thu, TP.HCM    & K2\\\\\n\t 16 & Le Thi P     & 2002-07-18 & 313 Hang Bong, Ha Noi        & K3\\\\\n\t  6 & Le Thi A     & 2001-06-20 & 123 Hai Ba Trung, TP.HCM     & K2\\\\\n\t 11 & Hoang Van O  & 2001-07-13 & 404 Tran Phu, Ha Noi         & K2\\\\\n\t  2 & Hoang Thi N  & 2001-05-21 & 123 Hang Bai, Ha Noi         & K2\\\\\n\t 20 & Bui Van S    & 2001-01-02 & 456 Le Thanh Tong, Ha Noi    & K1\\\\\n\t  1 & Bui Van L    & 2001-11-11 & 110 Nguyen Chi Thanh, Ha Noi & K3\\\\\n\t 19 & Bui Thi F    & 2001-12-25 & 789 Ly Thuong Kiet, TP.HCM   & K2\\\\\n\\end{tabular}\n",
            "text/plain": [
              "   student_id name         dob        address                      dept_id\n",
              "1   9         Vo Van T     2002-06-27 616 Tran Nhan Tong, Ha Noi   K3     \n",
              "2  18         Vo Van E     2002-05-17 202 Nguyen Du, TP.HCM        K1     \n",
              "3  14         Vo Thi L     2002-08-12 909 Le Lai, TP.HCM           K2     \n",
              "4  17         Tran Van R   1999-12-03 414 Hang Dao, Ha Noi         K2     \n",
              "5   7         Tran Van C   2002-01-10 789 Tran Hung Dao, Ha Noi    K3     \n",
              "6   4         Tran Thi J   2000-03-08 717 Nguyen Trai, Da Nang     K2     \n",
              "7  13         Pham Van K   1999-10-24 808 Tran Cao Van, TP.HCM     K1     \n",
              "8   8         Pham Thi Q   2001-09-09 456 Pho Hue, Ha Noi          K3     \n",
              "9  10         Pham Thi D   2001-09-05 101 Ba Trieu, Da Nang        K1     \n",
              "10 15         Nguyen Van N 2001-03-15 212 Hang Ma, Ha Noi          K3     \n",
              "11  5         Nguyen Van B 2000-12-15 456 Le Duan, TP.HCM          K1     \n",
              "12 12         Nguyen Thi H 2002-02-19 505 Tran Binh Trong, TP.HCM  K1     \n",
              "13  3         Le Van I     2001-06-30 606 Hoang Van Thu, TP.HCM    K2     \n",
              "14 16         Le Thi P     2002-07-18 313 Hang Bong, Ha Noi        K3     \n",
              "15  6         Le Thi A     2001-06-20 123 Hai Ba Trung, TP.HCM     K2     \n",
              "16 11         Hoang Van O  2001-07-13 404 Tran Phu, Ha Noi         K2     \n",
              "17  2         Hoang Thi N  2001-05-21 123 Hang Bai, Ha Noi         K2     \n",
              "18 20         Bui Van S    2001-01-02 456 Le Thanh Tong, Ha Noi    K1     \n",
              "19  1         Bui Van L    2001-11-11 110 Nguyen Chi Thanh, Ha Noi K3     \n",
              "20 19         Bui Thi F    2001-12-25 789 Ly Thuong Kiet, TP.HCM   K2     "
            ]
          },
          "metadata": {}
        },
        {
          "output_type": "display_data",
          "data": {
            "text/html": [
              "<table class=\"dataframe\">\n",
              "<caption>A data.frame: 20 × 5</caption>\n",
              "<thead>\n",
              "\t<tr><th scope=col>student_id</th><th scope=col>name</th><th scope=col>dob</th><th scope=col>address</th><th scope=col>dept_id</th></tr>\n",
              "\t<tr><th scope=col>&lt;int&gt;</th><th scope=col>&lt;chr&gt;</th><th scope=col>&lt;chr&gt;</th><th scope=col>&lt;chr&gt;</th><th scope=col>&lt;chr&gt;</th></tr>\n",
              "</thead>\n",
              "<tbody>\n",
              "\t<tr><td>19</td><td>Bui Thi F   </td><td>2001-12-25</td><td>789 Ly Thuong Kiet, TP.HCM  </td><td>K2</td></tr>\n",
              "\t<tr><td> 1</td><td>Bui Van L   </td><td>2001-11-11</td><td>110 Nguyen Chi Thanh, Ha Noi</td><td>K3</td></tr>\n",
              "\t<tr><td>20</td><td>Bui Van S   </td><td>2001-01-02</td><td>456 Le Thanh Tong, Ha Noi   </td><td>K1</td></tr>\n",
              "\t<tr><td> 2</td><td>Hoang Thi N </td><td>2001-05-21</td><td>123 Hang Bai, Ha Noi        </td><td>K2</td></tr>\n",
              "\t<tr><td>11</td><td>Hoang Van O </td><td>2001-07-13</td><td>404 Tran Phu, Ha Noi        </td><td>K2</td></tr>\n",
              "\t<tr><td> 6</td><td>Le Thi A    </td><td>2001-06-20</td><td>123 Hai Ba Trung, TP.HCM    </td><td>K2</td></tr>\n",
              "\t<tr><td>16</td><td>Le Thi P    </td><td>2002-07-18</td><td>313 Hang Bong, Ha Noi       </td><td>K3</td></tr>\n",
              "\t<tr><td> 3</td><td>Le Van I    </td><td>2001-06-30</td><td>606 Hoang Van Thu, TP.HCM   </td><td>K2</td></tr>\n",
              "\t<tr><td>12</td><td>Nguyen Thi H</td><td>2002-02-19</td><td>505 Tran Binh Trong, TP.HCM </td><td>K1</td></tr>\n",
              "\t<tr><td> 5</td><td>Nguyen Van B</td><td>2000-12-15</td><td>456 Le Duan, TP.HCM         </td><td>K1</td></tr>\n",
              "\t<tr><td>15</td><td>Nguyen Van N</td><td>2001-03-15</td><td>212 Hang Ma, Ha Noi         </td><td>K3</td></tr>\n",
              "\t<tr><td>10</td><td>Pham Thi D  </td><td>2001-09-05</td><td>101 Ba Trieu, Da Nang       </td><td>K1</td></tr>\n",
              "\t<tr><td> 8</td><td>Pham Thi Q  </td><td>2001-09-09</td><td>456 Pho Hue, Ha Noi         </td><td>K3</td></tr>\n",
              "\t<tr><td>13</td><td>Pham Van K  </td><td>1999-10-24</td><td>808 Tran Cao Van, TP.HCM    </td><td>K1</td></tr>\n",
              "\t<tr><td> 4</td><td>Tran Thi J  </td><td>2000-03-08</td><td>717 Nguyen Trai, Da Nang    </td><td>K2</td></tr>\n",
              "\t<tr><td> 7</td><td>Tran Van C  </td><td>2002-01-10</td><td>789 Tran Hung Dao, Ha Noi   </td><td>K3</td></tr>\n",
              "\t<tr><td>17</td><td>Tran Van R  </td><td>1999-12-03</td><td>414 Hang Dao, Ha Noi        </td><td>K2</td></tr>\n",
              "\t<tr><td>14</td><td>Vo Thi L    </td><td>2002-08-12</td><td>909 Le Lai, TP.HCM          </td><td>K2</td></tr>\n",
              "\t<tr><td>18</td><td>Vo Van E    </td><td>2002-05-17</td><td>202 Nguyen Du, TP.HCM       </td><td>K1</td></tr>\n",
              "\t<tr><td> 9</td><td>Vo Van T    </td><td>2002-06-27</td><td>616 Tran Nhan Tong, Ha Noi  </td><td>K3</td></tr>\n",
              "</tbody>\n",
              "</table>\n"
            ],
            "text/markdown": "\nA data.frame: 20 × 5\n\n| student_id &lt;int&gt; | name &lt;chr&gt; | dob &lt;chr&gt; | address &lt;chr&gt; | dept_id &lt;chr&gt; |\n|---|---|---|---|---|\n| 19 | Bui Thi F    | 2001-12-25 | 789 Ly Thuong Kiet, TP.HCM   | K2 |\n|  1 | Bui Van L    | 2001-11-11 | 110 Nguyen Chi Thanh, Ha Noi | K3 |\n| 20 | Bui Van S    | 2001-01-02 | 456 Le Thanh Tong, Ha Noi    | K1 |\n|  2 | Hoang Thi N  | 2001-05-21 | 123 Hang Bai, Ha Noi         | K2 |\n| 11 | Hoang Van O  | 2001-07-13 | 404 Tran Phu, Ha Noi         | K2 |\n|  6 | Le Thi A     | 2001-06-20 | 123 Hai Ba Trung, TP.HCM     | K2 |\n| 16 | Le Thi P     | 2002-07-18 | 313 Hang Bong, Ha Noi        | K3 |\n|  3 | Le Van I     | 2001-06-30 | 606 Hoang Van Thu, TP.HCM    | K2 |\n| 12 | Nguyen Thi H | 2002-02-19 | 505 Tran Binh Trong, TP.HCM  | K1 |\n|  5 | Nguyen Van B | 2000-12-15 | 456 Le Duan, TP.HCM          | K1 |\n| 15 | Nguyen Van N | 2001-03-15 | 212 Hang Ma, Ha Noi          | K3 |\n| 10 | Pham Thi D   | 2001-09-05 | 101 Ba Trieu, Da Nang        | K1 |\n|  8 | Pham Thi Q   | 2001-09-09 | 456 Pho Hue, Ha Noi          | K3 |\n| 13 | Pham Van K   | 1999-10-24 | 808 Tran Cao Van, TP.HCM     | K1 |\n|  4 | Tran Thi J   | 2000-03-08 | 717 Nguyen Trai, Da Nang     | K2 |\n|  7 | Tran Van C   | 2002-01-10 | 789 Tran Hung Dao, Ha Noi    | K3 |\n| 17 | Tran Van R   | 1999-12-03 | 414 Hang Dao, Ha Noi         | K2 |\n| 14 | Vo Thi L     | 2002-08-12 | 909 Le Lai, TP.HCM           | K2 |\n| 18 | Vo Van E     | 2002-05-17 | 202 Nguyen Du, TP.HCM        | K1 |\n|  9 | Vo Van T     | 2002-06-27 | 616 Tran Nhan Tong, Ha Noi   | K3 |\n\n",
            "text/latex": "A data.frame: 20 × 5\n\\begin{tabular}{lllll}\n student\\_id & name & dob & address & dept\\_id\\\\\n <int> & <chr> & <chr> & <chr> & <chr>\\\\\n\\hline\n\t 19 & Bui Thi F    & 2001-12-25 & 789 Ly Thuong Kiet, TP.HCM   & K2\\\\\n\t  1 & Bui Van L    & 2001-11-11 & 110 Nguyen Chi Thanh, Ha Noi & K3\\\\\n\t 20 & Bui Van S    & 2001-01-02 & 456 Le Thanh Tong, Ha Noi    & K1\\\\\n\t  2 & Hoang Thi N  & 2001-05-21 & 123 Hang Bai, Ha Noi         & K2\\\\\n\t 11 & Hoang Van O  & 2001-07-13 & 404 Tran Phu, Ha Noi         & K2\\\\\n\t  6 & Le Thi A     & 2001-06-20 & 123 Hai Ba Trung, TP.HCM     & K2\\\\\n\t 16 & Le Thi P     & 2002-07-18 & 313 Hang Bong, Ha Noi        & K3\\\\\n\t  3 & Le Van I     & 2001-06-30 & 606 Hoang Van Thu, TP.HCM    & K2\\\\\n\t 12 & Nguyen Thi H & 2002-02-19 & 505 Tran Binh Trong, TP.HCM  & K1\\\\\n\t  5 & Nguyen Van B & 2000-12-15 & 456 Le Duan, TP.HCM          & K1\\\\\n\t 15 & Nguyen Van N & 2001-03-15 & 212 Hang Ma, Ha Noi          & K3\\\\\n\t 10 & Pham Thi D   & 2001-09-05 & 101 Ba Trieu, Da Nang        & K1\\\\\n\t  8 & Pham Thi Q   & 2001-09-09 & 456 Pho Hue, Ha Noi          & K3\\\\\n\t 13 & Pham Van K   & 1999-10-24 & 808 Tran Cao Van, TP.HCM     & K1\\\\\n\t  4 & Tran Thi J   & 2000-03-08 & 717 Nguyen Trai, Da Nang     & K2\\\\\n\t  7 & Tran Van C   & 2002-01-10 & 789 Tran Hung Dao, Ha Noi    & K3\\\\\n\t 17 & Tran Van R   & 1999-12-03 & 414 Hang Dao, Ha Noi         & K2\\\\\n\t 14 & Vo Thi L     & 2002-08-12 & 909 Le Lai, TP.HCM           & K2\\\\\n\t 18 & Vo Van E     & 2002-05-17 & 202 Nguyen Du, TP.HCM        & K1\\\\\n\t  9 & Vo Van T     & 2002-06-27 & 616 Tran Nhan Tong, Ha Noi   & K3\\\\\n\\end{tabular}\n",
            "text/plain": [
              "   student_id name         dob        address                      dept_id\n",
              "1  19         Bui Thi F    2001-12-25 789 Ly Thuong Kiet, TP.HCM   K2     \n",
              "2   1         Bui Van L    2001-11-11 110 Nguyen Chi Thanh, Ha Noi K3     \n",
              "3  20         Bui Van S    2001-01-02 456 Le Thanh Tong, Ha Noi    K1     \n",
              "4   2         Hoang Thi N  2001-05-21 123 Hang Bai, Ha Noi         K2     \n",
              "5  11         Hoang Van O  2001-07-13 404 Tran Phu, Ha Noi         K2     \n",
              "6   6         Le Thi A     2001-06-20 123 Hai Ba Trung, TP.HCM     K2     \n",
              "7  16         Le Thi P     2002-07-18 313 Hang Bong, Ha Noi        K3     \n",
              "8   3         Le Van I     2001-06-30 606 Hoang Van Thu, TP.HCM    K2     \n",
              "9  12         Nguyen Thi H 2002-02-19 505 Tran Binh Trong, TP.HCM  K1     \n",
              "10  5         Nguyen Van B 2000-12-15 456 Le Duan, TP.HCM          K1     \n",
              "11 15         Nguyen Van N 2001-03-15 212 Hang Ma, Ha Noi          K3     \n",
              "12 10         Pham Thi D   2001-09-05 101 Ba Trieu, Da Nang        K1     \n",
              "13  8         Pham Thi Q   2001-09-09 456 Pho Hue, Ha Noi          K3     \n",
              "14 13         Pham Van K   1999-10-24 808 Tran Cao Van, TP.HCM     K1     \n",
              "15  4         Tran Thi J   2000-03-08 717 Nguyen Trai, Da Nang     K2     \n",
              "16  7         Tran Van C   2002-01-10 789 Tran Hung Dao, Ha Noi    K3     \n",
              "17 17         Tran Van R   1999-12-03 414 Hang Dao, Ha Noi         K2     \n",
              "18 14         Vo Thi L     2002-08-12 909 Le Lai, TP.HCM           K2     \n",
              "19 18         Vo Van E     2002-05-17 202 Nguyen Du, TP.HCM        K1     \n",
              "20  9         Vo Van T     2002-06-27 616 Tran Nhan Tong, Ha Noi   K3     "
            ]
          },
          "metadata": {}
        }
      ]
    },
    {
      "cell_type": "markdown",
      "source": [
        "2. Get information of students born after 01-01-2000 and sort by name in A->Z order"
      ],
      "metadata": {
        "id": "Qv9htQ7n6E7U"
      }
    },
    {
      "cell_type": "code",
      "source": [
        "# Function to execute queries and display results\n",
        "\n",
        "query2 <- \"SELECT * FROM students WHERE dob > '2000-01-01' ORDER BY name ASC\"\n",
        "\n",
        "dbGetQuery(con, query2)"
      ],
      "metadata": {
        "id": "6gFeMvKzJ6KQ",
        "colab": {
          "base_uri": "https://localhost:8080/",
          "height": 662
        },
        "outputId": "0af7efe0-1879-43ab-dd6b-04a41402fd5a"
      },
      "execution_count": 12,
      "outputs": [
        {
          "output_type": "display_data",
          "data": {
            "text/html": [
              "<table class=\"dataframe\">\n",
              "<caption>A data.frame: 18 × 5</caption>\n",
              "<thead>\n",
              "\t<tr><th scope=col>student_id</th><th scope=col>name</th><th scope=col>dob</th><th scope=col>address</th><th scope=col>dept_id</th></tr>\n",
              "\t<tr><th scope=col>&lt;int&gt;</th><th scope=col>&lt;chr&gt;</th><th scope=col>&lt;chr&gt;</th><th scope=col>&lt;chr&gt;</th><th scope=col>&lt;chr&gt;</th></tr>\n",
              "</thead>\n",
              "<tbody>\n",
              "\t<tr><td>19</td><td>Bui Thi F   </td><td>2001-12-25</td><td>789 Ly Thuong Kiet, TP.HCM  </td><td>K2</td></tr>\n",
              "\t<tr><td> 1</td><td>Bui Van L   </td><td>2001-11-11</td><td>110 Nguyen Chi Thanh, Ha Noi</td><td>K3</td></tr>\n",
              "\t<tr><td>20</td><td>Bui Van S   </td><td>2001-01-02</td><td>456 Le Thanh Tong, Ha Noi   </td><td>K1</td></tr>\n",
              "\t<tr><td> 2</td><td>Hoang Thi N </td><td>2001-05-21</td><td>123 Hang Bai, Ha Noi        </td><td>K2</td></tr>\n",
              "\t<tr><td>11</td><td>Hoang Van O </td><td>2001-07-13</td><td>404 Tran Phu, Ha Noi        </td><td>K2</td></tr>\n",
              "\t<tr><td> 6</td><td>Le Thi A    </td><td>2001-06-20</td><td>123 Hai Ba Trung, TP.HCM    </td><td>K2</td></tr>\n",
              "\t<tr><td>16</td><td>Le Thi P    </td><td>2002-07-18</td><td>313 Hang Bong, Ha Noi       </td><td>K3</td></tr>\n",
              "\t<tr><td> 3</td><td>Le Van I    </td><td>2001-06-30</td><td>606 Hoang Van Thu, TP.HCM   </td><td>K2</td></tr>\n",
              "\t<tr><td>12</td><td>Nguyen Thi H</td><td>2002-02-19</td><td>505 Tran Binh Trong, TP.HCM </td><td>K1</td></tr>\n",
              "\t<tr><td> 5</td><td>Nguyen Van B</td><td>2000-12-15</td><td>456 Le Duan, TP.HCM         </td><td>K1</td></tr>\n",
              "\t<tr><td>15</td><td>Nguyen Van N</td><td>2001-03-15</td><td>212 Hang Ma, Ha Noi         </td><td>K3</td></tr>\n",
              "\t<tr><td>10</td><td>Pham Thi D  </td><td>2001-09-05</td><td>101 Ba Trieu, Da Nang       </td><td>K1</td></tr>\n",
              "\t<tr><td> 8</td><td>Pham Thi Q  </td><td>2001-09-09</td><td>456 Pho Hue, Ha Noi         </td><td>K3</td></tr>\n",
              "\t<tr><td> 4</td><td>Tran Thi J  </td><td>2000-03-08</td><td>717 Nguyen Trai, Da Nang    </td><td>K2</td></tr>\n",
              "\t<tr><td> 7</td><td>Tran Van C  </td><td>2002-01-10</td><td>789 Tran Hung Dao, Ha Noi   </td><td>K3</td></tr>\n",
              "\t<tr><td>14</td><td>Vo Thi L    </td><td>2002-08-12</td><td>909 Le Lai, TP.HCM          </td><td>K2</td></tr>\n",
              "\t<tr><td>18</td><td>Vo Van E    </td><td>2002-05-17</td><td>202 Nguyen Du, TP.HCM       </td><td>K1</td></tr>\n",
              "\t<tr><td> 9</td><td>Vo Van T    </td><td>2002-06-27</td><td>616 Tran Nhan Tong, Ha Noi  </td><td>K3</td></tr>\n",
              "</tbody>\n",
              "</table>\n"
            ],
            "text/markdown": "\nA data.frame: 18 × 5\n\n| student_id &lt;int&gt; | name &lt;chr&gt; | dob &lt;chr&gt; | address &lt;chr&gt; | dept_id &lt;chr&gt; |\n|---|---|---|---|---|\n| 19 | Bui Thi F    | 2001-12-25 | 789 Ly Thuong Kiet, TP.HCM   | K2 |\n|  1 | Bui Van L    | 2001-11-11 | 110 Nguyen Chi Thanh, Ha Noi | K3 |\n| 20 | Bui Van S    | 2001-01-02 | 456 Le Thanh Tong, Ha Noi    | K1 |\n|  2 | Hoang Thi N  | 2001-05-21 | 123 Hang Bai, Ha Noi         | K2 |\n| 11 | Hoang Van O  | 2001-07-13 | 404 Tran Phu, Ha Noi         | K2 |\n|  6 | Le Thi A     | 2001-06-20 | 123 Hai Ba Trung, TP.HCM     | K2 |\n| 16 | Le Thi P     | 2002-07-18 | 313 Hang Bong, Ha Noi        | K3 |\n|  3 | Le Van I     | 2001-06-30 | 606 Hoang Van Thu, TP.HCM    | K2 |\n| 12 | Nguyen Thi H | 2002-02-19 | 505 Tran Binh Trong, TP.HCM  | K1 |\n|  5 | Nguyen Van B | 2000-12-15 | 456 Le Duan, TP.HCM          | K1 |\n| 15 | Nguyen Van N | 2001-03-15 | 212 Hang Ma, Ha Noi          | K3 |\n| 10 | Pham Thi D   | 2001-09-05 | 101 Ba Trieu, Da Nang        | K1 |\n|  8 | Pham Thi Q   | 2001-09-09 | 456 Pho Hue, Ha Noi          | K3 |\n|  4 | Tran Thi J   | 2000-03-08 | 717 Nguyen Trai, Da Nang     | K2 |\n|  7 | Tran Van C   | 2002-01-10 | 789 Tran Hung Dao, Ha Noi    | K3 |\n| 14 | Vo Thi L     | 2002-08-12 | 909 Le Lai, TP.HCM           | K2 |\n| 18 | Vo Van E     | 2002-05-17 | 202 Nguyen Du, TP.HCM        | K1 |\n|  9 | Vo Van T     | 2002-06-27 | 616 Tran Nhan Tong, Ha Noi   | K3 |\n\n",
            "text/latex": "A data.frame: 18 × 5\n\\begin{tabular}{lllll}\n student\\_id & name & dob & address & dept\\_id\\\\\n <int> & <chr> & <chr> & <chr> & <chr>\\\\\n\\hline\n\t 19 & Bui Thi F    & 2001-12-25 & 789 Ly Thuong Kiet, TP.HCM   & K2\\\\\n\t  1 & Bui Van L    & 2001-11-11 & 110 Nguyen Chi Thanh, Ha Noi & K3\\\\\n\t 20 & Bui Van S    & 2001-01-02 & 456 Le Thanh Tong, Ha Noi    & K1\\\\\n\t  2 & Hoang Thi N  & 2001-05-21 & 123 Hang Bai, Ha Noi         & K2\\\\\n\t 11 & Hoang Van O  & 2001-07-13 & 404 Tran Phu, Ha Noi         & K2\\\\\n\t  6 & Le Thi A     & 2001-06-20 & 123 Hai Ba Trung, TP.HCM     & K2\\\\\n\t 16 & Le Thi P     & 2002-07-18 & 313 Hang Bong, Ha Noi        & K3\\\\\n\t  3 & Le Van I     & 2001-06-30 & 606 Hoang Van Thu, TP.HCM    & K2\\\\\n\t 12 & Nguyen Thi H & 2002-02-19 & 505 Tran Binh Trong, TP.HCM  & K1\\\\\n\t  5 & Nguyen Van B & 2000-12-15 & 456 Le Duan, TP.HCM          & K1\\\\\n\t 15 & Nguyen Van N & 2001-03-15 & 212 Hang Ma, Ha Noi          & K3\\\\\n\t 10 & Pham Thi D   & 2001-09-05 & 101 Ba Trieu, Da Nang        & K1\\\\\n\t  8 & Pham Thi Q   & 2001-09-09 & 456 Pho Hue, Ha Noi          & K3\\\\\n\t  4 & Tran Thi J   & 2000-03-08 & 717 Nguyen Trai, Da Nang     & K2\\\\\n\t  7 & Tran Van C   & 2002-01-10 & 789 Tran Hung Dao, Ha Noi    & K3\\\\\n\t 14 & Vo Thi L     & 2002-08-12 & 909 Le Lai, TP.HCM           & K2\\\\\n\t 18 & Vo Van E     & 2002-05-17 & 202 Nguyen Du, TP.HCM        & K1\\\\\n\t  9 & Vo Van T     & 2002-06-27 & 616 Tran Nhan Tong, Ha Noi   & K3\\\\\n\\end{tabular}\n",
            "text/plain": [
              "   student_id name         dob        address                      dept_id\n",
              "1  19         Bui Thi F    2001-12-25 789 Ly Thuong Kiet, TP.HCM   K2     \n",
              "2   1         Bui Van L    2001-11-11 110 Nguyen Chi Thanh, Ha Noi K3     \n",
              "3  20         Bui Van S    2001-01-02 456 Le Thanh Tong, Ha Noi    K1     \n",
              "4   2         Hoang Thi N  2001-05-21 123 Hang Bai, Ha Noi         K2     \n",
              "5  11         Hoang Van O  2001-07-13 404 Tran Phu, Ha Noi         K2     \n",
              "6   6         Le Thi A     2001-06-20 123 Hai Ba Trung, TP.HCM     K2     \n",
              "7  16         Le Thi P     2002-07-18 313 Hang Bong, Ha Noi        K3     \n",
              "8   3         Le Van I     2001-06-30 606 Hoang Van Thu, TP.HCM    K2     \n",
              "9  12         Nguyen Thi H 2002-02-19 505 Tran Binh Trong, TP.HCM  K1     \n",
              "10  5         Nguyen Van B 2000-12-15 456 Le Duan, TP.HCM          K1     \n",
              "11 15         Nguyen Van N 2001-03-15 212 Hang Ma, Ha Noi          K3     \n",
              "12 10         Pham Thi D   2001-09-05 101 Ba Trieu, Da Nang        K1     \n",
              "13  8         Pham Thi Q   2001-09-09 456 Pho Hue, Ha Noi          K3     \n",
              "14  4         Tran Thi J   2000-03-08 717 Nguyen Trai, Da Nang     K2     \n",
              "15  7         Tran Van C   2002-01-10 789 Tran Hung Dao, Ha Noi    K3     \n",
              "16 14         Vo Thi L     2002-08-12 909 Le Lai, TP.HCM           K2     \n",
              "17 18         Vo Van E     2002-05-17 202 Nguyen Du, TP.HCM        K1     \n",
              "18  9         Vo Van T     2002-06-27 616 Tran Nhan Tong, Ha Noi   K3     "
            ]
          },
          "metadata": {}
        }
      ]
    },
    {
      "cell_type": "markdown",
      "source": [
        "3. Combine information from both the students and departments tables"
      ],
      "metadata": {
        "id": "jI_UgITOJ-el"
      }
    },
    {
      "cell_type": "code",
      "source": [
        "# Function to execute queries and display results\n",
        "\n",
        "query3 <- \"SELECT * FROM students s JOIN departments d ON s.dept_id = d.dept_id\"\n",
        "\n",
        "dbGetQuery(con, query3)\n"
      ],
      "metadata": {
        "id": "LUM3Jrzm0ZjI",
        "colab": {
          "base_uri": "https://localhost:8080/",
          "height": 725
        },
        "outputId": "1bb066f1-8f26-4ff0-b0e7-c6448a32c1f7"
      },
      "execution_count": 13,
      "outputs": [
        {
          "output_type": "display_data",
          "data": {
            "text/html": [
              "<table class=\"dataframe\">\n",
              "<caption>A data.frame: 20 × 7</caption>\n",
              "<thead>\n",
              "\t<tr><th scope=col>student_id</th><th scope=col>name</th><th scope=col>dob</th><th scope=col>address</th><th scope=col>dept_id</th><th scope=col>dept_id</th><th scope=col>dept_name</th></tr>\n",
              "\t<tr><th scope=col>&lt;int&gt;</th><th scope=col>&lt;chr&gt;</th><th scope=col>&lt;chr&gt;</th><th scope=col>&lt;chr&gt;</th><th scope=col>&lt;chr&gt;</th><th scope=col>&lt;chr&gt;</th><th scope=col>&lt;chr&gt;</th></tr>\n",
              "</thead>\n",
              "<tbody>\n",
              "\t<tr><td> 1</td><td>Bui Van L   </td><td>2001-11-11</td><td>110 Nguyen Chi Thanh, Ha Noi</td><td>K3</td><td>K3</td><td>department of chemistry  </td></tr>\n",
              "\t<tr><td> 2</td><td>Hoang Thi N </td><td>2001-05-21</td><td>123 Hang Bai, Ha Noi        </td><td>K2</td><td>K2</td><td>department of physics    </td></tr>\n",
              "\t<tr><td> 3</td><td>Le Van I    </td><td>2001-06-30</td><td>606 Hoang Van Thu, TP.HCM   </td><td>K2</td><td>K2</td><td>department of physics    </td></tr>\n",
              "\t<tr><td> 4</td><td>Tran Thi J  </td><td>2000-03-08</td><td>717 Nguyen Trai, Da Nang    </td><td>K2</td><td>K2</td><td>department of physics    </td></tr>\n",
              "\t<tr><td> 5</td><td>Nguyen Van B</td><td>2000-12-15</td><td>456 Le Duan, TP.HCM         </td><td>K1</td><td>K1</td><td>department of mathematics</td></tr>\n",
              "\t<tr><td> 6</td><td>Le Thi A    </td><td>2001-06-20</td><td>123 Hai Ba Trung, TP.HCM    </td><td>K2</td><td>K2</td><td>department of physics    </td></tr>\n",
              "\t<tr><td> 7</td><td>Tran Van C  </td><td>2002-01-10</td><td>789 Tran Hung Dao, Ha Noi   </td><td>K3</td><td>K3</td><td>department of chemistry  </td></tr>\n",
              "\t<tr><td> 8</td><td>Pham Thi Q  </td><td>2001-09-09</td><td>456 Pho Hue, Ha Noi         </td><td>K3</td><td>K3</td><td>department of chemistry  </td></tr>\n",
              "\t<tr><td> 9</td><td>Vo Van T    </td><td>2002-06-27</td><td>616 Tran Nhan Tong, Ha Noi  </td><td>K3</td><td>K3</td><td>department of chemistry  </td></tr>\n",
              "\t<tr><td>10</td><td>Pham Thi D  </td><td>2001-09-05</td><td>101 Ba Trieu, Da Nang       </td><td>K1</td><td>K1</td><td>department of mathematics</td></tr>\n",
              "\t<tr><td>11</td><td>Hoang Van O </td><td>2001-07-13</td><td>404 Tran Phu, Ha Noi        </td><td>K2</td><td>K2</td><td>department of physics    </td></tr>\n",
              "\t<tr><td>12</td><td>Nguyen Thi H</td><td>2002-02-19</td><td>505 Tran Binh Trong, TP.HCM </td><td>K1</td><td>K1</td><td>department of mathematics</td></tr>\n",
              "\t<tr><td>13</td><td>Pham Van K  </td><td>1999-10-24</td><td>808 Tran Cao Van, TP.HCM    </td><td>K1</td><td>K1</td><td>department of mathematics</td></tr>\n",
              "\t<tr><td>14</td><td>Vo Thi L    </td><td>2002-08-12</td><td>909 Le Lai, TP.HCM          </td><td>K2</td><td>K2</td><td>department of physics    </td></tr>\n",
              "\t<tr><td>15</td><td>Nguyen Van N</td><td>2001-03-15</td><td>212 Hang Ma, Ha Noi         </td><td>K3</td><td>K3</td><td>department of chemistry  </td></tr>\n",
              "\t<tr><td>16</td><td>Le Thi P    </td><td>2002-07-18</td><td>313 Hang Bong, Ha Noi       </td><td>K3</td><td>K3</td><td>department of chemistry  </td></tr>\n",
              "\t<tr><td>17</td><td>Tran Van R  </td><td>1999-12-03</td><td>414 Hang Dao, Ha Noi        </td><td>K2</td><td>K2</td><td>department of physics    </td></tr>\n",
              "\t<tr><td>18</td><td>Vo Van E    </td><td>2002-05-17</td><td>202 Nguyen Du, TP.HCM       </td><td>K1</td><td>K1</td><td>department of mathematics</td></tr>\n",
              "\t<tr><td>19</td><td>Bui Thi F   </td><td>2001-12-25</td><td>789 Ly Thuong Kiet, TP.HCM  </td><td>K2</td><td>K2</td><td>department of physics    </td></tr>\n",
              "\t<tr><td>20</td><td>Bui Van S   </td><td>2001-01-02</td><td>456 Le Thanh Tong, Ha Noi   </td><td>K1</td><td>K1</td><td>department of mathematics</td></tr>\n",
              "</tbody>\n",
              "</table>\n"
            ],
            "text/markdown": "\nA data.frame: 20 × 7\n\n| student_id &lt;int&gt; | name &lt;chr&gt; | dob &lt;chr&gt; | address &lt;chr&gt; | dept_id &lt;chr&gt; | dept_id &lt;chr&gt; | dept_name &lt;chr&gt; |\n|---|---|---|---|---|---|---|\n|  1 | Bui Van L    | 2001-11-11 | 110 Nguyen Chi Thanh, Ha Noi | K3 | K3 | department of chemistry   |\n|  2 | Hoang Thi N  | 2001-05-21 | 123 Hang Bai, Ha Noi         | K2 | K2 | department of physics     |\n|  3 | Le Van I     | 2001-06-30 | 606 Hoang Van Thu, TP.HCM    | K2 | K2 | department of physics     |\n|  4 | Tran Thi J   | 2000-03-08 | 717 Nguyen Trai, Da Nang     | K2 | K2 | department of physics     |\n|  5 | Nguyen Van B | 2000-12-15 | 456 Le Duan, TP.HCM          | K1 | K1 | department of mathematics |\n|  6 | Le Thi A     | 2001-06-20 | 123 Hai Ba Trung, TP.HCM     | K2 | K2 | department of physics     |\n|  7 | Tran Van C   | 2002-01-10 | 789 Tran Hung Dao, Ha Noi    | K3 | K3 | department of chemistry   |\n|  8 | Pham Thi Q   | 2001-09-09 | 456 Pho Hue, Ha Noi          | K3 | K3 | department of chemistry   |\n|  9 | Vo Van T     | 2002-06-27 | 616 Tran Nhan Tong, Ha Noi   | K3 | K3 | department of chemistry   |\n| 10 | Pham Thi D   | 2001-09-05 | 101 Ba Trieu, Da Nang        | K1 | K1 | department of mathematics |\n| 11 | Hoang Van O  | 2001-07-13 | 404 Tran Phu, Ha Noi         | K2 | K2 | department of physics     |\n| 12 | Nguyen Thi H | 2002-02-19 | 505 Tran Binh Trong, TP.HCM  | K1 | K1 | department of mathematics |\n| 13 | Pham Van K   | 1999-10-24 | 808 Tran Cao Van, TP.HCM     | K1 | K1 | department of mathematics |\n| 14 | Vo Thi L     | 2002-08-12 | 909 Le Lai, TP.HCM           | K2 | K2 | department of physics     |\n| 15 | Nguyen Van N | 2001-03-15 | 212 Hang Ma, Ha Noi          | K3 | K3 | department of chemistry   |\n| 16 | Le Thi P     | 2002-07-18 | 313 Hang Bong, Ha Noi        | K3 | K3 | department of chemistry   |\n| 17 | Tran Van R   | 1999-12-03 | 414 Hang Dao, Ha Noi         | K2 | K2 | department of physics     |\n| 18 | Vo Van E     | 2002-05-17 | 202 Nguyen Du, TP.HCM        | K1 | K1 | department of mathematics |\n| 19 | Bui Thi F    | 2001-12-25 | 789 Ly Thuong Kiet, TP.HCM   | K2 | K2 | department of physics     |\n| 20 | Bui Van S    | 2001-01-02 | 456 Le Thanh Tong, Ha Noi    | K1 | K1 | department of mathematics |\n\n",
            "text/latex": "A data.frame: 20 × 7\n\\begin{tabular}{lllllll}\n student\\_id & name & dob & address & dept\\_id & dept\\_id & dept\\_name\\\\\n <int> & <chr> & <chr> & <chr> & <chr> & <chr> & <chr>\\\\\n\\hline\n\t  1 & Bui Van L    & 2001-11-11 & 110 Nguyen Chi Thanh, Ha Noi & K3 & K3 & department of chemistry  \\\\\n\t  2 & Hoang Thi N  & 2001-05-21 & 123 Hang Bai, Ha Noi         & K2 & K2 & department of physics    \\\\\n\t  3 & Le Van I     & 2001-06-30 & 606 Hoang Van Thu, TP.HCM    & K2 & K2 & department of physics    \\\\\n\t  4 & Tran Thi J   & 2000-03-08 & 717 Nguyen Trai, Da Nang     & K2 & K2 & department of physics    \\\\\n\t  5 & Nguyen Van B & 2000-12-15 & 456 Le Duan, TP.HCM          & K1 & K1 & department of mathematics\\\\\n\t  6 & Le Thi A     & 2001-06-20 & 123 Hai Ba Trung, TP.HCM     & K2 & K2 & department of physics    \\\\\n\t  7 & Tran Van C   & 2002-01-10 & 789 Tran Hung Dao, Ha Noi    & K3 & K3 & department of chemistry  \\\\\n\t  8 & Pham Thi Q   & 2001-09-09 & 456 Pho Hue, Ha Noi          & K3 & K3 & department of chemistry  \\\\\n\t  9 & Vo Van T     & 2002-06-27 & 616 Tran Nhan Tong, Ha Noi   & K3 & K3 & department of chemistry  \\\\\n\t 10 & Pham Thi D   & 2001-09-05 & 101 Ba Trieu, Da Nang        & K1 & K1 & department of mathematics\\\\\n\t 11 & Hoang Van O  & 2001-07-13 & 404 Tran Phu, Ha Noi         & K2 & K2 & department of physics    \\\\\n\t 12 & Nguyen Thi H & 2002-02-19 & 505 Tran Binh Trong, TP.HCM  & K1 & K1 & department of mathematics\\\\\n\t 13 & Pham Van K   & 1999-10-24 & 808 Tran Cao Van, TP.HCM     & K1 & K1 & department of mathematics\\\\\n\t 14 & Vo Thi L     & 2002-08-12 & 909 Le Lai, TP.HCM           & K2 & K2 & department of physics    \\\\\n\t 15 & Nguyen Van N & 2001-03-15 & 212 Hang Ma, Ha Noi          & K3 & K3 & department of chemistry  \\\\\n\t 16 & Le Thi P     & 2002-07-18 & 313 Hang Bong, Ha Noi        & K3 & K3 & department of chemistry  \\\\\n\t 17 & Tran Van R   & 1999-12-03 & 414 Hang Dao, Ha Noi         & K2 & K2 & department of physics    \\\\\n\t 18 & Vo Van E     & 2002-05-17 & 202 Nguyen Du, TP.HCM        & K1 & K1 & department of mathematics\\\\\n\t 19 & Bui Thi F    & 2001-12-25 & 789 Ly Thuong Kiet, TP.HCM   & K2 & K2 & department of physics    \\\\\n\t 20 & Bui Van S    & 2001-01-02 & 456 Le Thanh Tong, Ha Noi    & K1 & K1 & department of mathematics\\\\\n\\end{tabular}\n",
            "text/plain": [
              "   student_id name         dob        address                      dept_id\n",
              "1   1         Bui Van L    2001-11-11 110 Nguyen Chi Thanh, Ha Noi K3     \n",
              "2   2         Hoang Thi N  2001-05-21 123 Hang Bai, Ha Noi         K2     \n",
              "3   3         Le Van I     2001-06-30 606 Hoang Van Thu, TP.HCM    K2     \n",
              "4   4         Tran Thi J   2000-03-08 717 Nguyen Trai, Da Nang     K2     \n",
              "5   5         Nguyen Van B 2000-12-15 456 Le Duan, TP.HCM          K1     \n",
              "6   6         Le Thi A     2001-06-20 123 Hai Ba Trung, TP.HCM     K2     \n",
              "7   7         Tran Van C   2002-01-10 789 Tran Hung Dao, Ha Noi    K3     \n",
              "8   8         Pham Thi Q   2001-09-09 456 Pho Hue, Ha Noi          K3     \n",
              "9   9         Vo Van T     2002-06-27 616 Tran Nhan Tong, Ha Noi   K3     \n",
              "10 10         Pham Thi D   2001-09-05 101 Ba Trieu, Da Nang        K1     \n",
              "11 11         Hoang Van O  2001-07-13 404 Tran Phu, Ha Noi         K2     \n",
              "12 12         Nguyen Thi H 2002-02-19 505 Tran Binh Trong, TP.HCM  K1     \n",
              "13 13         Pham Van K   1999-10-24 808 Tran Cao Van, TP.HCM     K1     \n",
              "14 14         Vo Thi L     2002-08-12 909 Le Lai, TP.HCM           K2     \n",
              "15 15         Nguyen Van N 2001-03-15 212 Hang Ma, Ha Noi          K3     \n",
              "16 16         Le Thi P     2002-07-18 313 Hang Bong, Ha Noi        K3     \n",
              "17 17         Tran Van R   1999-12-03 414 Hang Dao, Ha Noi         K2     \n",
              "18 18         Vo Van E     2002-05-17 202 Nguyen Du, TP.HCM        K1     \n",
              "19 19         Bui Thi F    2001-12-25 789 Ly Thuong Kiet, TP.HCM   K2     \n",
              "20 20         Bui Van S    2001-01-02 456 Le Thanh Tong, Ha Noi    K1     \n",
              "   dept_id dept_name                \n",
              "1  K3      department of chemistry  \n",
              "2  K2      department of physics    \n",
              "3  K2      department of physics    \n",
              "4  K2      department of physics    \n",
              "5  K1      department of mathematics\n",
              "6  K2      department of physics    \n",
              "7  K3      department of chemistry  \n",
              "8  K3      department of chemistry  \n",
              "9  K3      department of chemistry  \n",
              "10 K1      department of mathematics\n",
              "11 K2      department of physics    \n",
              "12 K1      department of mathematics\n",
              "13 K1      department of mathematics\n",
              "14 K2      department of physics    \n",
              "15 K3      department of chemistry  \n",
              "16 K3      department of chemistry  \n",
              "17 K2      department of physics    \n",
              "18 K1      department of mathematics\n",
              "19 K2      department of physics    \n",
              "20 K1      department of mathematics"
            ]
          },
          "metadata": {}
        }
      ]
    },
    {
      "cell_type": "markdown",
      "source": [
        "4. Number of students in each department"
      ],
      "metadata": {
        "id": "nyI0kec07Qpr"
      }
    },
    {
      "cell_type": "code",
      "source": [
        "# Function to execute queries and display results\n",
        "\n",
        "query4 <- \"SELECT d.dept_name, COUNT(s.student_id) AS num_students FROM departments d LEFT JOIN students s ON d.dept_id = s.dept_id GROUP BY d.dept_name\"\n",
        "\n",
        "dbGetQuery(con, query4)"
      ],
      "metadata": {
        "id": "4NC6GZ3A0ele",
        "colab": {
          "base_uri": "https://localhost:8080/",
          "height": 192
        },
        "outputId": "56f07c7a-5b26-4e4b-f53c-2bd765c5923a"
      },
      "execution_count": 14,
      "outputs": [
        {
          "output_type": "display_data",
          "data": {
            "text/html": [
              "<table class=\"dataframe\">\n",
              "<caption>A data.frame: 3 × 2</caption>\n",
              "<thead>\n",
              "\t<tr><th scope=col>dept_name</th><th scope=col>num_students</th></tr>\n",
              "\t<tr><th scope=col>&lt;chr&gt;</th><th scope=col>&lt;int&gt;</th></tr>\n",
              "</thead>\n",
              "<tbody>\n",
              "\t<tr><td>department of chemistry  </td><td>6</td></tr>\n",
              "\t<tr><td>department of mathematics</td><td>6</td></tr>\n",
              "\t<tr><td>department of physics    </td><td>8</td></tr>\n",
              "</tbody>\n",
              "</table>\n"
            ],
            "text/markdown": "\nA data.frame: 3 × 2\n\n| dept_name &lt;chr&gt; | num_students &lt;int&gt; |\n|---|---|\n| department of chemistry   | 6 |\n| department of mathematics | 6 |\n| department of physics     | 8 |\n\n",
            "text/latex": "A data.frame: 3 × 2\n\\begin{tabular}{ll}\n dept\\_name & num\\_students\\\\\n <chr> & <int>\\\\\n\\hline\n\t department of chemistry   & 6\\\\\n\t department of mathematics & 6\\\\\n\t department of physics     & 8\\\\\n\\end{tabular}\n",
            "text/plain": [
              "  dept_name                 num_students\n",
              "1 department of chemistry   6           \n",
              "2 department of mathematics 6           \n",
              "3 department of physics     8           "
            ]
          },
          "metadata": {}
        }
      ]
    },
    {
      "cell_type": "markdown",
      "source": [
        "5. Filter out departments with less than 8 students"
      ],
      "metadata": {
        "id": "prQ-X3yxQjcM"
      }
    },
    {
      "cell_type": "code",
      "source": [
        "# Function to execute queries and display results\n",
        "\n",
        "query5 <- \"SELECT d.dept_name, COUNT(s.student_id) AS num_students FROM departments d LEFT JOIN students s ON d.dept_id = s.dept_id GROUP BY d.dept_name HAVING COUNT(s.student_id) >= 8\"\n",
        "\n",
        "dbGetQuery(con, query5)"
      ],
      "metadata": {
        "id": "Ab_ISI0x0hAL",
        "colab": {
          "base_uri": "https://localhost:8080/",
          "height": 129
        },
        "outputId": "328eb85b-572e-40a0-9324-2945bfe1ab1b"
      },
      "execution_count": 15,
      "outputs": [
        {
          "output_type": "display_data",
          "data": {
            "text/html": [
              "<table class=\"dataframe\">\n",
              "<caption>A data.frame: 1 × 2</caption>\n",
              "<thead>\n",
              "\t<tr><th scope=col>dept_name</th><th scope=col>num_students</th></tr>\n",
              "\t<tr><th scope=col>&lt;chr&gt;</th><th scope=col>&lt;int&gt;</th></tr>\n",
              "</thead>\n",
              "<tbody>\n",
              "\t<tr><td>department of physics</td><td>8</td></tr>\n",
              "</tbody>\n",
              "</table>\n"
            ],
            "text/markdown": "\nA data.frame: 1 × 2\n\n| dept_name &lt;chr&gt; | num_students &lt;int&gt; |\n|---|---|\n| department of physics | 8 |\n\n",
            "text/latex": "A data.frame: 1 × 2\n\\begin{tabular}{ll}\n dept\\_name & num\\_students\\\\\n <chr> & <int>\\\\\n\\hline\n\t department of physics & 8\\\\\n\\end{tabular}\n",
            "text/plain": [
              "  dept_name             num_students\n",
              "1 department of physics 8           "
            ]
          },
          "metadata": {}
        }
      ]
    },
    {
      "cell_type": "markdown",
      "source": [
        "6. Get the list of students and sort by date of birth from newest to oldest.\n"
      ],
      "metadata": {
        "id": "c3FbBf567-Ov"
      }
    },
    {
      "cell_type": "code",
      "source": [
        "# Function to execute queries and display results\n",
        "\n",
        "query6 <- \"SELECT * FROM students ORDER BY dob DESC\"\n",
        "\n",
        "dbGetQuery(con, query6)"
      ],
      "metadata": {
        "id": "2ljC_JAx7_dZ",
        "colab": {
          "base_uri": "https://localhost:8080/",
          "height": 725
        },
        "outputId": "cf769889-3ceb-460d-e452-ca9442fa3cac"
      },
      "execution_count": 16,
      "outputs": [
        {
          "output_type": "display_data",
          "data": {
            "text/html": [
              "<table class=\"dataframe\">\n",
              "<caption>A data.frame: 20 × 5</caption>\n",
              "<thead>\n",
              "\t<tr><th scope=col>student_id</th><th scope=col>name</th><th scope=col>dob</th><th scope=col>address</th><th scope=col>dept_id</th></tr>\n",
              "\t<tr><th scope=col>&lt;int&gt;</th><th scope=col>&lt;chr&gt;</th><th scope=col>&lt;chr&gt;</th><th scope=col>&lt;chr&gt;</th><th scope=col>&lt;chr&gt;</th></tr>\n",
              "</thead>\n",
              "<tbody>\n",
              "\t<tr><td>14</td><td>Vo Thi L    </td><td>2002-08-12</td><td>909 Le Lai, TP.HCM          </td><td>K2</td></tr>\n",
              "\t<tr><td>16</td><td>Le Thi P    </td><td>2002-07-18</td><td>313 Hang Bong, Ha Noi       </td><td>K3</td></tr>\n",
              "\t<tr><td> 9</td><td>Vo Van T    </td><td>2002-06-27</td><td>616 Tran Nhan Tong, Ha Noi  </td><td>K3</td></tr>\n",
              "\t<tr><td>18</td><td>Vo Van E    </td><td>2002-05-17</td><td>202 Nguyen Du, TP.HCM       </td><td>K1</td></tr>\n",
              "\t<tr><td>12</td><td>Nguyen Thi H</td><td>2002-02-19</td><td>505 Tran Binh Trong, TP.HCM </td><td>K1</td></tr>\n",
              "\t<tr><td> 7</td><td>Tran Van C  </td><td>2002-01-10</td><td>789 Tran Hung Dao, Ha Noi   </td><td>K3</td></tr>\n",
              "\t<tr><td>19</td><td>Bui Thi F   </td><td>2001-12-25</td><td>789 Ly Thuong Kiet, TP.HCM  </td><td>K2</td></tr>\n",
              "\t<tr><td> 1</td><td>Bui Van L   </td><td>2001-11-11</td><td>110 Nguyen Chi Thanh, Ha Noi</td><td>K3</td></tr>\n",
              "\t<tr><td> 8</td><td>Pham Thi Q  </td><td>2001-09-09</td><td>456 Pho Hue, Ha Noi         </td><td>K3</td></tr>\n",
              "\t<tr><td>10</td><td>Pham Thi D  </td><td>2001-09-05</td><td>101 Ba Trieu, Da Nang       </td><td>K1</td></tr>\n",
              "\t<tr><td>11</td><td>Hoang Van O </td><td>2001-07-13</td><td>404 Tran Phu, Ha Noi        </td><td>K2</td></tr>\n",
              "\t<tr><td> 3</td><td>Le Van I    </td><td>2001-06-30</td><td>606 Hoang Van Thu, TP.HCM   </td><td>K2</td></tr>\n",
              "\t<tr><td> 6</td><td>Le Thi A    </td><td>2001-06-20</td><td>123 Hai Ba Trung, TP.HCM    </td><td>K2</td></tr>\n",
              "\t<tr><td> 2</td><td>Hoang Thi N </td><td>2001-05-21</td><td>123 Hang Bai, Ha Noi        </td><td>K2</td></tr>\n",
              "\t<tr><td>15</td><td>Nguyen Van N</td><td>2001-03-15</td><td>212 Hang Ma, Ha Noi         </td><td>K3</td></tr>\n",
              "\t<tr><td>20</td><td>Bui Van S   </td><td>2001-01-02</td><td>456 Le Thanh Tong, Ha Noi   </td><td>K1</td></tr>\n",
              "\t<tr><td> 5</td><td>Nguyen Van B</td><td>2000-12-15</td><td>456 Le Duan, TP.HCM         </td><td>K1</td></tr>\n",
              "\t<tr><td> 4</td><td>Tran Thi J  </td><td>2000-03-08</td><td>717 Nguyen Trai, Da Nang    </td><td>K2</td></tr>\n",
              "\t<tr><td>17</td><td>Tran Van R  </td><td>1999-12-03</td><td>414 Hang Dao, Ha Noi        </td><td>K2</td></tr>\n",
              "\t<tr><td>13</td><td>Pham Van K  </td><td>1999-10-24</td><td>808 Tran Cao Van, TP.HCM    </td><td>K1</td></tr>\n",
              "</tbody>\n",
              "</table>\n"
            ],
            "text/markdown": "\nA data.frame: 20 × 5\n\n| student_id &lt;int&gt; | name &lt;chr&gt; | dob &lt;chr&gt; | address &lt;chr&gt; | dept_id &lt;chr&gt; |\n|---|---|---|---|---|\n| 14 | Vo Thi L     | 2002-08-12 | 909 Le Lai, TP.HCM           | K2 |\n| 16 | Le Thi P     | 2002-07-18 | 313 Hang Bong, Ha Noi        | K3 |\n|  9 | Vo Van T     | 2002-06-27 | 616 Tran Nhan Tong, Ha Noi   | K3 |\n| 18 | Vo Van E     | 2002-05-17 | 202 Nguyen Du, TP.HCM        | K1 |\n| 12 | Nguyen Thi H | 2002-02-19 | 505 Tran Binh Trong, TP.HCM  | K1 |\n|  7 | Tran Van C   | 2002-01-10 | 789 Tran Hung Dao, Ha Noi    | K3 |\n| 19 | Bui Thi F    | 2001-12-25 | 789 Ly Thuong Kiet, TP.HCM   | K2 |\n|  1 | Bui Van L    | 2001-11-11 | 110 Nguyen Chi Thanh, Ha Noi | K3 |\n|  8 | Pham Thi Q   | 2001-09-09 | 456 Pho Hue, Ha Noi          | K3 |\n| 10 | Pham Thi D   | 2001-09-05 | 101 Ba Trieu, Da Nang        | K1 |\n| 11 | Hoang Van O  | 2001-07-13 | 404 Tran Phu, Ha Noi         | K2 |\n|  3 | Le Van I     | 2001-06-30 | 606 Hoang Van Thu, TP.HCM    | K2 |\n|  6 | Le Thi A     | 2001-06-20 | 123 Hai Ba Trung, TP.HCM     | K2 |\n|  2 | Hoang Thi N  | 2001-05-21 | 123 Hang Bai, Ha Noi         | K2 |\n| 15 | Nguyen Van N | 2001-03-15 | 212 Hang Ma, Ha Noi          | K3 |\n| 20 | Bui Van S    | 2001-01-02 | 456 Le Thanh Tong, Ha Noi    | K1 |\n|  5 | Nguyen Van B | 2000-12-15 | 456 Le Duan, TP.HCM          | K1 |\n|  4 | Tran Thi J   | 2000-03-08 | 717 Nguyen Trai, Da Nang     | K2 |\n| 17 | Tran Van R   | 1999-12-03 | 414 Hang Dao, Ha Noi         | K2 |\n| 13 | Pham Van K   | 1999-10-24 | 808 Tran Cao Van, TP.HCM     | K1 |\n\n",
            "text/latex": "A data.frame: 20 × 5\n\\begin{tabular}{lllll}\n student\\_id & name & dob & address & dept\\_id\\\\\n <int> & <chr> & <chr> & <chr> & <chr>\\\\\n\\hline\n\t 14 & Vo Thi L     & 2002-08-12 & 909 Le Lai, TP.HCM           & K2\\\\\n\t 16 & Le Thi P     & 2002-07-18 & 313 Hang Bong, Ha Noi        & K3\\\\\n\t  9 & Vo Van T     & 2002-06-27 & 616 Tran Nhan Tong, Ha Noi   & K3\\\\\n\t 18 & Vo Van E     & 2002-05-17 & 202 Nguyen Du, TP.HCM        & K1\\\\\n\t 12 & Nguyen Thi H & 2002-02-19 & 505 Tran Binh Trong, TP.HCM  & K1\\\\\n\t  7 & Tran Van C   & 2002-01-10 & 789 Tran Hung Dao, Ha Noi    & K3\\\\\n\t 19 & Bui Thi F    & 2001-12-25 & 789 Ly Thuong Kiet, TP.HCM   & K2\\\\\n\t  1 & Bui Van L    & 2001-11-11 & 110 Nguyen Chi Thanh, Ha Noi & K3\\\\\n\t  8 & Pham Thi Q   & 2001-09-09 & 456 Pho Hue, Ha Noi          & K3\\\\\n\t 10 & Pham Thi D   & 2001-09-05 & 101 Ba Trieu, Da Nang        & K1\\\\\n\t 11 & Hoang Van O  & 2001-07-13 & 404 Tran Phu, Ha Noi         & K2\\\\\n\t  3 & Le Van I     & 2001-06-30 & 606 Hoang Van Thu, TP.HCM    & K2\\\\\n\t  6 & Le Thi A     & 2001-06-20 & 123 Hai Ba Trung, TP.HCM     & K2\\\\\n\t  2 & Hoang Thi N  & 2001-05-21 & 123 Hang Bai, Ha Noi         & K2\\\\\n\t 15 & Nguyen Van N & 2001-03-15 & 212 Hang Ma, Ha Noi          & K3\\\\\n\t 20 & Bui Van S    & 2001-01-02 & 456 Le Thanh Tong, Ha Noi    & K1\\\\\n\t  5 & Nguyen Van B & 2000-12-15 & 456 Le Duan, TP.HCM          & K1\\\\\n\t  4 & Tran Thi J   & 2000-03-08 & 717 Nguyen Trai, Da Nang     & K2\\\\\n\t 17 & Tran Van R   & 1999-12-03 & 414 Hang Dao, Ha Noi         & K2\\\\\n\t 13 & Pham Van K   & 1999-10-24 & 808 Tran Cao Van, TP.HCM     & K1\\\\\n\\end{tabular}\n",
            "text/plain": [
              "   student_id name         dob        address                      dept_id\n",
              "1  14         Vo Thi L     2002-08-12 909 Le Lai, TP.HCM           K2     \n",
              "2  16         Le Thi P     2002-07-18 313 Hang Bong, Ha Noi        K3     \n",
              "3   9         Vo Van T     2002-06-27 616 Tran Nhan Tong, Ha Noi   K3     \n",
              "4  18         Vo Van E     2002-05-17 202 Nguyen Du, TP.HCM        K1     \n",
              "5  12         Nguyen Thi H 2002-02-19 505 Tran Binh Trong, TP.HCM  K1     \n",
              "6   7         Tran Van C   2002-01-10 789 Tran Hung Dao, Ha Noi    K3     \n",
              "7  19         Bui Thi F    2001-12-25 789 Ly Thuong Kiet, TP.HCM   K2     \n",
              "8   1         Bui Van L    2001-11-11 110 Nguyen Chi Thanh, Ha Noi K3     \n",
              "9   8         Pham Thi Q   2001-09-09 456 Pho Hue, Ha Noi          K3     \n",
              "10 10         Pham Thi D   2001-09-05 101 Ba Trieu, Da Nang        K1     \n",
              "11 11         Hoang Van O  2001-07-13 404 Tran Phu, Ha Noi         K2     \n",
              "12  3         Le Van I     2001-06-30 606 Hoang Van Thu, TP.HCM    K2     \n",
              "13  6         Le Thi A     2001-06-20 123 Hai Ba Trung, TP.HCM     K2     \n",
              "14  2         Hoang Thi N  2001-05-21 123 Hang Bai, Ha Noi         K2     \n",
              "15 15         Nguyen Van N 2001-03-15 212 Hang Ma, Ha Noi          K3     \n",
              "16 20         Bui Van S    2001-01-02 456 Le Thanh Tong, Ha Noi    K1     \n",
              "17  5         Nguyen Van B 2000-12-15 456 Le Duan, TP.HCM          K1     \n",
              "18  4         Tran Thi J   2000-03-08 717 Nguyen Trai, Da Nang     K2     \n",
              "19 17         Tran Van R   1999-12-03 414 Hang Dao, Ha Noi         K2     \n",
              "20 13         Pham Van K   1999-10-24 808 Tran Cao Van, TP.HCM     K1     "
            ]
          },
          "metadata": {}
        }
      ]
    },
    {
      "cell_type": "markdown",
      "source": [
        "7. List the departments with less than 2 students.\n"
      ],
      "metadata": {
        "id": "xs48vyeG9XBI"
      }
    },
    {
      "cell_type": "code",
      "source": [
        "# Function to execute queries and display results\n",
        "\n",
        "query7 <- \"SELECT d.dept_name, COUNT(s.student_id) AS num_students FROM departments d LEFT JOIN students s ON d.dept_id = s.dept_id GROUP BY d.dept_name HAVING COUNT(s.student_id) < 2\"\n",
        "\n",
        "dbGetQuery(con, query7)"
      ],
      "metadata": {
        "id": "2G1T3EdV9e39",
        "colab": {
          "base_uri": "https://localhost:8080/",
          "height": 98
        },
        "outputId": "3e52a240-0ccb-4d28-f2a1-1dad1d02e45a"
      },
      "execution_count": 17,
      "outputs": [
        {
          "output_type": "display_data",
          "data": {
            "text/html": [
              "<table class=\"dataframe\">\n",
              "<caption>A data.frame: 0 × 2</caption>\n",
              "<thead>\n",
              "\t<tr><th scope=col>dept_name</th><th scope=col>num_students</th></tr>\n",
              "\t<tr><th scope=col>&lt;chr&gt;</th><th scope=col>&lt;lgl&gt;</th></tr>\n",
              "</thead>\n",
              "<tbody>\n",
              "</tbody>\n",
              "</table>\n"
            ],
            "text/markdown": "\nA data.frame: 0 × 2\n\n| dept_name &lt;chr&gt; | num_students &lt;lgl&gt; |\n|---|---|\n\n",
            "text/latex": "A data.frame: 0 × 2\n\\begin{tabular}{ll}\n dept\\_name & num\\_students\\\\\n <chr> & <lgl>\\\\\n\\hline\n\\end{tabular}\n",
            "text/plain": [
              "     dept_name num_students"
            ]
          },
          "metadata": {}
        }
      ]
    },
    {
      "cell_type": "markdown",
      "source": [
        "8. Get the student name and the department name, rename the resulting columns to \"fullname\" and \"fullnameofdepartment\".\n"
      ],
      "metadata": {
        "id": "_ghnhRhT9YDR"
      }
    },
    {
      "cell_type": "code",
      "source": [
        "# Function to execute queries and display results\n",
        "\n",
        "query8 <- \"SELECT s.name AS fullname, d.dept_name AS fullnameofdepartment FROM students s JOIN departments d ON s.dept_id = d.dept_id\"\n",
        "\n",
        "dbGetQuery(con, query8)"
      ],
      "metadata": {
        "id": "u5uCtmWo9f51",
        "colab": {
          "base_uri": "https://localhost:8080/",
          "height": 725
        },
        "outputId": "c5b2014f-9f39-4ab4-da3b-bd0c8ed8e4f3"
      },
      "execution_count": 18,
      "outputs": [
        {
          "output_type": "display_data",
          "data": {
            "text/html": [
              "<table class=\"dataframe\">\n",
              "<caption>A data.frame: 20 × 2</caption>\n",
              "<thead>\n",
              "\t<tr><th scope=col>fullname</th><th scope=col>fullnameofdepartment</th></tr>\n",
              "\t<tr><th scope=col>&lt;chr&gt;</th><th scope=col>&lt;chr&gt;</th></tr>\n",
              "</thead>\n",
              "<tbody>\n",
              "\t<tr><td>Bui Van L   </td><td>department of chemistry  </td></tr>\n",
              "\t<tr><td>Hoang Thi N </td><td>department of physics    </td></tr>\n",
              "\t<tr><td>Le Van I    </td><td>department of physics    </td></tr>\n",
              "\t<tr><td>Tran Thi J  </td><td>department of physics    </td></tr>\n",
              "\t<tr><td>Nguyen Van B</td><td>department of mathematics</td></tr>\n",
              "\t<tr><td>Le Thi A    </td><td>department of physics    </td></tr>\n",
              "\t<tr><td>Tran Van C  </td><td>department of chemistry  </td></tr>\n",
              "\t<tr><td>Pham Thi Q  </td><td>department of chemistry  </td></tr>\n",
              "\t<tr><td>Vo Van T    </td><td>department of chemistry  </td></tr>\n",
              "\t<tr><td>Pham Thi D  </td><td>department of mathematics</td></tr>\n",
              "\t<tr><td>Hoang Van O </td><td>department of physics    </td></tr>\n",
              "\t<tr><td>Nguyen Thi H</td><td>department of mathematics</td></tr>\n",
              "\t<tr><td>Pham Van K  </td><td>department of mathematics</td></tr>\n",
              "\t<tr><td>Vo Thi L    </td><td>department of physics    </td></tr>\n",
              "\t<tr><td>Nguyen Van N</td><td>department of chemistry  </td></tr>\n",
              "\t<tr><td>Le Thi P    </td><td>department of chemistry  </td></tr>\n",
              "\t<tr><td>Tran Van R  </td><td>department of physics    </td></tr>\n",
              "\t<tr><td>Vo Van E    </td><td>department of mathematics</td></tr>\n",
              "\t<tr><td>Bui Thi F   </td><td>department of physics    </td></tr>\n",
              "\t<tr><td>Bui Van S   </td><td>department of mathematics</td></tr>\n",
              "</tbody>\n",
              "</table>\n"
            ],
            "text/markdown": "\nA data.frame: 20 × 2\n\n| fullname &lt;chr&gt; | fullnameofdepartment &lt;chr&gt; |\n|---|---|\n| Bui Van L    | department of chemistry   |\n| Hoang Thi N  | department of physics     |\n| Le Van I     | department of physics     |\n| Tran Thi J   | department of physics     |\n| Nguyen Van B | department of mathematics |\n| Le Thi A     | department of physics     |\n| Tran Van C   | department of chemistry   |\n| Pham Thi Q   | department of chemistry   |\n| Vo Van T     | department of chemistry   |\n| Pham Thi D   | department of mathematics |\n| Hoang Van O  | department of physics     |\n| Nguyen Thi H | department of mathematics |\n| Pham Van K   | department of mathematics |\n| Vo Thi L     | department of physics     |\n| Nguyen Van N | department of chemistry   |\n| Le Thi P     | department of chemistry   |\n| Tran Van R   | department of physics     |\n| Vo Van E     | department of mathematics |\n| Bui Thi F    | department of physics     |\n| Bui Van S    | department of mathematics |\n\n",
            "text/latex": "A data.frame: 20 × 2\n\\begin{tabular}{ll}\n fullname & fullnameofdepartment\\\\\n <chr> & <chr>\\\\\n\\hline\n\t Bui Van L    & department of chemistry  \\\\\n\t Hoang Thi N  & department of physics    \\\\\n\t Le Van I     & department of physics    \\\\\n\t Tran Thi J   & department of physics    \\\\\n\t Nguyen Van B & department of mathematics\\\\\n\t Le Thi A     & department of physics    \\\\\n\t Tran Van C   & department of chemistry  \\\\\n\t Pham Thi Q   & department of chemistry  \\\\\n\t Vo Van T     & department of chemistry  \\\\\n\t Pham Thi D   & department of mathematics\\\\\n\t Hoang Van O  & department of physics    \\\\\n\t Nguyen Thi H & department of mathematics\\\\\n\t Pham Van K   & department of mathematics\\\\\n\t Vo Thi L     & department of physics    \\\\\n\t Nguyen Van N & department of chemistry  \\\\\n\t Le Thi P     & department of chemistry  \\\\\n\t Tran Van R   & department of physics    \\\\\n\t Vo Van E     & department of mathematics\\\\\n\t Bui Thi F    & department of physics    \\\\\n\t Bui Van S    & department of mathematics\\\\\n\\end{tabular}\n",
            "text/plain": [
              "   fullname     fullnameofdepartment     \n",
              "1  Bui Van L    department of chemistry  \n",
              "2  Hoang Thi N  department of physics    \n",
              "3  Le Van I     department of physics    \n",
              "4  Tran Thi J   department of physics    \n",
              "5  Nguyen Van B department of mathematics\n",
              "6  Le Thi A     department of physics    \n",
              "7  Tran Van C   department of chemistry  \n",
              "8  Pham Thi Q   department of chemistry  \n",
              "9  Vo Van T     department of chemistry  \n",
              "10 Pham Thi D   department of mathematics\n",
              "11 Hoang Van O  department of physics    \n",
              "12 Nguyen Thi H department of mathematics\n",
              "13 Pham Van K   department of mathematics\n",
              "14 Vo Thi L     department of physics    \n",
              "15 Nguyen Van N department of chemistry  \n",
              "16 Le Thi P     department of chemistry  \n",
              "17 Tran Van R   department of physics    \n",
              "18 Vo Van E     department of mathematics\n",
              "19 Bui Thi F    department of physics    \n",
              "20 Bui Van S    department of mathematics"
            ]
          },
          "metadata": {}
        }
      ]
    },
    {
      "cell_type": "markdown",
      "source": [
        "9. Get student information named \"Nguyen Van A\" or \"Le Thi B\".\n"
      ],
      "metadata": {
        "id": "oiEIsmSt9ZCt"
      }
    },
    {
      "cell_type": "code",
      "source": [
        "# Function to execute queries and display results\n",
        "\n",
        "query9 <- \"SELECT * FROM students WHERE name = 'Nguyen Van A' OR name = 'Le Thi B'\"\n",
        "\n",
        "dbGetQuery(con, query9)"
      ],
      "metadata": {
        "id": "owgUDW_Z9iIV",
        "colab": {
          "base_uri": "https://localhost:8080/",
          "height": 98
        },
        "outputId": "4ac6bf5a-930b-41fb-c890-c5ee14ff6a48"
      },
      "execution_count": 25,
      "outputs": [
        {
          "output_type": "display_data",
          "data": {
            "text/html": [
              "<table class=\"dataframe\">\n",
              "<caption>A data.frame: 0 × 5</caption>\n",
              "<thead>\n",
              "\t<tr><th scope=col>student_id</th><th scope=col>name</th><th scope=col>dob</th><th scope=col>address</th><th scope=col>dept_id</th></tr>\n",
              "\t<tr><th scope=col>&lt;int&gt;</th><th scope=col>&lt;chr&gt;</th><th scope=col>&lt;chr&gt;</th><th scope=col>&lt;chr&gt;</th><th scope=col>&lt;chr&gt;</th></tr>\n",
              "</thead>\n",
              "<tbody>\n",
              "</tbody>\n",
              "</table>\n"
            ],
            "text/markdown": "\nA data.frame: 0 × 5\n\n| student_id &lt;int&gt; | name &lt;chr&gt; | dob &lt;chr&gt; | address &lt;chr&gt; | dept_id &lt;chr&gt; |\n|---|---|---|---|---|\n\n",
            "text/latex": "A data.frame: 0 × 5\n\\begin{tabular}{lllll}\n student\\_id & name & dob & address & dept\\_id\\\\\n <int> & <chr> & <chr> & <chr> & <chr>\\\\\n\\hline\n\\end{tabular}\n",
            "text/plain": [
              "     student_id name dob address dept_id"
            ]
          },
          "metadata": {}
        }
      ]
    },
    {
      "cell_type": "markdown",
      "source": [
        "10. Get information of students in departments K1 and born after 01-01-2000.\n"
      ],
      "metadata": {
        "id": "THJS0cEB9Z72"
      }
    },
    {
      "cell_type": "code",
      "source": [
        "# Function to execute queries and display results\n",
        "\n",
        "query10 <- \"SELECT * FROM students WHERE dept_id = 'K1' AND dob > '2000-01-01'\"\n",
        "\n",
        "dbGetQuery(con, query10)"
      ],
      "metadata": {
        "id": "Ef3IrNym9i_G",
        "colab": {
          "base_uri": "https://localhost:8080/",
          "height": 255
        },
        "outputId": "d4c9ab8b-2775-4a3e-fe73-d71230e6ff36"
      },
      "execution_count": 23,
      "outputs": [
        {
          "output_type": "display_data",
          "data": {
            "text/html": [
              "<table class=\"dataframe\">\n",
              "<caption>A data.frame: 5 × 5</caption>\n",
              "<thead>\n",
              "\t<tr><th scope=col>student_id</th><th scope=col>name</th><th scope=col>dob</th><th scope=col>address</th><th scope=col>dept_id</th></tr>\n",
              "\t<tr><th scope=col>&lt;int&gt;</th><th scope=col>&lt;chr&gt;</th><th scope=col>&lt;chr&gt;</th><th scope=col>&lt;chr&gt;</th><th scope=col>&lt;chr&gt;</th></tr>\n",
              "</thead>\n",
              "<tbody>\n",
              "\t<tr><td> 5</td><td>Nguyen Van B</td><td>2000-12-15</td><td>456 Le Duan, TP.HCM        </td><td>K1</td></tr>\n",
              "\t<tr><td>10</td><td>Pham Thi D  </td><td>2001-09-05</td><td>101 Ba Trieu, Da Nang      </td><td>K1</td></tr>\n",
              "\t<tr><td>12</td><td>Nguyen Thi H</td><td>2002-02-19</td><td>505 Tran Binh Trong, TP.HCM</td><td>K1</td></tr>\n",
              "\t<tr><td>18</td><td>Vo Van E    </td><td>2002-05-17</td><td>202 Nguyen Du, TP.HCM      </td><td>K1</td></tr>\n",
              "\t<tr><td>20</td><td>Bui Van S   </td><td>2001-01-02</td><td>456 Le Thanh Tong, Ha Noi  </td><td>K1</td></tr>\n",
              "</tbody>\n",
              "</table>\n"
            ],
            "text/markdown": "\nA data.frame: 5 × 5\n\n| student_id &lt;int&gt; | name &lt;chr&gt; | dob &lt;chr&gt; | address &lt;chr&gt; | dept_id &lt;chr&gt; |\n|---|---|---|---|---|\n|  5 | Nguyen Van B | 2000-12-15 | 456 Le Duan, TP.HCM         | K1 |\n| 10 | Pham Thi D   | 2001-09-05 | 101 Ba Trieu, Da Nang       | K1 |\n| 12 | Nguyen Thi H | 2002-02-19 | 505 Tran Binh Trong, TP.HCM | K1 |\n| 18 | Vo Van E     | 2002-05-17 | 202 Nguyen Du, TP.HCM       | K1 |\n| 20 | Bui Van S    | 2001-01-02 | 456 Le Thanh Tong, Ha Noi   | K1 |\n\n",
            "text/latex": "A data.frame: 5 × 5\n\\begin{tabular}{lllll}\n student\\_id & name & dob & address & dept\\_id\\\\\n <int> & <chr> & <chr> & <chr> & <chr>\\\\\n\\hline\n\t  5 & Nguyen Van B & 2000-12-15 & 456 Le Duan, TP.HCM         & K1\\\\\n\t 10 & Pham Thi D   & 2001-09-05 & 101 Ba Trieu, Da Nang       & K1\\\\\n\t 12 & Nguyen Thi H & 2002-02-19 & 505 Tran Binh Trong, TP.HCM & K1\\\\\n\t 18 & Vo Van E     & 2002-05-17 & 202 Nguyen Du, TP.HCM       & K1\\\\\n\t 20 & Bui Van S    & 2001-01-02 & 456 Le Thanh Tong, Ha Noi   & K1\\\\\n\\end{tabular}\n",
            "text/plain": [
              "  student_id name         dob        address                     dept_id\n",
              "1  5         Nguyen Van B 2000-12-15 456 Le Duan, TP.HCM         K1     \n",
              "2 10         Pham Thi D   2001-09-05 101 Ba Trieu, Da Nang       K1     \n",
              "3 12         Nguyen Thi H 2002-02-19 505 Tran Binh Trong, TP.HCM K1     \n",
              "4 18         Vo Van E     2002-05-17 202 Nguyen Du, TP.HCM       K1     \n",
              "5 20         Bui Van S    2001-01-02 456 Le Thanh Tong, Ha Noi   K1     "
            ]
          },
          "metadata": {}
        }
      ]
    },
    {
      "cell_type": "code",
      "source": [
        "# Clean up\n",
        "dbDisconnect(con)"
      ],
      "metadata": {
        "id": "J_uiIdRRRzWc"
      },
      "execution_count": 26,
      "outputs": []
    },
    {
      "cell_type": "code",
      "source": [],
      "metadata": {
        "id": "J6IqWxYlA4nR"
      },
      "execution_count": null,
      "outputs": []
    }
  ]
}