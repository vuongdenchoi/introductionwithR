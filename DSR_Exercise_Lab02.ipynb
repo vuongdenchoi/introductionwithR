{
  "nbformat": 4,
  "nbformat_minor": 0,
  "metadata": {
    "colab": {
      "provenance": [],
      "gpuType": "T4",
      "include_colab_link": true
    },
    "kernelspec": {
      "name": "ir",
      "display_name": "R"
    },
    "language_info": {
      "name": "R"
    },
    "accelerator": "GPU"
  },
  "cells": [
    {
      "cell_type": "markdown",
      "metadata": {
        "id": "view-in-github",
        "colab_type": "text"
      },
      "source": [
        "<a href=\"https://colab.research.google.com/github/vuongdenchoi/introductionwithR/blob/main/DSR_Exercise_Lab02.ipynb\" target=\"_parent\"><img src=\"https://colab.research.google.com/assets/colab-badge.svg\" alt=\"Open In Colab\"/></a>"
      ]
    },
    {
      "cell_type": "markdown",
      "source": [
        "---\n",
        "```\n",
        "Course: DSR301m-SP25\n",
        "Lab: 02\n",
        "Name: Ngô Minh Vượng\n",
        "ID: SE123456\n",
        "Class: AI1804\n",
        "```\n",
        "---\n",
        "\n",
        "**Submission File Name**: use **your StudentID** as file name (e.g., SE123456.ipynb)\n",
        "* Only submit notebook file (.ipynb) or R file (.r)\n",
        "\n",
        "**Deadline for submission: 21:00:00 PM on 09/03/2025**\n",
        "\n",
        "**Link for submission**: https://forms.gle/FLFjDae9M3BU4AEA6\n"
      ],
      "metadata": {
        "id": "XvKKHaH67U--"
      }
    },
    {
      "cell_type": "code",
      "source": [
        "# Install required libraries\n",
        "install.packages('RSQLite')"
      ],
      "metadata": {
        "id": "g6rp47UtBM1M",
        "colab": {
          "base_uri": "https://localhost:8080/"
        },
        "outputId": "4d063353-323e-4d66-db20-275f520ff838"
      },
      "execution_count": 1,
      "outputs": [
        {
          "output_type": "stream",
          "name": "stderr",
          "text": [
            "Installing package into ‘/usr/local/lib/R/site-library’\n",
            "(as ‘lib’ is unspecified)\n",
            "\n",
            "also installing the dependency ‘plogr’\n",
            "\n",
            "\n"
          ]
        }
      ]
    },
    {
      "cell_type": "code",
      "source": [
        "# Load required libraries\n",
        "library(DBI)\n",
        "library(RSQLite)"
      ],
      "metadata": {
        "id": "jqPUw18nBpNX"
      },
      "execution_count": 2,
      "outputs": []
    },
    {
      "cell_type": "code",
      "source": [
        "# Create and connect to an SQLite database (change path as needed)\n",
        "con <- dbConnect(RSQLite::SQLite(), \"mydatabase.db\")\n"
      ],
      "metadata": {
        "id": "_qQeX5TfBp7E"
      },
      "execution_count": 3,
      "outputs": []
    },
    {
      "cell_type": "markdown",
      "source": [
        "1. Complete table creation for PK and FK:\n",
        "* customers: cus_id(PK)\n",
        "* employees: emp_id (PK)\n",
        "* products: pro_id (PK)\n",
        "* invoice: inv_id (PK), cus_id (FK), emp_id (FK)\n",
        "* invoice_details: inv_id(PK, FK), pro_id (PK, FK)"
      ],
      "metadata": {
        "id": "Me2FrVNjd6rR"
      }
    },
    {
      "cell_type": "code",
      "source": [
        "# -- Create tables for online bookstore\n",
        "dbExecute(con, \"CREATE TABLE customers(\n",
        "  cus_id char(4),\n",
        "  name varchar(40),\n",
        "  address varchar(50),\n",
        "  phonenumber varchar(20),\n",
        "  DoB DATE,\n",
        "  reg_date DATE,\n",
        "  sale money)\n",
        "  \")\n",
        "\n",
        "dbExecute(con, \"CREATE TABLE employees(\n",
        "  emp_id char(4),\n",
        "  name varchar(40),\n",
        "  phonenumber varchar(20),\n",
        "  start_date DATE)\n",
        "  \")\n",
        "\n",
        "dbExecute(con, \"CREATE TABLE products(\n",
        " pro_id char(4),\n",
        " pro_name varchar(40),\n",
        " unit varchar(20),\n",
        " pro_country varchar(40),\n",
        " price money)\n",
        " \")\n",
        "\n",
        "dbExecute(con, \"CREATE TABLE invoice(\n",
        " inv_id int,\n",
        " inv_date DATE,\n",
        " inv_value money,\n",
        " cus_id char(4),\n",
        " emp_id char(4)\n",
        " )\")\n",
        "#\n",
        "#\n",
        "dbExecute(con, \"CREATE TABLE invoice_details(\n",
        " inv_id int,\n",
        " pro_id char(4),\n",
        " quantity int)\n",
        " \")\n"
      ],
      "metadata": {
        "id": "DB8tb_r6DqYe",
        "collapsed": true,
        "colab": {
          "base_uri": "https://localhost:8080/",
          "height": 104
        },
        "outputId": "8489e6f1-9b02-4e6d-fa52-5c2eb658fac6"
      },
      "execution_count": 4,
      "outputs": [
        {
          "output_type": "display_data",
          "data": {
            "text/html": [
              "0"
            ],
            "text/markdown": "0",
            "text/latex": "0",
            "text/plain": [
              "[1] 0"
            ]
          },
          "metadata": {}
        },
        {
          "output_type": "display_data",
          "data": {
            "text/html": [
              "0"
            ],
            "text/markdown": "0",
            "text/latex": "0",
            "text/plain": [
              "[1] 0"
            ]
          },
          "metadata": {}
        },
        {
          "output_type": "display_data",
          "data": {
            "text/html": [
              "0"
            ],
            "text/markdown": "0",
            "text/latex": "0",
            "text/plain": [
              "[1] 0"
            ]
          },
          "metadata": {}
        },
        {
          "output_type": "display_data",
          "data": {
            "text/html": [
              "0"
            ],
            "text/markdown": "0",
            "text/latex": "0",
            "text/plain": [
              "[1] 0"
            ]
          },
          "metadata": {}
        },
        {
          "output_type": "display_data",
          "data": {
            "text/html": [
              "0"
            ],
            "text/markdown": "0",
            "text/latex": "0",
            "text/plain": [
              "[1] 0"
            ]
          },
          "metadata": {}
        }
      ]
    },
    {
      "cell_type": "code",
      "source": [
        "dbExecute(con, \"insert into customers (cus_id, name, address, phonenumber, DoB, reg_date, sale) values\n",
        " ('CM09','Le Ha Vinh','873 Le Hong Phong, Q5, TpHCM','8654763','1979-09-03','2007-01-14',70000),\n",
        "  ('CM06','Le Hoai Thuong','227 Nguyen Van Cu, Q5, TpHCM','8631738','1981-12-31','2006-11-24',915000),\n",
        " ('CM07','Nguyen Van Tam','32/3 Tran Binh Trong, Q5, TpHCM','916783565','1971-04-06','2006-01-12',12500),\n",
        " ('CM08','Phan Thi Thanh','45/2 An Duong Vuong, Q5, TpHCM','938435756','1971-01-10','2006-12-13',365000),\n",
        " ('CM04','Tran Minh Long','50/34 Le Dai Hanh, Q10, TpHCM','917325476','1965-03-09','2006-02-10',250000),\n",
        " ('CM05','Le Nhat Minh','34 Truong Dinh, Q3, TpHCM','8246108','1950-03-10','2006-10-28',21000),\n",
        "('CM01','Nguyen Van A','731 Tran Hung Dao, Q5, TpHCM','8823451','1960-10-22','2006-07-22',13060000),\n",
        "('CM02','Tran Ngoc Han','23/5 Nguyen Trai, Q5, TpHCM','908256478','1974-03-04','2006-07-30',280000),\n",
        " ('CM03','Tran Ngoc Linh','45 Nguyen Canh Chan, Q1, TpHCM','938776266','1980-06-12','2006-05-08',3860000),\n",
        " ('CM10','Ha Duy Lap','34/34B Nguyen Trai, Q1, TpHCM','8768904','1983-05-02','2007-01-16',67500)\"\n",
        " )\n",
        "\n",
        "\n",
        "dbExecute(con, \"insert into employees (emp_id, name, phonenumber, start_date) values\n",
        "('ST04','Ngo Thanh Tuan','913758498','2006-06-24'),\n",
        "('ST02','Le Thi Phi Yen','987567390','2006-04-21'),\n",
        "('ST03','Nguyen Van B','997047382','2006-04-27'),\n",
        "('ST01','Nguyen Nhu Nhut','927345678','2006-04-13'),\n",
        "('ST05','Nguyen Thi Truc Thanh','918590387','2006-07-20')\")\n",
        "\n",
        "dbExecute(con, \"insert into  products (pro_id,pro_name,unit,pro_country, price) values\n",
        " ('NB07','note book 1','q','VietNam',7000),\n",
        " ('NB08','note book 1','q','VietNam',1000),\n",
        " ('NB09','note book 2','q','VietNam',5000),\n",
        " ('BP01','ballpoint pen','c','VietNam',5000),\n",
        " ('BP02','ballpoint pen','c','China',7000),\n",
        " ('BP03','ballpoint pen','h','Thailand',100000),\n",
        "  ('PP03','paper 300','q','VietNam',3000),\n",
        " ('PP04','paper 400','q','VietNam',5500),\n",
        " ('PP05','paper 100','q','VietNam',23000),\n",
        " ('PP06','paper 200','q','VietNam',53000),\n",
        "  ('NB02','note book 1','q','VietNam',55000),\n",
        " ('NB03','note book 2','q','VietNam',51000),\n",
        " ('NB04','note book','q','Thailand',55000),\n",
        " ('NB05','note book 1','q','Thailand',20000),\n",
        " ('PP01','paper 100','q','China',2500),\n",
        " ('PP02','paper 200','q','China',4500),\n",
        " ('PP07','paper 100','q','China',34000),\n",
        " ('NB01','note book','q','China',40000),\n",
        " ('PC01','pencil','c','Singapore',3000),\n",
        "('PC02','pencil','c','Singapore',5000),\n",
        "('PC03','pencil','c','VietNam',3500),\n",
        " ('PC04','pencil','h','VietNam',30000),\n",
        " ('NB06','note book 3','q','VietNam',5000),\n",
        " ('NB10','note book 2','q','China',7000)\")\n",
        "\n",
        "dbExecute(con, \"insert into invoice (inv_id,inv_date,cus_id ,emp_id, inv_value) values\n",
        " (1001,'2006-07-23','CM01','ST01',320000),\n",
        " (1015,'2007-01-01','CM06','ST01',910000),\n",
        "(1016,'2007-01-01','CM07','ST02',12500),\n",
        "(1017,'2007-01-02','CM08','ST03',35000),\n",
        "(1005,'2006-10-20','CM01','ST02',3800000),\n",
        "(1006,'2006-10-16','CM01','ST03',2430000),\n",
        "(1010,'2006-11-01','CM01','ST01',5200000),\n",
        "(1011,'2006-11-04','CM04','ST03',250000),\n",
        "(1012,'2006-11-30','CM05','ST03',21000),\n",
        "(1013,'2006-12-12','CM06','ST01',5000),\n",
        "(1007,'2006-10-28','CM03','ST03',510000),\n",
        "(1008,'2006-10-28','CM01','ST03',440000),\n",
        "(1009,'2006-10-28','CM03','ST04',200000),\n",
        "(1018,'2007-01-13','CM08','ST03',330000),\n",
        "(1002,'2006-08-12','CM01','ST02',840000),\n",
        "(1003,'2006-08-23','CM02','ST01',100000),\n",
        "(1004,'2006-09-01','CM02','ST01',180000),\n",
        "(1019,'2007-01-13','CM01','ST03',30000),\n",
        "(1020,'2007-01-14','CM09','ST04',70000),\n",
        "(1021,'2007-01-16','CM10','ST03',67500),\n",
        "(1022,'2007-01-16',Null,'ST03',7000),\n",
        "(1014,'2006-12-31','CM03','ST02',3150000),\n",
        "(1023,'2007-01-17',Null,'ST01',330000)\"\n",
        ")\n",
        "\n",
        "dbExecute(con, \"insert into  invoice_details (inv_id,pro_id,quantity) values\n",
        "(1001,'PB02',10),\n",
        " (1006,'PB07',20),\n",
        " (1006,'NB01',30),\n",
        " (1006,'NB02',10),\n",
        "  (1002,'BP02',20),\n",
        " (1003,'BP03',10),\n",
        " (1004,'PB01',20),\n",
        " (1004,'PB02',10),\n",
        " (1007,'NB03',10),\n",
        " (1001,'NB01',5),\n",
        " (1001,'PC01',5),\n",
        " (1001,'PC02',10),\n",
        " (1001,'PB08',10),\n",
        " (1002,'BC04',20),\n",
        " (1002,'BP01',20),\n",
        " (1008,'NB04',8),\n",
        " (1009,'NB05',10),\n",
        " (1010,'PB07',50),\n",
        " (1010,'NB07',50),\n",
        " (1004,'PB03',10),\n",
        " (1004,'PB04',10),\n",
        " (1005,'PB05',50),\n",
        " (1005,'PB06',50),\n",
        " (1014,'BP02',100),\n",
        " (1014,'PC04',60),\n",
        " (1014,'BP01',50),\n",
        " (1015,'BPB02',30),\n",
        " (1010,'NB08',100),\n",
        " (1010,'NB04',50),\n",
        " (1010,'PB03',100),\n",
        " (1011,'NB06',50),\n",
        " (1012,'PB07',3),\n",
        " (1013,'NB08',5),\n",
        " (1014,'PC02',80),\n",
        " (1017,'PBV03',1),\n",
        " (1017,'PB04',5),\n",
        " (1018,'NB04',6),\n",
        " (1019,'NB05',1),\n",
        " (1015,'PB03',7),\n",
        " (1016,'PB01',5),\n",
        " (1017,'PB02',1),\n",
        " (1020,'NB07',10),\n",
        " (1021,'NB08',5),\n",
        " (1021,'PB01',7),\n",
        " (1021,'PB02',10),\n",
        " (1019,'NB06',2),\n",
        " (1022,'NB07',1),\n",
        " (1023,'NB04',6)\")\n",
        "\n"
      ],
      "metadata": {
        "id": "TIo3CFxz7-kp",
        "colab": {
          "base_uri": "https://localhost:8080/",
          "height": 104
        },
        "outputId": "47cda4aa-d5a3-4e39-d24e-05d9a139cc79"
      },
      "execution_count": 5,
      "outputs": [
        {
          "output_type": "display_data",
          "data": {
            "text/html": [
              "10"
            ],
            "text/markdown": "10",
            "text/latex": "10",
            "text/plain": [
              "[1] 10"
            ]
          },
          "metadata": {}
        },
        {
          "output_type": "display_data",
          "data": {
            "text/html": [
              "5"
            ],
            "text/markdown": "5",
            "text/latex": "5",
            "text/plain": [
              "[1] 5"
            ]
          },
          "metadata": {}
        },
        {
          "output_type": "display_data",
          "data": {
            "text/html": [
              "24"
            ],
            "text/markdown": "24",
            "text/latex": "24",
            "text/plain": [
              "[1] 24"
            ]
          },
          "metadata": {}
        },
        {
          "output_type": "display_data",
          "data": {
            "text/html": [
              "23"
            ],
            "text/markdown": "23",
            "text/latex": "23",
            "text/plain": [
              "[1] 23"
            ]
          },
          "metadata": {}
        },
        {
          "output_type": "display_data",
          "data": {
            "text/html": [
              "48"
            ],
            "text/markdown": "48",
            "text/latex": "48",
            "text/plain": [
              "[1] 48"
            ]
          },
          "metadata": {}
        }
      ]
    },
    {
      "cell_type": "markdown",
      "source": [
        "2. Print out invoice numbers and invoice values ​​sold on January 1, 2007 and January 2, 2007."
      ],
      "metadata": {
        "id": "OET7XSwHOBgf"
      }
    },
    {
      "cell_type": "code",
      "source": [
        "# your code\n",
        "# Assuming 'con' is your database connection\n",
        "\n",
        "# Query to select the desired data\n",
        "query <- \"SELECT inv_id, inv_value\n",
        "          FROM invoice\n",
        "          WHERE inv_date IN ('2007-01-01', '2007-01-02')\"\n",
        "\n",
        "# Execute the query and store the result\n",
        "result <- dbGetQuery(con, query)\n",
        "\n",
        "# Print the result\n",
        "print(result)"
      ],
      "metadata": {
        "id": "VQrYyhNDCNFa",
        "colab": {
          "base_uri": "https://localhost:8080/"
        },
        "outputId": "266ffce5-9bf0-4db9-ed25-a4e77247eb42"
      },
      "execution_count": 6,
      "outputs": [
        {
          "output_type": "stream",
          "name": "stdout",
          "text": [
            "  inv_id inv_value\n",
            "1   1015    910000\n",
            "2   1016     12500\n",
            "3   1017     35000\n"
          ]
        }
      ]
    },
    {
      "cell_type": "markdown",
      "source": [
        "3.Print out invoice numbers and invoice values ​​for January 2007, sorted by date (ascending) and invoice value (descending)."
      ],
      "metadata": {
        "id": "MVH22bAxODSu"
      }
    },
    {
      "cell_type": "code",
      "source": [
        "# your code\n",
        "# Assuming 'con' is your database connection\n",
        "\n",
        "# Query to select and sort the data\n",
        "query <- \"SELECT inv_id, inv_value, inv_date\n",
        "          FROM invoice\n",
        "          WHERE strftime('%m', inv_date) = '01' AND strftime('%Y',inv_date)='2007'\n",
        "          ORDER BY inv_date ASC, inv_value DESC\"\n",
        "\n",
        "\n",
        "# Execute the query and store the result\n",
        "result <- dbGetQuery(con, query)\n",
        "\n",
        "# Print the result\n",
        "print(result)"
      ],
      "metadata": {
        "id": "nhsXyTGfDGcz",
        "colab": {
          "base_uri": "https://localhost:8080/"
        },
        "outputId": "252482d4-d676-4035-99e4-3f31feace322"
      },
      "execution_count": 10,
      "outputs": [
        {
          "output_type": "stream",
          "name": "stdout",
          "text": [
            "  inv_id inv_value   inv_date\n",
            "1   1015    910000 2007-01-01\n",
            "2   1016     12500 2007-01-01\n",
            "3   1017     35000 2007-01-02\n",
            "4   1018    330000 2007-01-13\n",
            "5   1019     30000 2007-01-13\n",
            "6   1020     70000 2007-01-14\n",
            "7   1021     67500 2007-01-16\n",
            "8   1022      7000 2007-01-16\n",
            "9   1023    330000 2007-01-17\n"
          ]
        }
      ]
    },
    {
      "cell_type": "markdown",
      "source": [
        "4. Print out a list of customers (cus_id, name) who made purchases on January 1, 2007."
      ],
      "metadata": {
        "id": "q51SPZ4cOTph"
      }
    },
    {
      "cell_type": "code",
      "source": [
        "# your code\n",
        "# Assuming 'con' is your database connection\n",
        "\n",
        "# SQL query to retrieve customer information\n",
        "query <- \"SELECT DISTINCT c.cus_id, c.name\n",
        "          FROM customers c\n",
        "          JOIN invoice i ON c.cus_id = i.cus_id\n",
        "          WHERE i.inv_date = '2007-01-01'\"\n",
        "\n",
        "# Execute the query\n",
        "result <- dbGetQuery(con, query)\n",
        "\n",
        "# Print the result\n",
        "print(result)"
      ],
      "metadata": {
        "id": "NJPFGKXmFk3Y",
        "colab": {
          "base_uri": "https://localhost:8080/"
        },
        "outputId": "5606e058-5483-4271-c5e7-5c3c1aeea768"
      },
      "execution_count": 12,
      "outputs": [
        {
          "output_type": "stream",
          "name": "stdout",
          "text": [
            "  cus_id           name\n",
            "1   CM06 Le Hoai Thuong\n",
            "2   CM07 Nguyen Van Tam\n"
          ]
        }
      ]
    },
    {
      "cell_type": "markdown",
      "source": [
        "5. Find the invoice numbers for purchasing 2 products with codes “BP01” and “BP02” at the same time, each product purchased in quantity from 10 to 20."
      ],
      "metadata": {
        "id": "srXsrg9x_E5A"
      }
    },
    {
      "cell_type": "code",
      "source": [
        "# your\n",
        "# Assuming 'con' is your database connection\n",
        "\n",
        "query <- \"SELECT DISTINCT inv_id\n",
        "          FROM invoice_details\n",
        "          WHERE pro_id IN ('BP01', 'BP02') AND quantity BETWEEN 10 AND 20\n",
        "          GROUP BY inv_id\n",
        "          HAVING COUNT(DISTINCT pro_id) = 2\"\n",
        "\n",
        "result <- dbGetQuery(con, query)\n",
        "\n",
        "print(result)\n"
      ],
      "metadata": {
        "id": "T93FKuUWOfyr",
        "colab": {
          "base_uri": "https://localhost:8080/"
        },
        "outputId": "2dbe512a-4406-42b4-bbbd-2ed49f3402fa"
      },
      "execution_count": 13,
      "outputs": [
        {
          "output_type": "stream",
          "name": "stdout",
          "text": [
            "  inv_id\n",
            "1   1002\n"
          ]
        }
      ]
    },
    {
      "cell_type": "markdown",
      "source": [
        "6. Print out a list of products (pro_id,pro_name) made by “China” or products sold on January 1, 2007."
      ],
      "metadata": {
        "id": "bD2nT2MQAMWd"
      }
    },
    {
      "cell_type": "code",
      "source": [
        "# your code\n",
        "# Assuming 'con' is your database connection\n",
        "\n",
        "query <- \"SELECT DISTINCT p.pro_id, p.pro_name\n",
        "          FROM products p\n",
        "          LEFT JOIN invoice_details id ON p.pro_id = id.pro_id\n",
        "          LEFT JOIN invoice i ON id.inv_id = i.inv_id\n",
        "          WHERE p.pro_country = 'China' OR i.inv_date = '2007-01-01'\"\n",
        "\n",
        "result <- dbGetQuery(con, query)\n",
        "\n",
        "print(result)\n"
      ],
      "metadata": {
        "id": "XJGCn09a_a-F",
        "colab": {
          "base_uri": "https://localhost:8080/"
        },
        "outputId": "1bf5e8e2-5696-4c6e-9cc9-6b98a63336f0"
      },
      "execution_count": 14,
      "outputs": [
        {
          "output_type": "stream",
          "name": "stdout",
          "text": [
            "  pro_id      pro_name\n",
            "1   BP02 ballpoint pen\n",
            "2   PP01     paper 100\n",
            "3   PP02     paper 200\n",
            "4   PP07     paper 100\n",
            "5   NB01     note book\n",
            "6   NB10   note book 2\n"
          ]
        }
      ]
    },
    {
      "cell_type": "markdown",
      "source": [
        "7. How many different products were sold in 2006?"
      ],
      "metadata": {
        "id": "IbZzeUtrARKE"
      }
    },
    {
      "cell_type": "code",
      "source": [
        "# your code\n",
        "# Assuming 'con' is your database connection\n",
        "\n",
        "query <- \"SELECT COUNT(DISTINCT pro_id)\n",
        "          FROM invoice_details id\n",
        "          JOIN invoice i ON id.inv_id = i.inv_id\n",
        "          WHERE strftime('%Y', i.inv_date) = '2006'\"\n",
        "\n",
        "result <- dbGetQuery(con, query)\n",
        "\n",
        "print(result)"
      ],
      "metadata": {
        "id": "GxxCkVDrARgt",
        "colab": {
          "base_uri": "https://localhost:8080/"
        },
        "outputId": "eba2fa5c-dc25-4390-adcc-b41af36c746c"
      },
      "execution_count": 15,
      "outputs": [
        {
          "output_type": "stream",
          "name": "stdout",
          "text": [
            "  COUNT(DISTINCT pro_id)\n",
            "1                     23\n"
          ]
        }
      ]
    },
    {
      "cell_type": "markdown",
      "source": [
        "8. Find the name of the customer who purchased the highest invoice value in 2006."
      ],
      "metadata": {
        "id": "CAahij_cASYi"
      }
    },
    {
      "cell_type": "code",
      "source": [
        "\n",
        "# your code\n",
        "# Assuming 'con' is your database connection\n",
        "\n",
        "query <- \"SELECT c.name\n",
        "          FROM customers c\n",
        "          JOIN invoice i ON c.cus_id = i.cus_id\n",
        "          WHERE strftime('%Y', i.inv_date) = '2006'\n",
        "          ORDER BY i.inv_value DESC\n",
        "          LIMIT 1\"\n",
        "\n",
        "result <- dbGetQuery(con, query)\n",
        "\n",
        "print(result)"
      ],
      "metadata": {
        "id": "XRd2fvZ9ASx2",
        "colab": {
          "base_uri": "https://localhost:8080/"
        },
        "outputId": "70fb1bc2-878d-4cfb-ed84-fd561349edde"
      },
      "execution_count": 16,
      "outputs": [
        {
          "output_type": "stream",
          "name": "stdout",
          "text": [
            "          name\n",
            "1 Nguyen Van A\n"
          ]
        }
      ]
    },
    {
      "cell_type": "markdown",
      "source": [
        "9. For each producing country, find the product (pro_id,pro_name) with the highest selling price."
      ],
      "metadata": {
        "id": "WcAPks1XDLLn"
      }
    },
    {
      "cell_type": "code",
      "source": [
        "# your code\n",
        "# Assuming 'con' is your database connection\n",
        "\n",
        "query <- \"SELECT pro_country, pro_id, pro_name, price\n",
        "          FROM products\n",
        "          WHERE (pro_country, price) IN (SELECT pro_country, MAX(price)\n",
        "                                        FROM products\n",
        "                                        GROUP BY pro_country)\"\n",
        "\n",
        "result <- dbGetQuery(con, query)\n",
        "\n",
        "print(result)"
      ],
      "metadata": {
        "id": "QYywe6ztCxG4",
        "colab": {
          "base_uri": "https://localhost:8080/"
        },
        "outputId": "52e4b8f8-4e2e-4c86-f6e4-fc4956dacfe4"
      },
      "execution_count": 17,
      "outputs": [
        {
          "output_type": "stream",
          "name": "stdout",
          "text": [
            "  pro_country pro_id      pro_name  price\n",
            "1    Thailand   BP03 ballpoint pen 100000\n",
            "2     VietNam   NB02   note book 1  55000\n",
            "3       China   NB01     note book  40000\n",
            "4   Singapore   PC02        pencil   5000\n"
          ]
        }
      ]
    },
    {
      "cell_type": "markdown",
      "source": [
        "10. Of the top 10 customers with the highest sales, find the customer with the most purchases."
      ],
      "metadata": {
        "id": "Gbw327OIDhhy"
      }
    },
    {
      "cell_type": "code",
      "source": [
        "# your code\n",
        "# Assuming 'con' is your database connection\n",
        "\n",
        "# Step 1: Find the top 10 customers with the highest sales\n",
        "top10_customers <- dbGetQuery(con, \"\n",
        "  SELECT cus_id, SUM(sale) AS total_sales\n",
        "  FROM customers\n",
        "  GROUP BY cus_id\n",
        "  ORDER BY total_sales DESC\n",
        "  LIMIT 10\n",
        "\")\n",
        "\n",
        "# Step 2: Find the customer with the most purchases among the top 10\n",
        "most_purchases_customer <- dbGetQuery(con, paste0(\"\n",
        "  SELECT c.cus_id, c.name, COUNT(i.inv_id) AS num_purchases\n",
        "  FROM customers c\n",
        "  JOIN invoice i ON c.cus_id = i.cus_id\n",
        "  WHERE c.cus_id IN ('\", paste(top10_customers$cus_id, collapse = \"', '\"), \"')\n",
        "  GROUP BY c.cus_id, c.name\n",
        "  ORDER BY num_purchases DESC\n",
        "  LIMIT 1\n",
        "\"))\n",
        "\n",
        "# Print the result\n",
        "print(most_purchases_customer)\n"
      ],
      "metadata": {
        "id": "gwH0f0QYEAf9",
        "colab": {
          "base_uri": "https://localhost:8080/"
        },
        "outputId": "a8fd077b-7d1e-48bd-a0ec-18c880650161"
      },
      "execution_count": 18,
      "outputs": [
        {
          "output_type": "stream",
          "name": "stdout",
          "text": [
            "  cus_id         name num_purchases\n",
            "1   CM01 Nguyen Van A             7\n"
          ]
        }
      ]
    },
    {
      "cell_type": "code",
      "source": [],
      "metadata": {
        "id": "c_zpvbYINbVG"
      },
      "execution_count": null,
      "outputs": []
    }
  ]
}