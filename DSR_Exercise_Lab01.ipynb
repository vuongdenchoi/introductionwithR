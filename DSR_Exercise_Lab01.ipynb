{
  "nbformat": 4,
  "nbformat_minor": 0,
  "metadata": {
    "colab": {
      "provenance": [],
      "include_colab_link": true
    },
    "kernelspec": {
      "name": "ir",
      "display_name": "R"
    },
    "language_info": {
      "name": "R"
    }
  },
  "cells": [
    {
      "cell_type": "markdown",
      "metadata": {
        "id": "view-in-github",
        "colab_type": "text"
      },
      "source": [
        "<a href=\"https://colab.research.google.com/github/vuongdenchoi/introductionwithR/blob/main/DSR_Exercise_Lab01.ipynb\" target=\"_parent\"><img src=\"https://colab.research.google.com/assets/colab-badge.svg\" alt=\"Open In Colab\"/></a>"
      ]
    },
    {
      "cell_type": "markdown",
      "source": [
        "---\n",
        "```\n",
        "Course: DSR301m-SP25\n",
        "Lab: 01\n",
        "Name: Ngô Minh Vượng\n",
        "ID: SE172460\n",
        "Class: AI1804\n",
        "```\n",
        "---\n",
        "**Submission File Name**: use **your StudentID** as file name (e.g., SE123456.ipynb or SE123456.zip)\n",
        "\n",
        "\n",
        "**Link for submission:** https://forms.gle/hDyLQfsGABFrdkgMA\n",
        "\n",
        " **Should be submitted before 21:00:00 PM on 13/02/2025**\n"
      ],
      "metadata": {
        "id": "XvKKHaH67U--"
      }
    },
    {
      "cell_type": "markdown",
      "source": [
        "1. (1pts) Write a script to solve a quadratic equation of the form: $ax^2+bx+c=0$.\n",
        "\n",
        "2. (2pts) Create a simple \"Keo, Bua, Bao\" game in R. Enter data for 2 players. If the user wants to continue playing, press the Y button, otherwise press N. Use if, else if, and else statements to determine the winner based on the rules:\n",
        "* Keo beats Bao\n",
        "* Bao beats Bua\n",
        "* Bua beats keo\n",
        "\n",
        "3. (2pts) Write a function to check for prime numbers. You create a program for the user to enter a number and check if that number is prime. If the user wants to continue, press the Y button, otherwise press N.\n",
        "\n",
        "4. (2pts) Write a program to enter a password and check if the password is valid given the following conditions:\n",
        "- 8-20 characters long\n",
        "- At least one uppercase letter\n",
        "- At least one lowercase letter\n",
        "- At least one number\n",
        "- At least one special character\n",
        "- No three consecutive repeating characters\n",
        "\n",
        "5. (3pts) Read data from this link:\n",
        "'https://archive.ics.uci.edu/ml/machine-learning-databases/breast-cancer-wisconsin/breast-cancer-wisconsin.data'\n",
        "\n",
        "  a. Change the name of column as\n",
        "c('Sample code', 'Clump Thickness', 'Uniformity of Cell Size', 'Uniformity of Cell Shape', 'Marginal Adhesion', 'Single Epithelial Cell Size', 'Bare Nuclei', 'Bland Chromatin','Normal Nucleoli', 'Mitoses','Class')\n",
        "\n",
        "  b. Missing values in the above data are encoded as '?'. Convert the missing values to NA, then count the number of missing values in each column of the data.\n",
        "\n",
        "  c. Replacing missing values in each column with median value of that column."
      ],
      "metadata": {
        "id": "o2R0JXnzzGTB"
      }
    },
    {
      "cell_type": "markdown",
      "source": [
        "1. (1pts) Write a script to solve a quadratic equation of the form: $ax^2+bx+c=0$.\n",
        "\n",
        "2. (2pts) Create a simple \"Keo, Bua, Bao\" game in R. Enter data for 2 players. If the user wants to continue playing, press the Y button, otherwise press N. Use if, else if, and else statements to determine the winner based on the rules:\n",
        "* Keo beats Bao\n",
        "* Bao beats Bua\n",
        "* Bua beats keo\n",
        "\n",
        "3. (2pts) Write a function to check for prime numbers. You create a program for the user to enter a number and check if that number is prime. If the user wants to continue, press the Y button, otherwise press N.\n",
        "\n",
        "4. (2pts) Write a program to enter a password and check if the password is valid given the following conditions:\n",
        "- 8-20 characters long\n",
        "- At least one uppercase letter\n",
        "- At least one lowercase letter\n",
        "- At least one number\n",
        "- At least one special character\n",
        "- No three consecutive repeating characters\n",
        "\n",
        "5. (3pts) Read data from this link:\n",
        "'https://archive.ics.uci.edu/ml/machine-learning-databases/breast-cancer-wisconsin/breast-cancer-wisconsin.data'\n",
        "\n",
        "  a. Change the name of column as\n",
        "c('Sample code', 'Clump Thickness', 'Uniformity of Cell Size', 'Uniformity of Cell Shape', 'Marginal Adhesion', 'Single Epithelial Cell Size', 'Bare Nuclei', 'Bland Chromatin','Normal Nucleoli', 'Mitoses','Class')\n",
        "\n",
        "  b. Missing values in the above data are encoded as '?'. Convert the missing values to NA, then count the number of missing values in each column of the data.\n",
        "\n",
        "  c. Replacing missing values in each column with median value of that column."
      ],
      "metadata": {
        "id": "cYSkoCfj0gVv"
      }
    },
    {
      "cell_type": "markdown",
      "source": [],
      "metadata": {
        "id": "96aknUHHqVjK"
      }
    },
    {
      "cell_type": "markdown",
      "source": [
        "Bài 1:"
      ],
      "metadata": {
        "id": "z8Xxj2jIqZVA"
      }
    },
    {
      "cell_type": "code",
      "source": [
        "# Hàm để giải phương trình bậc hai\n",
        "solve_quadratic <- function(a, b, c) {\n",
        "  # Tính toán delta\n",
        "  discriminant <- b^2 - 4 * a * c\n",
        "\n",
        "  # Kiểm tra xem delta là dương, âm hay bằng 0\n",
        "  if (discriminant > 0) {\n",
        "    # Hai nghiệm phân biệt\n",
        "    root1 <- (-b + sqrt(discriminant)) / (2 * a)\n",
        "    root2 <- (-b - sqrt(discriminant)) / (2 * a)\n",
        "    cat(\"Phương trình có hai nghiệm phân biệt:\", root1, \"và\", root2, \"\\n\")\n",
        "  } else if (discriminant == 0) {\n",
        "    # Nghiệm kép\n",
        "    root <- -b / (2 * a)\n",
        "    cat(\"Phương trình có nghiệm kép:\", root, \"\\n\")\n",
        "  } else {\n",
        "    # Nghiệm phức\n",
        "    real_part <- -b / (2 * a)\n",
        "    imaginary_part <- sqrt(abs(discriminant)) / (2 * a)\n",
        "    cat(\"Phương trình có nghiệm phức:\", real_part, \"+\", imaginary_part, \"i và\", real_part, \"-\", imaginary_part, \"i\\n\")\n",
        "  }\n",
        "}\n",
        "\n",
        "# Nhập dữ liệu từ người dùng\n",
        "a <- as.numeric(readline(\"Nhập giá trị của a: \"))\n",
        "b <- as.numeric(readline(\"Nhập giá trị của b: \"))\n",
        "c <- as.numeric(readline(\"Nhập giá trị của c: \"))\n",
        "\n",
        "# Giải phương trình\n",
        "solve_quadratic(a, b, c)"
      ],
      "metadata": {
        "colab": {
          "base_uri": "https://localhost:8080/"
        },
        "id": "z_hOvGKbqXVe",
        "outputId": "c959b3f2-a8ab-437a-a9c0-6cc336903560"
      },
      "execution_count": null,
      "outputs": [
        {
          "output_type": "stream",
          "name": "stdout",
          "text": [
            "Nhập giá trị của a: 1\n",
            "Nhập giá trị của b: 4\n",
            "Nhập giá trị của c: 4\n",
            "Phương trình có nghiệm kép: -2 \n"
          ]
        }
      ]
    },
    {
      "cell_type": "code",
      "source": [
        "# Function to play the game\n",
        "play_game <- function() {\n",
        "  # Get player choices\n",
        "  player1 <- readline(\"Player 1, enter your choice (Keo, Bua, Bao): \")\n",
        "  player2 <- readline(\"Player 2, enter your choice (Keo, Bua, Bao): \")\n",
        "\n",
        "  # Determine the winner\n",
        "  if (player1 == player2) {\n",
        "    cat(\"It's a tie!\\n\")\n",
        "  } else if ((player1 == \"Keo\" && player2 == \"Bao\") ||\n",
        "             (player1 == \"Bao\" && player2 == \"Bua\") ||\n",
        "             (player1 == \"Bua\" && player2 == \"Keo\")) {\n",
        "    cat(\"Player 1 wins!\\n\")\n",
        "  } else {\n",
        "    cat(\"Player 2 wins!\\n\")\n",
        "  }\n",
        "}\n",
        "\n",
        "# Main game loop\n",
        "repeat {\n",
        "  play_game()\n",
        "  continue <- readline(\"Play again? (Y/N): \")\n",
        "  if (continue != \"Y\") {\n",
        "    break\n",
        "  }\n",
        "}"
      ],
      "metadata": {
        "colab": {
          "base_uri": "https://localhost:8080/"
        },
        "id": "rkC1PoPWwWtR",
        "outputId": "59a4e4cc-7b71-4b20-a9d3-613618c18cc7"
      },
      "execution_count": null,
      "outputs": [
        {
          "output_type": "stream",
          "name": "stdout",
          "text": [
            "Player 1, enter your choice (Keo, Bua, Bao): keo\n",
            "Player 2, enter your choice (Keo, Bua, Bao): bua\n",
            "Play again? (Y/N): Y\n",
            "Player 1, enter your choice (Keo, Bua, Bao): keo\n",
            "Player 2, enter your choice (Keo, Bua, Bao): bua\n",
            "Play again? (Y/N): N\n",
            "Player 2 wins!\n",
            "Player 2 wins!\n"
          ]
        }
      ]
    },
    {
      "cell_type": "markdown",
      "source": [],
      "metadata": {
        "id": "vV0OxOW8y5xy"
      }
    },
    {
      "cell_type": "code",
      "source": [
        "# Hàm để kiểm tra xem một số có phải là số nguyên tố hay không\n",
        "is_prime <- function(n) {\n",
        "  # Nếu n nhỏ hơn hoặc bằng 1, nó không phải là số nguyên tố\n",
        "  if (n <= 1) {\n",
        "    return(FALSE)\n",
        "  }\n",
        "  # Lặp qua các số từ 2 đến căn bậc hai của n\n",
        "  for (i in 2:sqrt(n)) {\n",
        "    # Nếu n chia hết cho i, thì nó không phải là số nguyên tố\n",
        "    if (n %% i == 0) {\n",
        "      return(FALSE)\n",
        "    }\n",
        "  }\n",
        "  # Nếu không tìm thấy ước số nào, thì nó là số nguyên tố\n",
        "  return(TRUE)\n",
        "}\n",
        "\n",
        "# Vòng lặp chính của chương trình\n",
        "repeat {\n",
        "  # Yêu cầu người dùng nhập một số\n",
        "  num <- as.integer(readline(\"Nhập một số: \"))\n",
        "  # Kiểm tra xem số đó có phải là số nguyên tố hay không bằng cách gọi hàm is_prime()\n",
        "  if (is_prime(num)) {\n",
        "    # In ra kết quả nếu là số nguyên tố\n",
        "    cat(num, \"là số nguyên tố.\\n\")\n",
        "  } else {\n",
        "    # In ra kết quả nếu không phải là số nguyên tố\n",
        "    cat(num, \"không phải là số nguyên tố.\\n\")\n",
        "  }\n",
        "\n",
        "  # Hỏi người dùng có muốn kiểm tra số khác hay không\n",
        "  continue <- readline(\"Kiểm tra số khác? (Y/N): \")\n",
        "  # Nếu người dùng nhập 'Y', vòng lặp sẽ tiếp tục\n",
        "  if (continue != \"Y\") {\n",
        "    # Nếu người dùng nhập bất kỳ ký tự nào khác 'Y', vòng lặp sẽ kết thúc\n",
        "    break\n",
        "  }\n",
        "}"
      ],
      "metadata": {
        "colab": {
          "base_uri": "https://localhost:8080/"
        },
        "id": "tEl-GC_HzMEX",
        "outputId": "941d718d-82c2-45d7-df57-d4fad43a5370"
      },
      "execution_count": null,
      "outputs": [
        {
          "output_type": "stream",
          "name": "stdout",
          "text": [
            "Nhập một số: 1\n",
            "Kiểm tra số khác? (Y/N): N\n",
            "1 không phải là số nguyên tố.\n"
          ]
        }
      ]
    },
    {
      "cell_type": "code",
      "source": [
        "# Hàm kiểm tra tính hợp lệ của mật khẩu\n",
        "is_valid_password <- function(password) {\n",
        "  # Kiểm tra độ dài mật khẩu\n",
        "  if (nchar(password) < 8 || nchar(password) > 20) {\n",
        "    return(FALSE) # Mật khẩu không hợp lệ nếu độ dài không nằm trong khoảng 8-20 ký tự\n",
        "  }\n",
        "\n",
        "  # Kiểm tra xem có chứa ít nhất một chữ cái thường không\n",
        "  if (!grepl(\"[a-z]\", password)) {\n",
        "    return(FALSE) # Mật khẩu không hợp lệ nếu không chứa chữ cái thường\n",
        "  }\n",
        "\n",
        "  # Kiểm tra xem có chứa ít nhất một chữ cái hoa không\n",
        "  if (!grepl(\"[A-Z]\", password)) {\n",
        "    return(FALSE) # Mật khẩu không hợp lệ nếu không chứa chữ cái hoa\n",
        "  }\n",
        "\n",
        "  # Kiểm tra xem có chứa ít nhất một chữ số không\n",
        "  if (!grepl(\"[0-9]\", password)) {\n",
        "    return(FALSE) # Mật khẩu không hợp lệ nếu không chứa chữ số\n",
        "  }\n",
        "\n",
        "  # Kiểm tra xem có chứa ít nhất một ký tự đặc biệt không\n",
        "  if (!grepl(\"[!@#\\\\$%^&*()_+=[\\\\\\\\]{};':\\\"|,.<>/?]\", password)) {\n",
        "    return(FALSE) # Mật khẩu không hợp lệ nếu không chứa ký tự đặc biệt\n",
        "  }\n",
        "\n",
        "  # Kiểm tra xem có 3 ký tự liên tiếp giống nhau không\n",
        "  if (grepl(\"(.)\\\\1\\\\1\", password, perl = TRUE)) {\n",
        "    return(FALSE) # Mật khẩu không hợp lệ nếu có 3 ký tự liên tiếp giống nhau\n",
        "  }\n",
        "\n",
        "  # Nếu tất cả các điều kiện trên đều thỏa mãn, mật khẩu hợp lệ\n",
        "  return(TRUE)\n",
        "}\n",
        "\n",
        "# Nhập mật khẩu từ người dùng\n",
        "password <- readline(\"Nhập mật khẩu: \")\n",
        "\n",
        "# Kiểm tra tính hợp lệ\n",
        "if (is_valid_password(password)) {\n",
        "  cat(\"Mật khẩu hợp lệ\\n\")\n",
        "} else {\n",
        "  cat(\"Mật khẩu không hợp lệ\\n\")\n",
        "}"
      ],
      "metadata": {
        "colab": {
          "base_uri": "https://localhost:8080/"
        },
        "id": "ajuh_ap51PlF",
        "outputId": "b321297a-2ed1-4f98-858c-f597e65ec975"
      },
      "execution_count": null,
      "outputs": [
        {
          "output_type": "stream",
          "name": "stdout",
          "text": [
            "Nhập mật khẩu: ewde\n",
            "Mật khẩu không hợp lệ\n"
          ]
        }
      ]
    },
    {
      "cell_type": "code",
      "source": [
        "# Cài đặt và tải các thư viện cần thiết\n",
        "if(!require(readr)){install.packages(\"readr\")}\n",
        "library(readr)\n",
        "\n",
        "# a. Đọc dữ liệu và thay đổi tên cột\n",
        "# Đọc tất cả các cột dưới dạng ký tự ban đầu để tránh suy luận kiểu tự động\n",
        "data <- read_csv(\"https://archive.ics.uci.edu/ml/machine-learning-databases/breast-cancer-wisconsin/breast-cancer-wisconsin.data\", col_names = FALSE, col_types = cols(.default = \"c\"))\n",
        "colnames(data) <- c('Sample code', 'Clump Thickness', 'Uniformity of Cell Size', 'Uniformity of Cell Shape', 'Marginal Adhesion', 'Single Epithelial Cell Size', 'Bare Nuclei', 'Bland Chromatin','Normal Nucleoli', 'Mitoses','Class')\n",
        "\n",
        "# b. Chuyển đổi các giá trị bị thiếu thành NA và đếm chúng\n",
        "data[data == \"?\"] <- NA # Thay thế \"?\" bằng NA\n",
        "sapply(data, function(x) sum(is.na(x))) # Đếm NA trong mỗi cột\n"
      ],
      "metadata": {
        "colab": {
          "base_uri": "https://localhost:8080/",
          "height": 52
        },
        "id": "GfevyS0AbTsg",
        "outputId": "7a6977fa-f771-4f08-d255-a35bf54daf15"
      },
      "execution_count": 3,
      "outputs": [
        {
          "output_type": "display_data",
          "data": {
            "text/html": [
              "<style>\n",
              ".dl-inline {width: auto; margin:0; padding: 0}\n",
              ".dl-inline>dt, .dl-inline>dd {float: none; width: auto; display: inline-block}\n",
              ".dl-inline>dt::after {content: \":\\0020\"; padding-right: .5ex}\n",
              ".dl-inline>dt:not(:first-of-type) {padding-left: .5ex}\n",
              "</style><dl class=dl-inline><dt>Sample code</dt><dd>0</dd><dt>Clump Thickness</dt><dd>0</dd><dt>Uniformity of Cell Size</dt><dd>0</dd><dt>Uniformity of Cell Shape</dt><dd>0</dd><dt>Marginal Adhesion</dt><dd>0</dd><dt>Single Epithelial Cell Size</dt><dd>0</dd><dt>Bare Nuclei</dt><dd>16</dd><dt>Bland Chromatin</dt><dd>0</dd><dt>Normal Nucleoli</dt><dd>0</dd><dt>Mitoses</dt><dd>0</dd><dt>Class</dt><dd>0</dd></dl>\n"
            ],
            "text/markdown": "Sample code\n:   0Clump Thickness\n:   0Uniformity of Cell Size\n:   0Uniformity of Cell Shape\n:   0Marginal Adhesion\n:   0Single Epithelial Cell Size\n:   0Bare Nuclei\n:   16Bland Chromatin\n:   0Normal Nucleoli\n:   0Mitoses\n:   0Class\n:   0\n\n",
            "text/latex": "\\begin{description*}\n\\item[Sample code] 0\n\\item[Clump Thickness] 0\n\\item[Uniformity of Cell Size] 0\n\\item[Uniformity of Cell Shape] 0\n\\item[Marginal Adhesion] 0\n\\item[Single Epithelial Cell Size] 0\n\\item[Bare Nuclei] 16\n\\item[Bland Chromatin] 0\n\\item[Normal Nucleoli] 0\n\\item[Mitoses] 0\n\\item[Class] 0\n\\end{description*}\n",
            "text/plain": [
              "                Sample code             Clump Thickness \n",
              "                          0                           0 \n",
              "    Uniformity of Cell Size    Uniformity of Cell Shape \n",
              "                          0                           0 \n",
              "          Marginal Adhesion Single Epithelial Cell Size \n",
              "                          0                           0 \n",
              "                Bare Nuclei             Bland Chromatin \n",
              "                         16                           0 \n",
              "            Normal Nucleoli                     Mitoses \n",
              "                          0                           0 \n",
              "                      Class \n",
              "                          0 "
            ]
          },
          "metadata": {}
        }
      ]
    },
    {
      "cell_type": "code",
      "source": [
        "\n",
        "# c. Thay thế các giá trị bị thiếu bằng giá trị trung vị\n",
        "for (i in 2:ncol(data)) { # Lặp qua các cột (ngoại trừ 'Sample code')\n",
        "  # Chuyển đổi cột thành số, xử lý lỗi nếu có giá trị không phải số\n",
        "  data[, i] <- as.numeric(as.character(data[, i]))\n",
        "  # Nếu chuyển đổi thất bại, hãy bỏ qua cột này\n",
        "  if (any(is.na(data[, i])) && !all(is.na(data[, i]))) {\n",
        "    data[is.na(data[, i]), i] <- median(data[, i], na.rm = TRUE) # Thay thế bằng giá trị trung vị nếu chuyển đổi thành công và có NA\n",
        "  }\n",
        "}"
      ],
      "metadata": {
        "colab": {
          "base_uri": "https://localhost:8080/"
        },
        "id": "DqCaS7OOcpcg",
        "outputId": "c5deb4bb-343a-4b73-b413-10c941c142c2"
      },
      "execution_count": 5,
      "outputs": [
        {
          "output_type": "stream",
          "name": "stderr",
          "text": [
            "Warning message:\n",
            "“NAs introduced by coercion”\n",
            "Warning message:\n",
            "“NAs introduced by coercion”\n",
            "Warning message:\n",
            "“NAs introduced by coercion”\n",
            "Warning message:\n",
            "“NAs introduced by coercion”\n",
            "Warning message:\n",
            "“NAs introduced by coercion”\n",
            "Warning message:\n",
            "“NAs introduced by coercion”\n",
            "Warning message:\n",
            "“NAs introduced by coercion”\n",
            "Warning message:\n",
            "“NAs introduced by coercion”\n",
            "Warning message:\n",
            "“NAs introduced by coercion”\n",
            "Warning message:\n",
            "“NAs introduced by coercion”\n"
          ]
        }
      ]
    }
  ]
}