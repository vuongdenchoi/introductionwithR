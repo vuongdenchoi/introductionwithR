{
  "nbformat": 4,
  "nbformat_minor": 0,
  "metadata": {
    "colab": {
      "provenance": [],
      "gpuType": "T4",
      "include_colab_link": true
    },
    "kernelspec": {
      "name": "ir",
      "display_name": "R"
    },
    "language_info": {
      "name": "R"
    },
    "accelerator": "GPU"
  },
  "cells": [
    {
      "cell_type": "markdown",
      "metadata": {
        "id": "view-in-github",
        "colab_type": "text"
      },
      "source": [
        "<a href=\"https://colab.research.google.com/github/vuongdenchoi/introductionwithR/blob/main/DSR_PT_1.ipynb\" target=\"_parent\"><img src=\"https://colab.research.google.com/assets/colab-badge.svg\" alt=\"Open In Colab\"/></a>"
      ]
    },
    {
      "cell_type": "markdown",
      "source": [
        "---\n",
        "```\n",
        "Course: DSR301m-SP25\n",
        "PT: 01\n",
        "Name: Ngô Minh Vượng\n",
        "ID: SE123456\n",
        "Class: AI1804\n",
        "```\n",
        "---\n",
        "\n",
        "**Submission File Name**: use **your StudentID** as file name (e.g., SE123456.ipynb)\n",
        "  * Only submit `.ipynb` file or `.r` file\n",
        "\n",
        "**Deadline for submission: 8:30:00 AM on 11/03/2025**\n",
        "\n",
        "**Link for submission**: https://forms.gle/FQtTSZsy4mMwfbdf6\n"
      ],
      "metadata": {
        "id": "9GIlXfN8FFGK"
      }
    },
    {
      "cell_type": "markdown",
      "source": [
        "1. (2pts) Write a function that takes a vector as input. Check if the vector represents the 3 sides of a triangle, and return the type of triangle.\n"
      ],
      "metadata": {
        "id": "LL75zgPl9Drq"
      }
    },
    {
      "cell_type": "code",
      "source": [
        "# your code\n",
        "triangle_type <- function(sides) {\n",
        "  # Check if input is a valid vector of length 3\n",
        "  if (length(sides) != 3) {\n",
        "    return(\"Input must be a vector of three numbers\")\n",
        "  }\n",
        "\n",
        "  # Extract the three sides\n",
        "  a <- sides[1]\n",
        "  b <- sides[2]\n",
        "  c <- sides[3]\n",
        "\n",
        "  # Check the triangle inequality condition\n",
        "  if (a + b <= c || a + c <= b || b + c <= a) {\n",
        "    return(\"Not a triangle\")\n",
        "  }\n",
        "\n",
        "  # Determine the type of triangle\n",
        "  if (a == b && b == c) {\n",
        "    return(\"Equilateral triangle\")\n",
        "  } else if (a == b || a == c || b == c) {\n",
        "    return(\"Isosceles triangle\")\n",
        "  } else {\n",
        "    return(\"Scalene triangle\")\n",
        "  }\n",
        "}\n",
        "\n",
        "# Example usage:\n",
        "print(triangle_type(c(3, 3, 3)))  # Equilateral triangle\n",
        "print(triangle_type(c(3, 4, 5)))  # Scalene triangle\n",
        "print(triangle_type(c(2, 2, 3)))  # Isosceles triangle\n",
        "print(triangle_type(c(1, 2, 3)))  # Not a triangle\n"
      ],
      "metadata": {
        "id": "2zlhZs5LE-A2",
        "colab": {
          "base_uri": "https://localhost:8080/"
        },
        "outputId": "81e0ec12-5c3a-48b8-8677-38e3b5151cd1"
      },
      "execution_count": 1,
      "outputs": [
        {
          "output_type": "stream",
          "name": "stdout",
          "text": [
            "[1] \"Equilateral triangle\"\n",
            "[1] \"Scalene triangle\"\n",
            "[1] \"Isosceles triangle\"\n",
            "[1] \"Not a triangle\"\n"
          ]
        }
      ]
    },
    {
      "cell_type": "markdown",
      "source": [
        "\n",
        "2. (2pts) Write a function that takes a vector as input. Check if the vector represents three coefficients of a quadratic equation, and solve the equation."
      ],
      "metadata": {
        "id": "fVOq7Wh_E-ca"
      }
    },
    {
      "cell_type": "code",
      "source": [
        " solve_quadratic <- function(coeffs) {\n",
        "  # Check if input is a valid vector of length 3\n",
        "  if (length(coeffs) != 3) {\n",
        "    return(\"Input must be a vector of three numbers (a, b, c)\")\n",
        "  }\n",
        "\n",
        "  # Extract the coefficients\n",
        "  a <- coeffs[1]\n",
        "  b <- coeffs[2]\n",
        "  c <- coeffs[3]\n",
        "\n",
        "  # Check if 'a' is zero (not a quadratic equation)\n",
        "  if (a == 0) {\n",
        "    if (b == 0) {\n",
        "      return(ifelse(c == 0, \"Infinite solutions\", \"No solution\")) # Special cases: 0x + 0 = 0 or 0x + c = 0\n",
        "    }\n",
        "    return(paste(\"Linear equation solution:\", -c / b)) # bx + c = 0\n",
        "  }\n",
        "\n",
        "  # Compute the discriminant\n",
        "  discriminant <- b^2 - 4 * a * c\n",
        "\n",
        "  # Solve the equation based on the discriminant\n",
        "  if (discriminant > 0) {\n",
        "    x1 <- (-b + sqrt(discriminant)) / (2 * a)\n",
        "    x2 <- (-b - sqrt(discriminant)) / (2 * a)\n",
        "    return(paste(\"Two real solutions:\", x1, \"and\", x2))\n",
        "  } else if (discriminant == 0) {\n",
        "    x <- -b / (2 * a)\n",
        "    return(paste(\"One real solution:\", x))\n",
        "  } else {\n",
        "    real_part <- -b / (2 * a)\n",
        "    imaginary_part <- sqrt(-discriminant) / (2 * a)\n",
        "    return(paste(\"Two complex solutions:\",\n",
        "                 paste(real_part, \"+\", imaginary_part, \"i\"),\n",
        "                 \"and\",\n",
        "                 paste(real_part, \"-\", imaginary_part, \"i\")))\n",
        "  }\n",
        "}\n",
        "\n",
        "# Example usage:\n",
        "print(solve_quadratic(c(1, -3, 2)))  # Two real solutions: x = 2, x = 1\n",
        "print(solve_quadratic(c(1, 2, 1)))   # One real solution: x = -1\n",
        "print(solve_quadratic(c(1, 0, 1)))   # Two complex solutions: x = i, x = -i\n",
        "print(solve_quadratic(c(0, 2, -4)))  # Linear equation solution: x = 2\n",
        "print(solve_quadratic(c(0, 0, 5)))   # No solution\n"
      ],
      "metadata": {
        "id": "EFrtNFeVpfJF",
        "colab": {
          "base_uri": "https://localhost:8080/"
        },
        "outputId": "50ab1a64-3331-4a7a-8f74-12263c56ccf2"
      },
      "execution_count": 6,
      "outputs": [
        {
          "output_type": "stream",
          "name": "stdout",
          "text": [
            "[1] \"Two real solutions: 2 and 1\"\n",
            "[1] \"One real solution: -1\"\n",
            "[1] \"Two complex solutions: 0 + 1 i and 0 - 1 i\"\n",
            "[1] \"Linear equation solution: 2\"\n",
            "[1] \"No solution\"\n"
          ]
        }
      ]
    },
    {
      "cell_type": "markdown",
      "source": [
        "3. (1pts) Write a function to check for prime numbers. You create a program for the user to enter a vector and check if each element of the vector is prime."
      ],
      "metadata": {
        "id": "DH8nOCstGi-Y"
      }
    },
    {
      "cell_type": "code",
      "source": [
        "# your code\n",
        "# Function to check if a number is prime\n",
        "is_prime <- function(n) {\n",
        "  if (n < 2) {\n",
        "    return(FALSE)\n",
        "  }\n",
        "  for (i in 2:sqrt(n)) {\n",
        "    if (n %% i == 0) {\n",
        "      return(FALSE)\n",
        "    }\n",
        "  }\n",
        "  return(TRUE)\n",
        "}\n",
        "\n",
        "# Function to check a vector for prime numbers\n",
        "check_prime_vector <- function(vec) {\n",
        "  if (!is.numeric(vec)) {\n",
        "    return(\"Input must be a numeric vector\")\n",
        "  }\n",
        "\n",
        "  prime_status <- sapply(vec, is_prime)  # Apply is_prime function to each element\n",
        "  result <- data.frame(Number = vec, Is_Prime = prime_status)\n",
        "\n",
        "  return(result)\n",
        "}\n",
        "\n",
        "# User input and execution\n",
        "user_input <- as.numeric(strsplit(readline(\"Enter numbers separated by space: \"), \" \")[[1]])\n",
        "prime_results <- check_prime_vector(user_input)\n",
        "\n",
        "print(prime_results)\n",
        "\n"
      ],
      "metadata": {
        "id": "ZD8B_29dGjLO",
        "colab": {
          "base_uri": "https://localhost:8080/"
        },
        "outputId": "d60f970a-d2f9-4787-b436-5206ebea3509"
      },
      "execution_count": 9,
      "outputs": [
        {
          "output_type": "stream",
          "name": "stdout",
          "text": [
            "Enter numbers separated by space: 4 5 7 9 11 14 15\n",
            "  Number Is_Prime\n",
            "1      4    FALSE\n",
            "2      5     TRUE\n",
            "3      7     TRUE\n",
            "4      9    FALSE\n",
            "5     11     TRUE\n",
            "6     14    FALSE\n",
            "7     15    FALSE\n"
          ]
        }
      ]
    },
    {
      "cell_type": "code",
      "source": [
        "# Install required libraries\n",
        "install.packages('RSQLite')"
      ],
      "metadata": {
        "colab": {
          "base_uri": "https://localhost:8080/"
        },
        "id": "qc7pdQbbpgN7",
        "outputId": "7e4d6e7c-7588-48b2-caf7-0a223cbe921d"
      },
      "execution_count": 1,
      "outputs": [
        {
          "output_type": "stream",
          "name": "stderr",
          "text": [
            "Installing package into ‘/usr/local/lib/R/site-library’\n",
            "(as ‘lib’ is unspecified)\n",
            "\n",
            "also installing the dependency ‘plogr’\n",
            "\n",
            "\n"
          ]
        }
      ]
    },
    {
      "cell_type": "code",
      "source": [
        "# Load required libraries\n",
        "library(DBI)\n",
        "library(RSQLite)"
      ],
      "metadata": {
        "id": "LO3XW7j5pzZh"
      },
      "execution_count": 2,
      "outputs": []
    },
    {
      "cell_type": "code",
      "source": [
        "# Create and connect to an SQLite database (change path as needed)\n",
        "con <- dbConnect(RSQLite::SQLite(), \"mydatabase.db\")\n"
      ],
      "metadata": {
        "id": "6KgYdhvWE-0r"
      },
      "execution_count": 3,
      "outputs": []
    },
    {
      "cell_type": "markdown",
      "source": [
        "4. (1pts) Complete table creation for PK and FK:\n",
        "* customers: cus_id(PK)\n",
        "* employees: emp_id (PK)\n",
        "* products: pro_id (PK)\n",
        "* invoice: inv_id (PK), cus_id (FK), emp_id (FK)\n",
        "* invoice_details: inv_id(PK, FK), pro_id (PK, FK)"
      ],
      "metadata": {
        "id": "bK6BRpmwHO-9"
      }
    },
    {
      "cell_type": "code",
      "source": [
        "# -- Create tables for online bookstore\n",
        "dbExecute(con, \"CREATE TABLE customers(\n",
        "  cus_id char(4),\n",
        "  name varchar(40),\n",
        "  address varchar(50),\n",
        "  phonenumber varchar(20),\n",
        "  DoB DATE,\n",
        "  reg_date DATE,\n",
        "  sale money)\n",
        "  \")\n",
        "\n",
        "dbExecute(con, \"CREATE TABLE employees(\n",
        "  emp_id char(4),\n",
        "  name varchar(40),\n",
        "  phonenumber varchar(20),\n",
        "  start_date DATE)\n",
        "  \")\n",
        "\n",
        "dbExecute(con, \"CREATE TABLE products(\n",
        " pro_id char(4),\n",
        " pro_name varchar(40),\n",
        " unit varchar(20),\n",
        " pro_country varchar(40),\n",
        " price money)\n",
        " \")\n",
        "\n",
        "dbExecute(con, \"CREATE TABLE invoice(\n",
        " inv_id int,\n",
        " inv_date DATE,\n",
        " inv_value money,\n",
        " cus_id char(4),\n",
        " emp_id char(4)\n",
        " )\")\n",
        "#\n",
        "#\n",
        "dbExecute(con, \"CREATE TABLE invoice_details(\n",
        " inv_id int,\n",
        " pro_id char(4),\n",
        " quantity int)\n",
        " \")\n"
      ],
      "metadata": {
        "id": "BkQO6iBRHIyb",
        "colab": {
          "base_uri": "https://localhost:8080/",
          "height": 104
        },
        "outputId": "674f78a8-c0e7-44a1-d3fa-2c5e6416156a"
      },
      "execution_count": 4,
      "outputs": [
        {
          "output_type": "display_data",
          "data": {
            "text/html": [
              "0"
            ],
            "text/markdown": "0",
            "text/latex": "0",
            "text/plain": [
              "[1] 0"
            ]
          },
          "metadata": {}
        },
        {
          "output_type": "display_data",
          "data": {
            "text/html": [
              "0"
            ],
            "text/markdown": "0",
            "text/latex": "0",
            "text/plain": [
              "[1] 0"
            ]
          },
          "metadata": {}
        },
        {
          "output_type": "display_data",
          "data": {
            "text/html": [
              "0"
            ],
            "text/markdown": "0",
            "text/latex": "0",
            "text/plain": [
              "[1] 0"
            ]
          },
          "metadata": {}
        },
        {
          "output_type": "display_data",
          "data": {
            "text/html": [
              "0"
            ],
            "text/markdown": "0",
            "text/latex": "0",
            "text/plain": [
              "[1] 0"
            ]
          },
          "metadata": {}
        },
        {
          "output_type": "display_data",
          "data": {
            "text/html": [
              "0"
            ],
            "text/markdown": "0",
            "text/latex": "0",
            "text/plain": [
              "[1] 0"
            ]
          },
          "metadata": {}
        }
      ]
    },
    {
      "cell_type": "code",
      "source": [
        "# -- Create tables for online bookstore\n",
        "dbExecute(con, \"CREATE TABLE customers(\n",
        "  cus_id char(4),\n",
        "  name varchar(40),\n",
        "  address varchar(50),\n",
        "  phonenumber varchar(20),\n",
        "  DoB DATE,\n",
        "  reg_date DATE,\n",
        "  sale money)\n",
        "  \")\n",
        "\n",
        "dbExecute(con, \"CREATE TABLE employees(\n",
        "  emp_id char(4),\n",
        "  name varchar(40),\n",
        "  phonenumber varchar(20),\n",
        "  start_date DATE)\n",
        "  \")\n",
        "\n",
        "dbExecute(con, \"CREATE TABLE products(\n",
        " pro_id char(4),\n",
        " pro_name varchar(40),\n",
        " unit varchar(20),\n",
        " pro_country varchar(40),\n",
        " price money)\n",
        " \")\n",
        "\n",
        "dbExecute(con, \"CREATE TABLE invoice(\n",
        " inv_id int,\n",
        " inv_date DATE,\n",
        " inv_value money,\n",
        " cus_id char(4),\n",
        " emp_id char(4)\n",
        " )\")\n",
        "#\n",
        "#\n",
        "dbExecute(con, \"CREATE TABLE invoice_details(\n",
        " inv_id int,\n",
        " pro_id char(4),\n",
        " quantity int)\n",
        " \")\n"
      ],
      "metadata": {
        "colab": {
          "base_uri": "https://localhost:8080/",
          "height": 104
        },
        "outputId": "674f78a8-c0e7-44a1-d3fa-2c5e6416156a",
        "id": "E-9cz0nurI4b"
      },
      "execution_count": null,
      "outputs": [
        {
          "output_type": "display_data",
          "data": {
            "text/html": [
              "0"
            ],
            "text/markdown": "0",
            "text/latex": "0",
            "text/plain": [
              "[1] 0"
            ]
          },
          "metadata": {}
        },
        {
          "output_type": "display_data",
          "data": {
            "text/html": [
              "0"
            ],
            "text/markdown": "0",
            "text/latex": "0",
            "text/plain": [
              "[1] 0"
            ]
          },
          "metadata": {}
        },
        {
          "output_type": "display_data",
          "data": {
            "text/html": [
              "0"
            ],
            "text/markdown": "0",
            "text/latex": "0",
            "text/plain": [
              "[1] 0"
            ]
          },
          "metadata": {}
        },
        {
          "output_type": "display_data",
          "data": {
            "text/html": [
              "0"
            ],
            "text/markdown": "0",
            "text/latex": "0",
            "text/plain": [
              "[1] 0"
            ]
          },
          "metadata": {}
        },
        {
          "output_type": "display_data",
          "data": {
            "text/html": [
              "0"
            ],
            "text/markdown": "0",
            "text/latex": "0",
            "text/plain": [
              "[1] 0"
            ]
          },
          "metadata": {}
        }
      ]
    },
    {
      "cell_type": "code",
      "source": [
        "dbExecute(con, \"insert into customers (cus_id, name, address, phonenumber, DoB, reg_date, sale) values\n",
        " ('CM09','Le Ha Vinh','873 Le Hong Phong, Q5, TpHCM','8654763','1979-09-03','2007-01-14',70000),\n",
        "  ('CM06','Le Hoai Thuong','227 Nguyen Van Cu, Q5, TpHCM','8631738','1981-12-31','2006-11-24',915000),\n",
        " ('CM07','Nguyen Van Tam','32/3 Tran Binh Trong, Q5, TpHCM','916783565','1971-04-06','2006-01-12',12500),\n",
        " ('CM08','Phan Thi Thanh','45/2 An Duong Vuong, Q5, TpHCM','938435756','1971-01-10','2006-12-13',365000),\n",
        " ('CM04','Tran Minh Long','50/34 Le Dai Hanh, Q10, TpHCM','917325476','1965-03-09','2006-02-10',250000),\n",
        " ('CM05','Le Nhat Minh','34 Truong Dinh, Q3, TpHCM','8246108','1950-03-10','2006-10-28',21000),\n",
        "('CM01','Nguyen Van A','731 Tran Hung Dao, Q5, TpHCM','8823451','1960-10-22','2006-07-22',13060000),\n",
        "('CM02','Tran Ngoc Han','23/5 Nguyen Trai, Q5, TpHCM','908256478','1974-03-04','2006-07-30',280000),\n",
        " ('CM03','Tran Ngoc Linh','45 Nguyen Canh Chan, Q1, TpHCM','938776266','1980-06-12','2006-05-08',3860000),\n",
        " ('CM10','Ha Duy Lap','34/34B Nguyen Trai, Q1, TpHCM','8768904','1983-05-02','2007-01-16',67500)\"\n",
        " )\n",
        "\n",
        "\n",
        "dbExecute(con, \"insert into employees (emp_id, name, phonenumber, start_date) values\n",
        "('ST04','Ngo Thanh Tuan','913758498','2006-06-24'),\n",
        "('ST02','Le Thi Phi Yen','987567390','2006-04-21'),\n",
        "('ST03','Nguyen Van B','997047382','2006-04-27'),\n",
        "('ST01','Nguyen Nhu Nhut','927345678','2006-04-13'),\n",
        "('ST05','Nguyen Thi Truc Thanh','918590387','2006-07-20')\")\n",
        "\n",
        "dbExecute(con, \"insert into  products (pro_id,pro_name,unit,pro_country, price) values\n",
        " ('NB07','note book 1','q','VietNam',7000),\n",
        " ('NB08','note book 1','q','VietNam',1000),\n",
        " ('NB09','note book 2','q','VietNam',5000),\n",
        " ('BP01','ballpoint pen','c','VietNam',5000),\n",
        " ('BP02','ballpoint pen','c','China',7000),\n",
        " ('BP03','ballpoint pen','h','Thailand',100000),\n",
        "  ('PP03','paper 300','q','VietNam',3000),\n",
        " ('PP04','paper 400','q','VietNam',5500),\n",
        " ('PP05','paper 100','q','VietNam',23000),\n",
        " ('PP06','paper 200','q','VietNam',53000),\n",
        "  ('NB02','note book 1','q','VietNam',55000),\n",
        " ('NB03','note book 2','q','VietNam',51000),\n",
        " ('NB04','note book','q','Thailand',55000),\n",
        " ('NB05','note book 1','q','Thailand',20000),\n",
        " ('PP01','paper 100','q','China',2500),\n",
        " ('PP02','paper 200','q','China',4500),\n",
        " ('PP07','paper 100','q','China',34000),\n",
        " ('NB01','note book','q','China',40000),\n",
        " ('PC01','pencil','c','Singapore',3000),\n",
        "('PC02','pencil','c','Singapore',5000),\n",
        "('PC03','pencil','c','VietNam',3500),\n",
        " ('PC04','pencil','h','VietNam',30000),\n",
        " ('NB06','note book 3','q','VietNam',5000),\n",
        " ('NB10','note book 2','q','China',7000)\")\n",
        "\n",
        "dbExecute(con, \"insert into invoice (inv_id,inv_date,cus_id ,emp_id, inv_value) values\n",
        " (1001,'2006-07-23','CM01','ST01',320000),\n",
        " (1015,'2007-01-01','CM06','ST01',910000),\n",
        "(1016,'2007-01-01','CM07','ST02',12500),\n",
        "(1017,'2007-01-02','CM08','ST03',35000),\n",
        "(1005,'2006-10-20','CM01','ST02',3800000),\n",
        "(1006,'2006-10-16','CM01','ST03',2430000),\n",
        "(1010,'2006-11-01','CM01','ST01',5200000),\n",
        "(1011,'2006-11-04','CM04','ST03',250000),\n",
        "(1012,'2006-11-30','CM05','ST03',21000),\n",
        "(1013,'2006-12-12','CM06','ST01',5000),\n",
        "(1007,'2006-10-28','CM03','ST03',510000),\n",
        "(1008,'2006-10-28','CM01','ST03',440000),\n",
        "(1009,'2006-10-28','CM03','ST04',200000),\n",
        "(1018,'2007-01-13','CM08','ST03',330000),\n",
        "(1002,'2006-08-12','CM01','ST02',840000),\n",
        "(1003,'2006-08-23','CM02','ST01',100000),\n",
        "(1004,'2006-09-01','CM02','ST01',180000),\n",
        "(1019,'2007-01-13','CM01','ST03',30000),\n",
        "(1020,'2007-01-14','CM09','ST04',70000),\n",
        "(1021,'2007-01-16','CM10','ST03',67500),\n",
        "(1022,'2007-01-16',Null,'ST03',7000),\n",
        "(1014,'2006-12-31','CM03','ST02',3150000),\n",
        "(1023,'2007-01-17',Null,'ST01',330000)\"\n",
        ")\n",
        "\n",
        "dbExecute(con, \"insert into  invoice_details (inv_id,pro_id,quantity) values\n",
        "(1001,'PP02',10),\n",
        " (1006,'PP07',20),\n",
        " (1006,'NB01',30),\n",
        " (1006,'NB02',10),\n",
        "  (1002,'BP02',20),\n",
        " (1003,'BP03',10),\n",
        " (1004,'PP01',20),\n",
        " (1004,'PP02',10),\n",
        " (1007,'NB03',10),\n",
        " (1001,'NB01',5),\n",
        " (1001,'PC01',5),\n",
        " (1001,'PC02',10),\n",
        " (1001,'PP07',10),\n",
        " (1002,'BC04',20),\n",
        " (1002,'BP01',20),\n",
        " (1008,'NB04',8),\n",
        " (1009,'NB05',10),\n",
        " (1010,'PP07',50),\n",
        " (1010,'NB07',50),\n",
        " (1004,'PP03',10),\n",
        " (1004,'PP04',10),\n",
        " (1005,'PP05',50),\n",
        " (1005,'PP06',50),\n",
        " (1014,'BP02',100),\n",
        " (1014,'PC04',60),\n",
        " (1014,'BP01',50),\n",
        " (1015,'BP02',30),\n",
        " (1010,'NB08',100),\n",
        " (1010,'NB04',50),\n",
        " (1010,'PP03',100),\n",
        " (1011,'NB06',50),\n",
        " (1012,'PP07',3),\n",
        " (1013,'NB08',5),\n",
        " (1014,'PC03',80),\n",
        " (1017,'PP03',1),\n",
        " (1017,'PP04',5),\n",
        " (1018,'NB04',6),\n",
        " (1019,'NB05',1),\n",
        " (1015,'PP03',7),\n",
        " (1016,'PP01',5),\n",
        " (1017,'PP02',1),\n",
        " (1020,'NB07',10),\n",
        " (1021,'NB08',5),\n",
        " (1021,'PP01',7),\n",
        " (1021,'PP02',10),\n",
        " (1019,'NB06',2),\n",
        " (1022,'NB07',1),\n",
        " (1023,'NB04',6)\")\n",
        "\n"
      ],
      "metadata": {
        "id": "kDmcKu40HIkO",
        "colab": {
          "base_uri": "https://localhost:8080/",
          "height": 104
        },
        "outputId": "c8e8194f-1767-4f9b-9a58-0397098dcc1a"
      },
      "execution_count": 5,
      "outputs": [
        {
          "output_type": "display_data",
          "data": {
            "text/html": [
              "10"
            ],
            "text/markdown": "10",
            "text/latex": "10",
            "text/plain": [
              "[1] 10"
            ]
          },
          "metadata": {}
        },
        {
          "output_type": "display_data",
          "data": {
            "text/html": [
              "5"
            ],
            "text/markdown": "5",
            "text/latex": "5",
            "text/plain": [
              "[1] 5"
            ]
          },
          "metadata": {}
        },
        {
          "output_type": "display_data",
          "data": {
            "text/html": [
              "24"
            ],
            "text/markdown": "24",
            "text/latex": "24",
            "text/plain": [
              "[1] 24"
            ]
          },
          "metadata": {}
        },
        {
          "output_type": "display_data",
          "data": {
            "text/html": [
              "23"
            ],
            "text/markdown": "23",
            "text/latex": "23",
            "text/plain": [
              "[1] 23"
            ]
          },
          "metadata": {}
        },
        {
          "output_type": "display_data",
          "data": {
            "text/html": [
              "48"
            ],
            "text/markdown": "48",
            "text/latex": "48",
            "text/plain": [
              "[1] 48"
            ]
          },
          "metadata": {}
        }
      ]
    },
    {
      "cell_type": "markdown",
      "source": [
        "5. (1pts) Find customers (cus_id, name) with the most purchases."
      ],
      "metadata": {
        "id": "QH812SISHWRE"
      }
    },
    {
      "cell_type": "code",
      "source": [
        "# your code\n",
        "query <- \"\n",
        "WITH CustomerTotal AS (\n",
        "    SELECT c.cus_id, c.name, SUM(i.inv_value) AS total_spent\n",
        "    FROM customers c\n",
        "    JOIN invoice i ON c.cus_id = i.cus_id\n",
        "    GROUP BY c.cus_id, c.name\n",
        ")\n",
        "SELECT cus_id, name, total_spent\n",
        "FROM CustomerTotal\n",
        "WHERE total_spent = (SELECT MAX(total_spent) FROM CustomerTotal);\"  # Use single quotes and semicolon\n",
        "\n",
        "result <- dbGetQuery(con, query)  # Execute the query using dbGetQuery\n",
        "print(result)  # Print the result"
      ],
      "metadata": {
        "id": "4PoUWhJXHV4A",
        "colab": {
          "base_uri": "https://localhost:8080/"
        },
        "outputId": "1690c61e-f9a9-436f-f244-471e48d783d7"
      },
      "execution_count": 11,
      "outputs": [
        {
          "output_type": "stream",
          "name": "stdout",
          "text": [
            "  cus_id         name total_spent\n",
            "1   CM01 Nguyen Van A    13060000\n"
          ]
        }
      ]
    },
    {
      "cell_type": "markdown",
      "source": [
        "6. (1pts) Which month in 2006 had the highest sales?"
      ],
      "metadata": {
        "id": "vp-3NHvaHVde"
      }
    },
    {
      "cell_type": "code",
      "source": [
        "query <- \"\n",
        "SELECT strftime('%Y-%m', inv_date) AS sales_month, SUM(inv_value) AS total_sales\n",
        "FROM invoice\n",
        "WHERE strftime('%Y', inv_date) = '2006'\n",
        "GROUP BY sales_month\n",
        "ORDER BY total_sales DESC\n",
        "LIMIT 1;\"\n",
        "\n",
        "result <- dbGetQuery(con, query)\n",
        "print(result)"
      ],
      "metadata": {
        "id": "EoxnH73NHUyQ",
        "colab": {
          "base_uri": "https://localhost:8080/"
        },
        "outputId": "bb101f1a-6707-4254-f124-f07f779d3721"
      },
      "execution_count": 12,
      "outputs": [
        {
          "output_type": "stream",
          "name": "stdout",
          "text": [
            "  sales_month total_sales\n",
            "1     2006-10     7380000\n"
          ]
        }
      ]
    },
    {
      "cell_type": "markdown",
      "source": [
        "7. (1pts) Print out invoice numbers and invoice values ​​for January 2007, sorted by date (ascending) and invoice value (descending)."
      ],
      "metadata": {
        "id": "rFRjI340m_fe"
      }
    },
    {
      "cell_type": "code",
      "source": [
        "# your code\n",
        "query <- \"\n",
        "SELECT inv_id,inv_date, inv_value\n",
        "FROM invoice\n",
        "WHERE strftime('%Y-%m', inv_date) = '2007-01'\n",
        "ORDER BY inv_date ASC, inv_value DESC;\"\n",
        "\n",
        "result <- dbGetQuery(con, query)\n",
        "print(result)"
      ],
      "metadata": {
        "id": "_RvIHJjlm-Yr",
        "colab": {
          "base_uri": "https://localhost:8080/"
        },
        "outputId": "b7e66f06-97e0-4283-a981-632b6c943559"
      },
      "execution_count": 15,
      "outputs": [
        {
          "output_type": "stream",
          "name": "stdout",
          "text": [
            "  inv_id   inv_date inv_value\n",
            "1   1015 2007-01-01    910000\n",
            "2   1016 2007-01-01     12500\n",
            "3   1017 2007-01-02     35000\n",
            "4   1018 2007-01-13    330000\n",
            "5   1019 2007-01-13     30000\n",
            "6   1020 2007-01-14     70000\n",
            "7   1021 2007-01-16     67500\n",
            "8   1022 2007-01-16      7000\n",
            "9   1023 2007-01-17    330000\n"
          ]
        }
      ]
    },
    {
      "cell_type": "markdown",
      "source": [
        "8. (1pts) Print out invoice numbers and invoice values ​​sold on January 1, 2007 and January 2, 2007."
      ],
      "metadata": {
        "id": "BkJEW4sKm-Pl"
      }
    },
    {
      "cell_type": "code",
      "source": [
        "# your code\n",
        "query <- \"\n",
        "SELECT inv_id, inv_value\n",
        "FROM invoice\n",
        "WHERE inv_date IN ('2007-01-01', '2007-01-02');\"\n",
        "\n",
        "result <- dbGetQuery(con, query)\n",
        "print(result)"
      ],
      "metadata": {
        "id": "LE6GmYK_m-Hp",
        "colab": {
          "base_uri": "https://localhost:8080/"
        },
        "outputId": "763f5d1d-38d3-4ca8-9717-cf68bc913557"
      },
      "execution_count": 14,
      "outputs": [
        {
          "output_type": "stream",
          "name": "stdout",
          "text": [
            "  inv_id inv_value\n",
            "1   1015    910000\n",
            "2   1016     12500\n",
            "3   1017     35000\n"
          ]
        }
      ]
    }
  ]
}