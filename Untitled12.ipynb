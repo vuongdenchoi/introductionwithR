{
  "nbformat": 4,
  "nbformat_minor": 0,
  "metadata": {
    "colab": {
      "provenance": [],
      "authorship_tag": "ABX9TyMTeasFtoegDt7xFGVvnO9h",
      "include_colab_link": true
    },
    "kernelspec": {
      "name": "ir",
      "display_name": "R"
    },
    "language_info": {
      "name": "R"
    }
  },
  "cells": [
    {
      "cell_type": "markdown",
      "metadata": {
        "id": "view-in-github",
        "colab_type": "text"
      },
      "source": [
        "<a href=\"https://colab.research.google.com/github/vuongdenchoi/introductionwithR/blob/main/Untitled12.ipynb\" target=\"_parent\"><img src=\"https://colab.research.google.com/assets/colab-badge.svg\" alt=\"Open In Colab\"/></a>"
      ]
    },
    {
      "cell_type": "code",
      "execution_count": 1,
      "metadata": {
        "id": "OgOc6tXoVj7h"
      },
      "outputs": [],
      "source": [
        "data <- data.frame(person=c('an ','phuc','hoa','ngoc', 'binh','van '),sex=c('M','M','F','F','M','F'),funny=c('high','med','low','high','high','med'))\n"
      ]
    },
    {
      "cell_type": "code",
      "source": [
        "print(data)"
      ],
      "metadata": {
        "colab": {
          "base_uri": "https://localhost:8080/"
        },
        "id": "aWFPbkesXySR",
        "outputId": "e4c64295-0401-415f-ca90-43aa25e96f46"
      },
      "execution_count": 2,
      "outputs": [
        {
          "output_type": "stream",
          "name": "stdout",
          "text": [
            "  person sex funny\n",
            "1    an    M  high\n",
            "2   phuc   M   med\n",
            "3    hoa   F   low\n",
            "4   ngoc   F  high\n",
            "5   binh   M  high\n",
            "6   van    F   med\n"
          ]
        }
      ]
    },
    {
      "cell_type": "code",
      "source": [
        "data$age <- c(25, 30, 18, 40, 21, 60)"
      ],
      "metadata": {
        "id": "whJE6HL2YaOF"
      },
      "execution_count": 10,
      "outputs": []
    },
    {
      "cell_type": "code",
      "source": [
        "print(data)"
      ],
      "metadata": {
        "colab": {
          "base_uri": "https://localhost:8080/"
        },
        "id": "7mlzVIi1YdLf",
        "outputId": "40ba9365-786b-47f0-9aa2-64fdf7a28240"
      },
      "execution_count": 11,
      "outputs": [
        {
          "output_type": "stream",
          "name": "stdout",
          "text": [
            "  person sex funny Age age\n",
            "1    an    M  high  25  25\n",
            "2   phuc   M   med  30  30\n",
            "3    hoa   F   low  18  18\n",
            "4   ngoc   F  high  40  40\n",
            "5   binh   M  high  21  21\n",
            "6   van    F   med  60  60\n"
          ]
        }
      ]
    },
    {
      "cell_type": "code",
      "source": [
        "# Sắp xếp dữ liệu theo \"Person\" tăng dần và \"Funny\" giảm dần(-rank để giảm dần)\n",
        "data_sorted <- data[order(data$person, -rank(data$funny)), ]\n",
        "\n",
        "# In ra dataframe đã sắp xếp\n",
        "print(data_sorted)\n"
      ],
      "metadata": {
        "colab": {
          "base_uri": "https://localhost:8080/"
        },
        "id": "eVsjZZiGYffC",
        "outputId": "fe38606a-0db1-4fec-bc87-12368bc080b6"
      },
      "execution_count": 12,
      "outputs": [
        {
          "output_type": "stream",
          "name": "stdout",
          "text": [
            "  person sex funny Age age\n",
            "1    an    M  high  25  25\n",
            "5   binh   M  high  21  21\n",
            "3    hoa   F   low  18  18\n",
            "4   ngoc   F  high  40  40\n",
            "2   phuc   M   med  30  30\n",
            "6   van    F   med  60  60\n"
          ]
        }
      ]
    },
    {
      "cell_type": "code",
      "source": [
        "# Thay đổi thứ tự các cột\n",
        "data_reordered <- data[, c(\"person\", \"age\", \"sex\", \"funny\")]\n",
        "\n",
        "# In ra dataframe đã thay đổi thứ tự cột\n",
        "print(data_reordered)\n"
      ],
      "metadata": {
        "colab": {
          "base_uri": "https://localhost:8080/"
        },
        "id": "v18Jbc1mZncv",
        "outputId": "0bff4dc1-9689-4687-c80a-3f61fa4db865"
      },
      "execution_count": 22,
      "outputs": [
        {
          "output_type": "stream",
          "name": "stdout",
          "text": [
            "  person age sex funny\n",
            "1    an   25   M  high\n",
            "2   phuc  30   M   med\n",
            "3    hoa  18   F   low\n",
            "4   ngoc  40   F  high\n",
            "5   binh  21   M  high\n",
            "6   van   60   F   med\n"
          ]
        }
      ]
    },
    {
      "cell_type": "code",
      "source": [
        "data1 <- data.frame(\n",
        "  person = c(\"Linh\", \"Nhan\", \"Yen\", \"Nam\"),\n",
        "  sex = c(\"F\", \"M\", \"F\", \"M\"),\n",
        "  funny = c(\"high\", \"med\", \"low\", \"high\"),\n",
        "  age=NA\n",
        ")"
      ],
      "metadata": {
        "id": "fhJFajj-dRCV"
      },
      "execution_count": 31,
      "outputs": []
    },
    {
      "cell_type": "code",
      "source": [
        "df_combined <- rbind(data_reordered, data1)"
      ],
      "metadata": {
        "id": "ue02lFucbPRi"
      },
      "execution_count": 32,
      "outputs": []
    },
    {
      "cell_type": "code",
      "source": [
        "df_combined\n"
      ],
      "metadata": {
        "colab": {
          "base_uri": "https://localhost:8080/",
          "height": 411
        },
        "id": "9o9ZguAreHqs",
        "outputId": "e0d7db24-68f0-4705-efc5-a6ae2391ce4c"
      },
      "execution_count": 34,
      "outputs": [
        {
          "output_type": "display_data",
          "data": {
            "text/html": [
              "<table class=\"dataframe\">\n",
              "<caption>A data.frame: 10 × 4</caption>\n",
              "<thead>\n",
              "\t<tr><th scope=col>person</th><th scope=col>age</th><th scope=col>sex</th><th scope=col>funny</th></tr>\n",
              "\t<tr><th scope=col>&lt;chr&gt;</th><th scope=col>&lt;dbl&gt;</th><th scope=col>&lt;chr&gt;</th><th scope=col>&lt;chr&gt;</th></tr>\n",
              "</thead>\n",
              "<tbody>\n",
              "\t<tr><td>an  </td><td>25</td><td>M</td><td>high</td></tr>\n",
              "\t<tr><td>phuc</td><td>30</td><td>M</td><td>med </td></tr>\n",
              "\t<tr><td>hoa </td><td>18</td><td>F</td><td>low </td></tr>\n",
              "\t<tr><td>ngoc</td><td>40</td><td>F</td><td>high</td></tr>\n",
              "\t<tr><td>binh</td><td>21</td><td>M</td><td>high</td></tr>\n",
              "\t<tr><td>van </td><td>60</td><td>F</td><td>med </td></tr>\n",
              "\t<tr><td>Linh</td><td>NA</td><td>F</td><td>high</td></tr>\n",
              "\t<tr><td>Nhan</td><td>NA</td><td>M</td><td>med </td></tr>\n",
              "\t<tr><td>Yen </td><td>NA</td><td>F</td><td>low </td></tr>\n",
              "\t<tr><td>Nam </td><td>NA</td><td>M</td><td>high</td></tr>\n",
              "</tbody>\n",
              "</table>\n"
            ],
            "text/markdown": "\nA data.frame: 10 × 4\n\n| person &lt;chr&gt; | age &lt;dbl&gt; | sex &lt;chr&gt; | funny &lt;chr&gt; |\n|---|---|---|---|\n| an   | 25 | M | high |\n| phuc | 30 | M | med  |\n| hoa  | 18 | F | low  |\n| ngoc | 40 | F | high |\n| binh | 21 | M | high |\n| van  | 60 | F | med  |\n| Linh | NA | F | high |\n| Nhan | NA | M | med  |\n| Yen  | NA | F | low  |\n| Nam  | NA | M | high |\n\n",
            "text/latex": "A data.frame: 10 × 4\n\\begin{tabular}{llll}\n person & age & sex & funny\\\\\n <chr> & <dbl> & <chr> & <chr>\\\\\n\\hline\n\t an   & 25 & M & high\\\\\n\t phuc & 30 & M & med \\\\\n\t hoa  & 18 & F & low \\\\\n\t ngoc & 40 & F & high\\\\\n\t binh & 21 & M & high\\\\\n\t van  & 60 & F & med \\\\\n\t Linh & NA & F & high\\\\\n\t Nhan & NA & M & med \\\\\n\t Yen  & NA & F & low \\\\\n\t Nam  & NA & M & high\\\\\n\\end{tabular}\n",
            "text/plain": [
              "   person age sex funny\n",
              "1  an     25  M   high \n",
              "2  phuc   30  M   med  \n",
              "3  hoa    18  F   low  \n",
              "4  ngoc   40  F   high \n",
              "5  binh   21  M   high \n",
              "6  van    60  F   med  \n",
              "7  Linh   NA  F   high \n",
              "8  Nhan   NA  M   med  \n",
              "9  Yen    NA  F   low  \n",
              "10 Nam    NA  M   high "
            ]
          },
          "metadata": {}
        }
      ]
    },
    {
      "cell_type": "code",
      "source": [
        "df_filtered <- df_combined[df_combined$sex == \"F\" & df_combined$funny %in% c(\"med\", \"high\"), c(\"person\", \"age\")]\n"
      ],
      "metadata": {
        "id": "ohytxYyudQ2p"
      },
      "execution_count": 35,
      "outputs": []
    },
    {
      "cell_type": "code",
      "source": [
        "df_filtered"
      ],
      "metadata": {
        "colab": {
          "base_uri": "https://localhost:8080/",
          "height": 192
        },
        "id": "Rz0qsgmReU5D",
        "outputId": "38a7acbe-c3e1-4ee4-ed45-e1b5efb66d4d"
      },
      "execution_count": 36,
      "outputs": [
        {
          "output_type": "display_data",
          "data": {
            "text/html": [
              "<table class=\"dataframe\">\n",
              "<caption>A data.frame: 3 × 2</caption>\n",
              "<thead>\n",
              "\t<tr><th></th><th scope=col>person</th><th scope=col>age</th></tr>\n",
              "\t<tr><th></th><th scope=col>&lt;chr&gt;</th><th scope=col>&lt;dbl&gt;</th></tr>\n",
              "</thead>\n",
              "<tbody>\n",
              "\t<tr><th scope=row>4</th><td>ngoc</td><td>40</td></tr>\n",
              "\t<tr><th scope=row>6</th><td>van </td><td>60</td></tr>\n",
              "\t<tr><th scope=row>7</th><td>Linh</td><td>NA</td></tr>\n",
              "</tbody>\n",
              "</table>\n"
            ],
            "text/markdown": "\nA data.frame: 3 × 2\n\n| <!--/--> | person &lt;chr&gt; | age &lt;dbl&gt; |\n|---|---|---|\n| 4 | ngoc | 40 |\n| 6 | van  | 60 |\n| 7 | Linh | NA |\n\n",
            "text/latex": "A data.frame: 3 × 2\n\\begin{tabular}{r|ll}\n  & person & age\\\\\n  & <chr> & <dbl>\\\\\n\\hline\n\t4 & ngoc & 40\\\\\n\t6 & van  & 60\\\\\n\t7 & Linh & NA\\\\\n\\end{tabular}\n",
            "text/plain": [
              "  person age\n",
              "4 ngoc   40 \n",
              "6 van    60 \n",
              "7 Linh   NA "
            ]
          },
          "metadata": {}
        }
      ]
    },
    {
      "cell_type": "markdown",
      "source": [
        "câu 6\n"
      ],
      "metadata": {
        "id": "QPP8HQExe62M"
      }
    },
    {
      "cell_type": "code",
      "source": [
        "# Cài đặt gói nếu chưa có\n",
        "install.packages(\"writexl\")\n",
        "\n",
        "# Tải thư viện\n",
        "library(writexl)\n",
        "\n",
        "# # Tạo dữ liệu\n",
        "# data <- data.frame(\n",
        "#   Vendor = c(\"Publix\", \"Walmart\", \"Piggly\"),\n",
        "#   Apples_Sold = c(293, 986, 178),\n",
        "#   Price = c(1.25, 0.75, 1.00)\n",
        "# )\n",
        "\n",
        "# Ghi dữ liệu vào tệp Excel\n",
        "write_xlsx(data, \"mydata.xlsx\")\n",
        "\n",
        "# In thông báo\n",
        "print(\"File 'mydata.xlsx' đã được tạo.\")\n"
      ],
      "metadata": {
        "colab": {
          "base_uri": "https://localhost:8080/"
        },
        "id": "U-I3WmuLe9f6",
        "outputId": "e3e77da5-1544-4c40-ba0e-612f7b588698"
      },
      "execution_count": 37,
      "outputs": [
        {
          "output_type": "stream",
          "name": "stderr",
          "text": [
            "Installing package into ‘/usr/local/lib/R/site-library’\n",
            "(as ‘lib’ is unspecified)\n",
            "\n"
          ]
        },
        {
          "output_type": "stream",
          "name": "stdout",
          "text": [
            "[1] \"File 'mydata.xlsx' đã được tạo.\"\n"
          ]
        }
      ]
    },
    {
      "cell_type": "code",
      "source": [
        "# Cài đặt gói nếu chưa có\n",
        "install.packages(\"readxl\")\n",
        "\n",
        "# Tải thư viện\n",
        "library(readxl)\n",
        "\n",
        "# Đọc dữ liệu từ tệp Excel\n",
        "data_imported <- read_excel(\"mydata.xlsx\")\n",
        "\n",
        "# In dữ liệu đã nhập\n",
        "print(data_imported)\n"
      ],
      "metadata": {
        "colab": {
          "base_uri": "https://localhost:8080/"
        },
        "id": "cRn_32vJe-_T",
        "outputId": "07272dcd-61bc-4d1e-b58e-8f57d2746c36"
      },
      "execution_count": 38,
      "outputs": [
        {
          "output_type": "stream",
          "name": "stderr",
          "text": [
            "Installing package into ‘/usr/local/lib/R/site-library’\n",
            "(as ‘lib’ is unspecified)\n",
            "\n"
          ]
        },
        {
          "output_type": "stream",
          "name": "stdout",
          "text": [
            "\u001b[90m# A tibble: 3 × 3\u001b[39m\n",
            "  Vendor  Apples_Sold Price\n",
            "  \u001b[3m\u001b[90m<chr>\u001b[39m\u001b[23m         \u001b[3m\u001b[90m<dbl>\u001b[39m\u001b[23m \u001b[3m\u001b[90m<dbl>\u001b[39m\u001b[23m\n",
            "\u001b[90m1\u001b[39m Publix          293  1.25\n",
            "\u001b[90m2\u001b[39m Walmart         986  0.75\n",
            "\u001b[90m3\u001b[39m Piggly          178  1   \n"
          ]
        }
      ]
    },
    {
      "cell_type": "code",
      "source": [
        "# Tạo dữ liệu\n",
        "people_data <- data.frame(\n",
        "  Sex = c(\"M\", \"M\", \"F\", \"F\", \"F\", \"F\", \"M\", \"F\"),\n",
        "  BirthMonth = c(3, 7, 6, 1, 1, 9, 7, 2),\n",
        "  Age = c(17, 23, 19, 23, 31, 19, 20, 22)\n",
        ")\n",
        "\n",
        "# Ghi dữ liệu vào tệp văn bản\n",
        "write.table(people_data, \"people.txt\", row.names = FALSE, sep = \"\\t\", quote = FALSE)\n",
        "\n",
        "# In thông báo\n",
        "print(\"File 'people.txt' đã được tạo.\")\n"
      ],
      "metadata": {
        "colab": {
          "base_uri": "https://localhost:8080/"
        },
        "id": "YCcLk3CefaGN",
        "outputId": "f011ee25-4e7a-4f81-b54f-ef04f6c12b23"
      },
      "execution_count": 39,
      "outputs": [
        {
          "output_type": "stream",
          "name": "stdout",
          "text": [
            "[1] \"File 'people.txt' đã được tạo.\"\n"
          ]
        }
      ]
    },
    {
      "cell_type": "code",
      "source": [
        "# Đọc dữ liệu từ tệp văn bản\n",
        "people_imported <- read.table(\"people.txt\", header = TRUE, sep = \"\\t\")\n",
        "\n",
        "# Lọc dữ liệu của nam giới và chọn cột Age và BirthMonth\n",
        "male_data <- people_imported[people_imported$Sex == \"M\", c(\"Age\", \"BirthMonth\")]\n",
        "\n",
        "# In dữ liệu đã lọc\n",
        "print(male_data)\n"
      ],
      "metadata": {
        "colab": {
          "base_uri": "https://localhost:8080/"
        },
        "id": "eKzWzoswf-xq",
        "outputId": "43d41945-7188-423a-d9e2-170f0b272c2d"
      },
      "execution_count": 40,
      "outputs": [
        {
          "output_type": "stream",
          "name": "stdout",
          "text": [
            "  Age BirthMonth\n",
            "1  17          3\n",
            "2  23          7\n",
            "7  20          7\n"
          ]
        }
      ]
    },
    {
      "cell_type": "code",
      "source": [
        "# Sửa lỗi trong vector1\n",
        "vector1 <- c(\"one\", \"two\", \"three\", \"four\", \"five\", \"seven\")\n",
        "\n",
        "# Sửa lỗi thiếu dấu ngoặc đóng trong vec.var\n",
        "vec.var <- var(c(1, 3, 5, 3, 5, 1))\n",
        "\n",
        "# Tính giá trị trung bình (mean)\n",
        "vec.mean <- mean(c(1, 3, 5, 3, 5, 1))\n",
        "\n",
        "# Sửa lỗi hàm Min thành min\n",
        "vec.Min <- min(c(1, 3, 5, 3, 5, 1))\n",
        "\n",
        "# Khai báo Vector2 đúng và gọi vector2\n",
        "Vector2 <- c(\"a\", \"b\", \"f\", \"g\")\n",
        "vector2 <- Vector2  # Gọi đúng tên biến\n",
        "\n",
        "# In kết quả\n",
        "print(vector1)\n",
        "print(vec.var)\n",
        "print(vec.mean)\n",
        "print(vec.Min)\n",
        "print(vector2)\n"
      ],
      "metadata": {
        "colab": {
          "base_uri": "https://localhost:8080/"
        },
        "id": "VBzslzcdggUY",
        "outputId": "2dfb4c14-1da2-40fa-c9c2-19940e734a85"
      },
      "execution_count": 41,
      "outputs": [
        {
          "output_type": "stream",
          "name": "stdout",
          "text": [
            "[1] \"one\"   \"two\"   \"three\" \"four\"  \"five\"  \"seven\"\n",
            "[1] 3.2\n",
            "[1] 3\n",
            "[1] 1\n",
            "[1] \"a\" \"b\" \"f\" \"g\"\n"
          ]
        }
      ]
    }
  ]
}